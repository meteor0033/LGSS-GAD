{
 "cells": [
  {
   "cell_type": "code",
   "execution_count": 1,
   "id": "2c3d2e12-c131-4ed7-8fc0-4977fa60e7e7",
   "metadata": {},
   "outputs": [],
   "source": [
    "import dgl\n",
    "import torch\n",
    "import numpy as np\n",
    "import torch.nn.functional as F\n",
    "# 其中包括激活函数, 损失函数, 池化函数 ,通过 F.xxx() 的形式，可以方便地调用 torch.nn.functional 模块中的各种函数\n",
    "import numpy\n",
    "import argparse\n",
    "import time\n",
    "from pygod.utils import load_data\n",
    "from dataset_process.local_graph_spectral import get_neighbor, neighbor_pad_or_truncate, neighbor_pad_or_truncate_list, gen_joint_structural_outlier\n",
    "from sklearn.metrics import f1_score, accuracy_score, recall_score, roc_auc_score, precision_score, confusion_matrix\n",
    "from sklearn.model_selection import train_test_split\n",
    "from pygod.generator import gen_contextual_outlier, gen_structural_outlier\n",
    "\n",
    "from model.BWGNN import *\n",
    "from sklearn.metrics import f1_score, accuracy_score, recall_score, roc_auc_score, precision_score, confusion_matrix\n",
    "from torch_geometric.utils import add_self_loops"
   ]
  },
  {
   "cell_type": "code",
   "execution_count": 2,
   "id": "bc9af476-0cb0-49e5-af87-b836a9a6b4f3",
   "metadata": {},
   "outputs": [],
   "source": [
    "# 1. 初始化超参数\n",
    "parser = argparse.ArgumentParser(description='parameters')\n",
    "parser.add_argument('--dataset', type=str, default=\"books\") #\"weibo\"，\"inj_cora\"，\"enron\",\"disney\",\"books\",\"reddit\"\n",
    "#是否 normalize features\n",
    "parser.add_argument('--normalize_feat', type=bool, default=True)\n",
    "parser.add_argument('--calculate_contextual', type=bool, default=True)\n",
    "parser.add_argument('--contextual_n', type=int, default=14)\n",
    "parser.add_argument('--contextual_k', type=int, default=5)\n",
    "parser.add_argument('--calculate_structural', type=bool, default=True)\n",
    "parser.add_argument('--structural_n', type=int, default=14)\n",
    "parser.add_argument('--structural_m', type=int, default=5)\n",
    "parser.add_argument('--use_combine_outlier', type=bool, default=False)\n",
    "parser.add_argument(\"--order\", type=int, default=2, help=\"Order C in Beta Wavelet\")\n",
    "\n",
    "#contextual_n =183  #weibo: 434 # books 14 # cora: 70；dinesy: 3; reddit: 183; Enron: 3\n",
    "#contextual_k =30  #weibo: 10 # books 5 # Cora: 10；dinesy: 5; reddit: 30; Enron: 25\n",
    "#structural_n =183  #weibo: 434 # books 14 # Cora: 70；dinesy: 3; reddit: 183; Enron: 3,\n",
    "#structural_m =30  #weibo: 10 # books 5 # Cora: 10；dinesy: 5; reddit: 30; Enron: 25,\n",
    "\n",
    "#reddit: 64+32; disney:28+32; weibo: 400+32, enron: 18+32; books:21+32; inj_cora:1433+32  ;\n",
    "parser.add_argument(\"--hid_dim_c\", type=int, default=64, help=\"Hidden layer dimension\") \n",
    "parser.add_argument(\"--hid_dim_s\", type=int, default=32, help=\"Hidden layer dimension\") \n",
    "parser.add_argument(\"--hid_dim_j\", type=int, default=32, help=\"Hidden layer dimension\") \n",
    "\n",
    "parser.add_argument(\"--train_ratio\", type=float, default=0.4, help=\"Training ratio\")\n",
    "parser.add_argument(\"--epoch\", type=int, default=500, help=\"The max number of epochs\") # For yelp，epoch =200; For amazon/tfinance/tsocial，epoch =100\n",
    "parser.add_argument(\"--run\", type=int, default=1, help=\"Running times\")\n",
    "from torch_geometric.utils import to_scipy_sparse_matrix\n",
    "from scipy.sparse.linalg import eigs\n",
    "\n",
    "args = parser.parse_args(args = [])\n",
    "\n",
    "#2. 读取数据集\n",
    "dataset_str = args.dataset\n",
    "device = torch.device(\"cuda\" if torch.cuda.is_available() else \"cpu\")\n",
    "data = load_data(dataset_str)\n",
    "\n",
    "# 计算最大特征值\n",
    "edge_index = data.edge_index\n",
    "num_nodes = data.num_nodes  # 如果需要提供节点数量\n",
    "edge_index_tensor = to_scipy_sparse_matrix(edge_index, num_nodes=num_nodes)\n",
    "#max_eigenvalue = eigs(edge_index_tensor, k=1, which='LR')[0][0].real"
   ]
  },
  {
   "cell_type": "code",
   "execution_count": 3,
   "id": "12209dd4-0606-4c9e-ab00-eb3411dfa3da",
   "metadata": {},
   "outputs": [],
   "source": [
    "#3. 节点特征归一化\n",
    "node_features = data.x \n",
    "if args.normalize_feat:\n",
    "    #特征归一化\n",
    "    node_features_min = node_features.min()\n",
    "    node_features_max = node_features.max()\n",
    "    node_features = (node_features - node_features_min)/node_features_max\n",
    "    data.x = node_features"
   ]
  },
  {
   "cell_type": "code",
   "execution_count": 4,
   "id": "a0622a8c-0632-4c7a-aafc-d51464eeb600",
   "metadata": {},
   "outputs": [
    {
     "name": "stdout",
     "output_type": "stream",
     "text": [
      "Yc: torch.Size([1418]) tensor(14)\n"
     ]
    }
   ],
   "source": [
    "#4.计算local graph features 并归一化\n",
    "# a.产生结构、属性和joint anomaly\n",
    "calculate_contextual=args.calculate_contextual\n",
    "calculate_structural=args.calculate_structural\n",
    "yc = []\n",
    "ys = []\n",
    "yj = []\n",
    "    \n",
    "if calculate_contextual:\n",
    "        \n",
    "    if dataset_str == \"inj_cora\":\n",
    "        yc = data.y >> 0 & 1 # contextual outliers\n",
    "    else:\n",
    "        data, yc = gen_contextual_outlier(data=data,n=args.contextual_n,k=args.contextual_k)\n",
    "            \n",
    "    yc = yc.cpu().detach()\n",
    "    print(\"Yc:\",yc.shape,sum(yc))\n",
    "    \n",
    "    \n",
    "if calculate_structural:\n",
    "        \n",
    "    if dataset_str == \"inj_cora\":\n",
    "        ys = data.y >> 1 & 1 # structural outliers\n",
    "    else:\n",
    "        data, ys = gen_structural_outlier(data=data,n=args.structural_n,m=args.structural_m,p=0.2)\n",
    "            \n",
    "    data, yj = gen_joint_structural_outlier(data=data,n=args.structural_n,m=args.structural_m)\n",
    "        \n",
    "    \n",
    "if args.use_combine_outlier:\n",
    "    data.y = torch.logical_or(ys, yc).int()\n",
    "        \n",
    "ysj = torch.logical_or(ys, yj).int()\n",
    "data.y = data.y.bool()    # binary labels (inlier/outlier)\n",
    "\n",
    "ys = ys.bool()\n",
    "yj = yj.bool()\n",
    "#添加自环\n",
    "data.edge_index, _ = add_self_loops(data.edge_index)"
   ]
  },
  {
   "cell_type": "code",
   "execution_count": 5,
   "id": "06e66e8a-a521-4c71-87c8-6bfa4ec4477d",
   "metadata": {},
   "outputs": [],
   "source": [
    "# b. 按键值排序，形成Substructure 特征\n",
    "dim = 100\n",
    "neighbor_dict, neighbor_num_list = get_neighbor(data,device)\n",
    "# 计算节点与所有邻居的度相似度并将其作为特征\n",
    "# 1. 按键排序，形成local graph spectral 特征\n",
    "sorted_tensors = []\n",
    "for i in range(data.x.shape[0]):\n",
    "    if i in neighbor_dict.keys():\n",
    "        degree_sims = []\n",
    "        for j in neighbor_dict[i]:\n",
    "            common_set = set(neighbor_dict[i]) & set(neighbor_dict[j])\n",
    "            count = len(common_set)\n",
    "            degree_sim = count / math.sqrt(len(neighbor_dict[i])*len(neighbor_dict[j]))\n",
    "            degree_sims.append(degree_sim)\n",
    "        sorted_tensors.append(degree_sims)\n",
    "    else:\n",
    "        vector = torch.zeros(dim)\n",
    "        sorted_tensors.append(vector)\n",
    "    \n",
    "neighbor_degree_simiarity = np.array(neighbor_pad_or_truncate_list(sorted_tensors, dim))"
   ]
  },
  {
   "cell_type": "code",
   "execution_count": 6,
   "id": "07249021-cd55-4ac7-90cb-ec4eca107bbb",
   "metadata": {},
   "outputs": [],
   "source": [
    "# For reddit\n",
    "# node_features:            torch.Size([10984, 64])\n",
    "# neighbor_spectral_tensor：torch.Size([10984, 32])\n",
    "#e. 归一化\n",
    "if args.normalize_feat:\n",
    "    #特征归一化\n",
    "    neighbor_degree_simiarity =  torch.tensor(neighbor_degree_simiarity).float()\n",
    "    neighbor_degree_simiarity_min = neighbor_degree_simiarity.real.min()\n",
    "    neighbor_degree_simiarity_max = neighbor_degree_simiarity.real.max()\n",
    "    neighbor_degree_simiarity_features = (neighbor_degree_simiarity.real - neighbor_degree_simiarity_min)/neighbor_degree_simiarity_max"
   ]
  },
  {
   "cell_type": "code",
   "execution_count": 7,
   "id": "b51f092d-3933-460d-9e93-1f2a9fa1a906",
   "metadata": {},
   "outputs": [],
   "source": [
    "graph = dgl.graph((edge_index[0], edge_index[1]), num_nodes=num_nodes)\n",
    "graph.ndata['feat'] = data.x"
   ]
  },
  {
   "cell_type": "code",
   "execution_count": 8,
   "id": "f62e07bc-ed74-475b-adb8-f6681320e749",
   "metadata": {},
   "outputs": [],
   "source": [
    "def train(model_c, model_s, model_j, data, neighbor_degree_simiarity_features, ys, yj, args):\n",
    "    # contextual_outlier\n",
    "    features_c = data.x\n",
    "    labels_c = data.y\n",
    "     # structural_outlier\n",
    "    features_s = neighbor_degree_simiarity_features\n",
    "    labels_s = ys\n",
    "     # jiont_outlier\n",
    "    features_j = neighbor_degree_simiarity_features\n",
    "    labels_j = yj\n",
    "    \n",
    "    index = list(range(len(labels_c)))\n",
    "\n",
    "    idx_train_c, idx_rest_c, y_train_c, y_rest_c = train_test_split(index, labels_c[index], stratify=labels_c[index],\n",
    "                                                            train_size=args.train_ratio,\n",
    "                                                            random_state=2, shuffle=True)\n",
    "    idx_valid_c, idx_test_c, y_valid_c, y_test_c = train_test_split(idx_rest_c, y_rest_c, stratify=y_rest_c,\n",
    "                                                            test_size=0.67,\n",
    "                                                            random_state=2, shuffle=True)\n",
    "    idx_train_s, idx_rest_s, y_train_s, y_rest_s = train_test_split(index, labels_s[index], stratify=labels_s[index],\n",
    "                                                            train_size=args.train_ratio,\n",
    "                                                            random_state=2, shuffle=True)\n",
    "    idx_valid_s, idx_test_s, y_valid_s, y_tes_s = train_test_split(idx_rest_s, y_rest_s, stratify=y_rest_s,\n",
    "                                                            test_size=0.67,\n",
    "                                                            random_state=2, shuffle=True)\n",
    "    idx_train_j, idx_rest_j, y_train_j, y_rest_j = train_test_split(index, labels_j[index], stratify=labels_j[index],\n",
    "                                                            train_size=args.train_ratio,\n",
    "                                                            random_state=2, shuffle=True)\n",
    "    idx_valid_j, idx_test_j, y_valid_j, y_tes_j = train_test_split(idx_rest_j, y_rest_j, stratify=y_rest_j,\n",
    "                                                            test_size=0.67,\n",
    "                                                            random_state=2, shuffle=True)\n",
    "    train_mask_c = torch.zeros([len(labels_c)]).bool()\n",
    "    val_mask_c = torch.zeros([len(labels_c)]).bool()\n",
    "    test_mask_c = torch.zeros([len(labels_c)]).bool()\n",
    "    train_mask_s = torch.zeros([len(labels_s)]).bool()\n",
    "    val_mask_s = torch.zeros([len(labels_s)]).bool()\n",
    "    test_mask_s = torch.zeros([len(labels_s)]).bool()\n",
    "    train_mask_j = torch.zeros([len(labels_j)]).bool()\n",
    "    val_mask_j = torch.zeros([len(labels_j)]).bool()\n",
    "    test_mask_j = torch.zeros([len(labels_j)]).bool()\n",
    "    print(\" y_train:\", y_train_c.shape, sum(y_train_c))\n",
    "    \n",
    "    train_mask_c[idx_train_c] = 1\n",
    "    val_mask_c[idx_valid_c] = 1\n",
    "    test_mask_c[idx_test_c] = 1\n",
    "    train_mask_s[idx_train_s] = 1\n",
    "    val_mask_s[idx_valid_s] = 1\n",
    "    test_mask_s[idx_test_s] = 1\n",
    "    train_mask_j[idx_train_j] = 1\n",
    "    val_mask_j[idx_valid_j] = 1\n",
    "    test_mask_j[idx_test_j] = 1\n",
    "    print('train/dev/test samples c: ', train_mask_c.sum().item(), val_mask_c.sum().item(), test_mask_c.sum().item())\n",
    "    print('train/dev/test samples  s: ', train_mask_s.sum().item(), val_mask_s.sum().item(), test_mask_s.sum().item())\n",
    "    print('train/dev/test samples  j: ', train_mask_j.sum().item(), val_mask_j.sum().item(), test_mask_j.sum().item())\n",
    "    \n",
    "    \n",
    "    optimizer_c = torch.optim.Adam(model_c.parameters(), lr=0.01)\n",
    "    optimizer_s = torch.optim.Adam(model_s.parameters(), lr=0.01)\n",
    "    optimizer_j = torch.optim.Adam(model_j.parameters(), lr=0.01)\n",
    "    \n",
    "    best_f1_c, final_tf1_c, final_trec_c, final_tpre_c, final_tmf1_c, final_tauc_c = 0., 0., 0., 0., 0., 0.\n",
    "    best_f1_s, final_tf1_s, final_trec_s, final_tpre_s, final_tmf1_s, final_tauc_s = 0., 0., 0., 0., 0., 0.\n",
    "    best_f1_j, final_tf1_j, final_trec_j, final_tpre_j, final_tmf1_j, final_tauc_j = 0., 0., 0., 0., 0., 0.\n",
    "\n",
    "\n",
    "    #对bool型的不允许“-”操作1-labels[train_mask] 改为：~labels[train_mask]\n",
    "    weight_c = (~labels_c[train_mask_c]).sum().item() / labels_c[train_mask_c].sum().item()\n",
    "    weight_s = (~labels_s[train_mask_s]).sum().item() / labels_s[train_mask_s].sum().item()\n",
    "    weight_j = (~labels_j[train_mask_j]).sum().item() / labels_j[train_mask_j].sum().item()\n",
    "    print('cross entropy weight: ', weight_c, weight_s, weight_j)\n",
    "    time_start = time.time()\n",
    "    for e in range(args.epoch):\n",
    "        # 训练\n",
    "        model_c.train()\n",
    "        model_s.train()\n",
    "        model_j.train()\n",
    "        \n",
    "        # 调用模型中的forward函数\n",
    "        logits_c = model_c(features_c)\n",
    "        logits_s = model_s(features_s)\n",
    "        logits_j = model_j(features_j)\n",
    "        \n",
    "        #labels[train_mask] 需要long型\n",
    "        loss_c = F.cross_entropy(logits_c[train_mask_c], labels_c[train_mask_c].to(torch.long), weight = torch.tensor([1., weight_c]))\n",
    "        loss_s = F.cross_entropy(logits_s[train_mask_s], labels_s[train_mask_s].to(torch.long), weight = torch.tensor([1., weight_s]))\n",
    "        loss_j = F.cross_entropy(logits_j[train_mask_j], labels_j[train_mask_j].to(torch.long), weight = torch.tensor([1., weight_j]))\n",
    "        \n",
    "        optimizer_c.zero_grad()\n",
    "        optimizer_s.zero_grad()\n",
    "        optimizer_j.zero_grad()\n",
    "        \n",
    "        loss_c.backward()\n",
    "        loss_s.backward()\n",
    "        loss_j.backward()\n",
    "        \n",
    "        optimizer_c.step()\n",
    "        optimizer_s.step()\n",
    "        optimizer_j.step()\n",
    "        \n",
    "        #验证\n",
    "        model_c.eval()\n",
    "        model_s.eval()\n",
    "        model_j.eval()\n",
    "        probs_c = logits_c.softmax(1)\n",
    "        probs_s = logits_s.softmax(1)\n",
    "        probs_j = logits_j.softmax(1)\n",
    "        \n",
    "        f1_c, thres_c = get_best_f1(labels_c[val_mask_c], probs_c[val_mask_c])\n",
    "        f1_s, thres_s = get_best_f1(labels_s[val_mask_s], probs_s[val_mask_s])\n",
    "        f1_j, thres_j = get_best_f1(labels_j[val_mask_j], probs_j[val_mask_j])\n",
    "        \n",
    "        preds_c = numpy.zeros_like(labels_c)\n",
    "        preds_c[probs_c[:, 1] > thres_c] = 1\n",
    "        preds_s = numpy.zeros_like(labels_s)\n",
    "        preds_s[probs_s[:, 1] > thres_s] = 1\n",
    "        preds_j = numpy.zeros_like(labels_j)\n",
    "        preds_j[probs_j[:, 1] > thres_j] = 1\n",
    "\n",
    "        trec_c = recall_score(labels_c[test_mask_c], preds_c[test_mask_c])\n",
    "        tpre_c = precision_score(labels_c[test_mask_c], preds_c[test_mask_c])\n",
    "        tmf1_c = f1_score(labels_c[test_mask_c], preds_c[test_mask_c], average='macro')\n",
    "        tauc_c = roc_auc_score(labels_c[test_mask_c], probs_c[test_mask_c][:, 1].detach().numpy())\n",
    "        \n",
    "        trec_s = recall_score(labels_s[test_mask_s], preds_s[test_mask_s])\n",
    "        tpre_s = precision_score(labels_s[test_mask_s], preds_s[test_mask_s])\n",
    "        tmf1_s = f1_score(labels_s[test_mask_s], preds_s[test_mask_s], average='macro')\n",
    "        tauc_s = roc_auc_score(labels_s[test_mask_s], probs_s[test_mask_s][:, 1].detach().numpy())\n",
    "\n",
    "        trec_j = recall_score(labels_j[test_mask_j], preds_j[test_mask_j])\n",
    "        tpre_j = precision_score(labels_j[test_mask_j], preds_j[test_mask_j])\n",
    "        tmf1_j = f1_score(labels_j[test_mask_j], preds_j[test_mask_j], average='macro')\n",
    "        tauc_j = roc_auc_score(labels_j[test_mask_j], probs_j[test_mask_j][:, 1].detach().numpy())\n",
    "\n",
    "        if best_f1_c < f1_c:\n",
    "            best_f1_c = f1_c\n",
    "            final_trec_c = trec_c\n",
    "            final_tpre_c = tpre_c\n",
    "            final_tmf1_c = tmf1_c\n",
    "            final_tauc_c = tauc_c\n",
    "        print('C: Epoch {}, loss: {:.4f}, val mf1: {:.4f}, (best {:.4f})'.format(e, loss_c, f1_c, best_f1_c))\n",
    "\n",
    "        if best_f1_s < f1_s:\n",
    "            best_f1_s = f1_s\n",
    "            final_trec_s = trec_s\n",
    "            final_tpre_s = tpre_s\n",
    "            final_tmf1_s = tmf1_s\n",
    "            final_tauc_s = tauc_s\n",
    "        print('s: Epoch {}, loss: {:.4f}, val mf1: {:.4f}, (best {:.4f})'.format(e, loss_s, f1_s, best_f1_s))\n",
    "\n",
    "        if best_f1_j < f1_j:\n",
    "            best_f1_j = f1_j\n",
    "            final_trec_j = trec_j\n",
    "            final_tpre_j = tpre_j\n",
    "            final_tmf1_j = tmf1_j\n",
    "            final_tauc_j = tauc_j\n",
    "        print('j: Epoch {}, loss: {:.4f}, val mf1: {:.4f}, (best {:.4f})'.format(e, loss_j, f1_j, best_f1_j))\n",
    "\n",
    "    time_end = time.time()\n",
    "    print('time cost: ', time_end - time_start, 's')\n",
    "    print('Test_c: REC {:.2f} PRE {:.2f} MF1 {:.2f} AUC {:.2f}'.format(final_trec_c*100,\n",
    "                                                                     final_tpre_c*100, final_tmf1_c*100, final_tauc_c*100))\n",
    "    print('Test_s: REC {:.2f} PRE {:.2f} MF1 {:.2f} AUC {:.2f}'.format(final_trec_s*100,\n",
    "                                                                     final_tpre_s*100, final_tmf1_s*100, final_tauc_s*100))\n",
    "    print('Test_j: REC {:.2f} PRE {:.2f} MF1 {:.2f} AUC {:.2f}'.format(final_trec_j*100,\n",
    "                                                                     final_tpre_j*100, final_tmf1_j*100, final_tauc_j*100))\n",
    "\n",
    "    return final_tmf1_c, final_tauc_c, final_tmf1_s, final_tauc_s, final_tmf1_j, final_tauc_j\n",
    "\n",
    "\n",
    "# threshold adjusting for best macro f1\n",
    "def get_best_f1(labels, probs):\n",
    "    best_f1, best_thre = 0, 0\n",
    "    for thres in np.linspace(0.05, 0.95, 19):\n",
    "        #构建一个与labels同维度的数组,并初始化所有变量为零\n",
    "        preds = np.zeros_like(labels)\n",
    "        preds[probs[:,1] > thres] = 1\n",
    "        #average='binary'：计算二分类问题中的 F1 分数（默认值）。\n",
    "        #average='micro'：对所有类别的真实和预测样本进行汇总，然后计算 F1 分数。\n",
    "        #average='macro'：计算每个类别的 F1 分数，然后取平均值。\n",
    "        #average=None：返回每个类别的 F1 分数。\n",
    "        # F1_score 详细原理间“备份”\n",
    "        mf1 = f1_score(labels, preds, average='macro')\n",
    "        if mf1 > best_f1:\n",
    "            best_f1 = mf1\n",
    "            best_thre = thres\n",
    "    return best_f1, best_thre\n"
   ]
  },
  {
   "cell_type": "code",
   "execution_count": 9,
   "id": "f804113f-b380-42d4-bd15-6d33e826b136",
   "metadata": {},
   "outputs": [
    {
     "name": "stdout",
     "output_type": "stream",
     "text": [
      " y_train: torch.Size([567]) tensor(11)\n",
      "train/dev/test samples c:  567 280 571\n",
      "train/dev/test samples  s:  567 280 571\n",
      "train/dev/test samples  j:  567 280 571\n",
      "cross entropy weight:  50.54545454545455 19.25 93.5\n",
      "C: Epoch 0, loss: 0.6889, val mf1: 0.4946, (best 0.4946)\n",
      "s: Epoch 0, loss: 0.7056, val mf1: 0.4872, (best 0.4872)\n",
      "j: Epoch 0, loss: 0.6945, val mf1: 0.4973, (best 0.4973)\n"
     ]
    },
    {
     "name": "stderr",
     "output_type": "stream",
     "text": [
      "C:\\ProgramData\\anaconda3\\lib\\site-packages\\sklearn\\metrics\\_classification.py:1531: UndefinedMetricWarning: Precision is ill-defined and being set to 0.0 due to no predicted samples. Use `zero_division` parameter to control this behavior.\n",
      "  _warn_prf(average, modifier, f\"{metric.capitalize()} is\", len(result))\n",
      "C:\\ProgramData\\anaconda3\\lib\\site-packages\\sklearn\\metrics\\_classification.py:1531: UndefinedMetricWarning: Precision is ill-defined and being set to 0.0 due to no predicted samples. Use `zero_division` parameter to control this behavior.\n",
      "  _warn_prf(average, modifier, f\"{metric.capitalize()} is\", len(result))\n",
      "C:\\ProgramData\\anaconda3\\lib\\site-packages\\sklearn\\metrics\\_classification.py:1531: UndefinedMetricWarning: Precision is ill-defined and being set to 0.0 due to no predicted samples. Use `zero_division` parameter to control this behavior.\n",
      "  _warn_prf(average, modifier, f\"{metric.capitalize()} is\", len(result))\n",
      "C:\\ProgramData\\anaconda3\\lib\\site-packages\\sklearn\\metrics\\_classification.py:1531: UndefinedMetricWarning: Precision is ill-defined and being set to 0.0 due to no predicted samples. Use `zero_division` parameter to control this behavior.\n",
      "  _warn_prf(average, modifier, f\"{metric.capitalize()} is\", len(result))\n",
      "C:\\ProgramData\\anaconda3\\lib\\site-packages\\sklearn\\metrics\\_classification.py:1531: UndefinedMetricWarning: Precision is ill-defined and being set to 0.0 due to no predicted samples. Use `zero_division` parameter to control this behavior.\n",
      "  _warn_prf(average, modifier, f\"{metric.capitalize()} is\", len(result))\n"
     ]
    },
    {
     "name": "stdout",
     "output_type": "stream",
     "text": [
      "C: Epoch 1, loss: 0.6628, val mf1: 0.4946, (best 0.4946)\n",
      "s: Epoch 1, loss: 0.6897, val mf1: 0.4918, (best 0.4918)\n",
      "j: Epoch 1, loss: 0.6921, val mf1: 0.4973, (best 0.4973)\n",
      "C: Epoch 2, loss: 0.6503, val mf1: 0.4946, (best 0.4946)\n",
      "s: Epoch 2, loss: 0.6824, val mf1: 0.4872, (best 0.4918)\n",
      "j: Epoch 2, loss: 0.6889, val mf1: 0.4973, (best 0.4973)\n"
     ]
    },
    {
     "name": "stderr",
     "output_type": "stream",
     "text": [
      "C:\\ProgramData\\anaconda3\\lib\\site-packages\\sklearn\\metrics\\_classification.py:1531: UndefinedMetricWarning: Precision is ill-defined and being set to 0.0 due to no predicted samples. Use `zero_division` parameter to control this behavior.\n",
      "  _warn_prf(average, modifier, f\"{metric.capitalize()} is\", len(result))\n",
      "C:\\ProgramData\\anaconda3\\lib\\site-packages\\sklearn\\metrics\\_classification.py:1531: UndefinedMetricWarning: Precision is ill-defined and being set to 0.0 due to no predicted samples. Use `zero_division` parameter to control this behavior.\n",
      "  _warn_prf(average, modifier, f\"{metric.capitalize()} is\", len(result))\n",
      "C:\\ProgramData\\anaconda3\\lib\\site-packages\\sklearn\\metrics\\_classification.py:1531: UndefinedMetricWarning: Precision is ill-defined and being set to 0.0 due to no predicted samples. Use `zero_division` parameter to control this behavior.\n",
      "  _warn_prf(average, modifier, f\"{metric.capitalize()} is\", len(result))\n",
      "C:\\ProgramData\\anaconda3\\lib\\site-packages\\sklearn\\metrics\\_classification.py:1531: UndefinedMetricWarning: Precision is ill-defined and being set to 0.0 due to no predicted samples. Use `zero_division` parameter to control this behavior.\n",
      "  _warn_prf(average, modifier, f\"{metric.capitalize()} is\", len(result))\n"
     ]
    },
    {
     "name": "stdout",
     "output_type": "stream",
     "text": [
      "C: Epoch 3, loss: 0.6345, val mf1: 0.4946, (best 0.4946)\n",
      "s: Epoch 3, loss: 0.6758, val mf1: 0.4872, (best 0.4918)\n",
      "j: Epoch 3, loss: 0.6853, val mf1: 0.4973, (best 0.4973)\n",
      "C: Epoch 4, loss: 0.6232, val mf1: 0.4946, (best 0.4946)\n",
      "s: Epoch 4, loss: 0.6609, val mf1: 0.5530, (best 0.5530)\n",
      "j: Epoch 4, loss: 0.6788, val mf1: 0.4973, (best 0.4973)\n"
     ]
    },
    {
     "name": "stderr",
     "output_type": "stream",
     "text": [
      "C:\\ProgramData\\anaconda3\\lib\\site-packages\\sklearn\\metrics\\_classification.py:1531: UndefinedMetricWarning: Precision is ill-defined and being set to 0.0 due to no predicted samples. Use `zero_division` parameter to control this behavior.\n",
      "  _warn_prf(average, modifier, f\"{metric.capitalize()} is\", len(result))\n",
      "C:\\ProgramData\\anaconda3\\lib\\site-packages\\sklearn\\metrics\\_classification.py:1531: UndefinedMetricWarning: Precision is ill-defined and being set to 0.0 due to no predicted samples. Use `zero_division` parameter to control this behavior.\n",
      "  _warn_prf(average, modifier, f\"{metric.capitalize()} is\", len(result))\n",
      "C:\\ProgramData\\anaconda3\\lib\\site-packages\\sklearn\\metrics\\_classification.py:1531: UndefinedMetricWarning: Precision is ill-defined and being set to 0.0 due to no predicted samples. Use `zero_division` parameter to control this behavior.\n",
      "  _warn_prf(average, modifier, f\"{metric.capitalize()} is\", len(result))\n"
     ]
    },
    {
     "name": "stdout",
     "output_type": "stream",
     "text": [
      "C: Epoch 5, loss: 0.6056, val mf1: 0.5453, (best 0.5453)\n",
      "s: Epoch 5, loss: 0.6366, val mf1: 0.5774, (best 0.5774)\n",
      "j: Epoch 5, loss: 0.6685, val mf1: 0.4973, (best 0.4973)\n",
      "C: Epoch 6, loss: 0.5955, val mf1: 0.5367, (best 0.5453)\n",
      "s: Epoch 6, loss: 0.6031, val mf1: 0.6756, (best 0.6756)\n",
      "j: Epoch 6, loss: 0.6540, val mf1: 0.4973, (best 0.4973)\n"
     ]
    },
    {
     "name": "stderr",
     "output_type": "stream",
     "text": [
      "C:\\ProgramData\\anaconda3\\lib\\site-packages\\sklearn\\metrics\\_classification.py:1531: UndefinedMetricWarning: Precision is ill-defined and being set to 0.0 due to no predicted samples. Use `zero_division` parameter to control this behavior.\n",
      "  _warn_prf(average, modifier, f\"{metric.capitalize()} is\", len(result))\n",
      "C:\\ProgramData\\anaconda3\\lib\\site-packages\\sklearn\\metrics\\_classification.py:1531: UndefinedMetricWarning: Precision is ill-defined and being set to 0.0 due to no predicted samples. Use `zero_division` parameter to control this behavior.\n",
      "  _warn_prf(average, modifier, f\"{metric.capitalize()} is\", len(result))\n"
     ]
    },
    {
     "name": "stdout",
     "output_type": "stream",
     "text": [
      "C: Epoch 7, loss: 0.5872, val mf1: 0.5408, (best 0.5453)\n",
      "s: Epoch 7, loss: 0.5605, val mf1: 0.8107, (best 0.8107)\n",
      "j: Epoch 7, loss: 0.6340, val mf1: 0.4973, (best 0.4973)\n",
      "C: Epoch 8, loss: 0.5855, val mf1: 0.5408, (best 0.5453)\n",
      "s: Epoch 8, loss: 0.5110, val mf1: 0.8268, (best 0.8268)\n",
      "j: Epoch 8, loss: 0.6073, val mf1: 0.4973, (best 0.4973)\n",
      "C: Epoch 9, loss: 0.5812, val mf1: 0.5408, (best 0.5453)\n",
      "s: Epoch 9, loss: 0.4592, val mf1: 0.8581, (best 0.8581)\n",
      "j: Epoch 9, loss: 0.5759, val mf1: 0.4973, (best 0.4973)\n",
      "C: Epoch 10, loss: 0.5790, val mf1: 0.5408, (best 0.5453)\n",
      "s: Epoch 10, loss: 0.4122, val mf1: 0.8866, (best 0.8866)\n",
      "j: Epoch 10, loss: 0.5383, val mf1: 0.4973, (best 0.4973)\n",
      "C: Epoch 11, loss: 0.5718, val mf1: 0.5340, (best 0.5453)\n",
      "s: Epoch 11, loss: 0.3719, val mf1: 0.8866, (best 0.8866)\n",
      "j: Epoch 11, loss: 0.4995, val mf1: 0.4973, (best 0.4973)\n",
      "C: Epoch 12, loss: 0.5675, val mf1: 0.5340, (best 0.5453)\n",
      "s: Epoch 12, loss: 0.3396, val mf1: 0.8866, (best 0.8866)\n",
      "j: Epoch 12, loss: 0.4599, val mf1: 0.4973, (best 0.4973)\n",
      "C: Epoch 13, loss: 0.5675, val mf1: 0.5408, (best 0.5453)\n",
      "s: Epoch 13, loss: 0.3167, val mf1: 0.8866, (best 0.8866)\n",
      "j: Epoch 13, loss: 0.4221, val mf1: 0.4973, (best 0.4973)\n",
      "C: Epoch 14, loss: 0.5676, val mf1: 0.5340, (best 0.5453)\n",
      "s: Epoch 14, loss: 0.2946, val mf1: 0.8866, (best 0.8866)\n",
      "j: Epoch 14, loss: 0.3863, val mf1: 0.4973, (best 0.4973)\n",
      "C: Epoch 15, loss: 0.5659, val mf1: 0.5408, (best 0.5453)\n",
      "s: Epoch 15, loss: 0.2803, val mf1: 0.8120, (best 0.8866)\n",
      "j: Epoch 15, loss: 0.3533, val mf1: 0.4973, (best 0.4973)\n",
      "C: Epoch 16, loss: 0.5627, val mf1: 0.5408, (best 0.5453)\n",
      "s: Epoch 16, loss: 0.2652, val mf1: 0.8120, (best 0.8866)\n",
      "j: Epoch 16, loss: 0.3256, val mf1: 0.4973, (best 0.4973)\n",
      "C: Epoch 17, loss: 0.5601, val mf1: 0.5369, (best 0.5453)\n",
      "s: Epoch 17, loss: 0.2504, val mf1: 0.8387, (best 0.8866)\n",
      "j: Epoch 17, loss: 0.3068, val mf1: 0.4955, (best 0.4973)\n",
      "C: Epoch 18, loss: 0.5569, val mf1: 0.5333, (best 0.5453)\n",
      "s: Epoch 18, loss: 0.2404, val mf1: 0.8387, (best 0.8866)\n",
      "j: Epoch 18, loss: 0.2713, val mf1: 0.4973, (best 0.4973)\n",
      "C: Epoch 19, loss: 0.5564, val mf1: 0.5333, (best 0.5453)\n",
      "s: Epoch 19, loss: 0.2343, val mf1: 0.8249, (best 0.8866)\n",
      "j: Epoch 19, loss: 0.2511, val mf1: 0.4973, (best 0.4973)\n",
      "C: Epoch 20, loss: 0.5540, val mf1: 0.5333, (best 0.5453)\n",
      "s: Epoch 20, loss: 0.2279, val mf1: 0.8249, (best 0.8866)\n",
      "j: Epoch 20, loss: 0.2384, val mf1: 0.4937, (best 0.4973)\n",
      "C: Epoch 21, loss: 0.5507, val mf1: 0.5211, (best 0.5453)\n",
      "s: Epoch 21, loss: 0.2198, val mf1: 0.8387, (best 0.8866)\n",
      "j: Epoch 21, loss: 0.2095, val mf1: 0.5048, (best 0.5048)\n",
      "C: Epoch 22, loss: 0.5490, val mf1: 0.5239, (best 0.5453)\n",
      "s: Epoch 22, loss: 0.2090, val mf1: 0.8387, (best 0.8866)\n",
      "j: Epoch 22, loss: 0.2067, val mf1: 0.5211, (best 0.5211)\n",
      "C: Epoch 23, loss: 0.5471, val mf1: 0.5239, (best 0.5453)\n",
      "s: Epoch 23, loss: 0.1997, val mf1: 0.8387, (best 0.8866)\n",
      "j: Epoch 23, loss: 0.1901, val mf1: 0.5185, (best 0.5211)\n",
      "C: Epoch 24, loss: 0.5450, val mf1: 0.5239, (best 0.5453)\n",
      "s: Epoch 24, loss: 0.1932, val mf1: 0.8387, (best 0.8866)\n",
      "j: Epoch 24, loss: 0.1843, val mf1: 0.5211, (best 0.5211)\n",
      "C: Epoch 25, loss: 0.5405, val mf1: 0.5124, (best 0.5453)\n",
      "s: Epoch 25, loss: 0.1899, val mf1: 0.8535, (best 0.8866)\n",
      "j: Epoch 25, loss: 0.1652, val mf1: 0.5269, (best 0.5269)\n",
      "C: Epoch 26, loss: 0.5387, val mf1: 0.5136, (best 0.5453)\n",
      "s: Epoch 26, loss: 0.1869, val mf1: 0.8694, (best 0.8866)\n",
      "j: Epoch 26, loss: 0.1736, val mf1: 0.5369, (best 0.5369)\n",
      "C: Epoch 27, loss: 0.5397, val mf1: 0.5103, (best 0.5453)\n",
      "s: Epoch 27, loss: 0.1817, val mf1: 0.8694, (best 0.8866)\n",
      "j: Epoch 27, loss: 0.1624, val mf1: 0.5185, (best 0.5369)\n",
      "C: Epoch 28, loss: 0.5378, val mf1: 0.5124, (best 0.5453)\n",
      "s: Epoch 28, loss: 0.1763, val mf1: 0.8694, (best 0.8866)\n",
      "j: Epoch 28, loss: 0.1647, val mf1: 0.5113, (best 0.5369)\n",
      "C: Epoch 29, loss: 0.5345, val mf1: 0.5103, (best 0.5453)\n",
      "s: Epoch 29, loss: 0.1714, val mf1: 0.8694, (best 0.8866)\n",
      "j: Epoch 29, loss: 0.1453, val mf1: 0.5113, (best 0.5369)\n",
      "C: Epoch 30, loss: 0.5331, val mf1: 0.4946, (best 0.5453)\n",
      "s: Epoch 30, loss: 0.1690, val mf1: 0.8694, (best 0.8866)\n",
      "j: Epoch 30, loss: 0.1264, val mf1: 0.5160, (best 0.5369)\n"
     ]
    },
    {
     "name": "stderr",
     "output_type": "stream",
     "text": [
      "C:\\ProgramData\\anaconda3\\lib\\site-packages\\sklearn\\metrics\\_classification.py:1531: UndefinedMetricWarning: Precision is ill-defined and being set to 0.0 due to no predicted samples. Use `zero_division` parameter to control this behavior.\n",
      "  _warn_prf(average, modifier, f\"{metric.capitalize()} is\", len(result))\n",
      "C:\\ProgramData\\anaconda3\\lib\\site-packages\\sklearn\\metrics\\_classification.py:1531: UndefinedMetricWarning: Precision is ill-defined and being set to 0.0 due to no predicted samples. Use `zero_division` parameter to control this behavior.\n",
      "  _warn_prf(average, modifier, f\"{metric.capitalize()} is\", len(result))\n"
     ]
    },
    {
     "name": "stdout",
     "output_type": "stream",
     "text": [
      "C: Epoch 31, loss: 0.5316, val mf1: 0.4946, (best 0.5453)\n",
      "s: Epoch 31, loss: 0.1657, val mf1: 0.8694, (best 0.8866)\n",
      "j: Epoch 31, loss: 0.1540, val mf1: 0.5185, (best 0.5369)\n",
      "C: Epoch 32, loss: 0.5354, val mf1: 0.4946, (best 0.5453)\n",
      "s: Epoch 32, loss: 0.1624, val mf1: 0.8694, (best 0.8866)\n",
      "j: Epoch 32, loss: 0.1313, val mf1: 0.4990, (best 0.5369)\n",
      "C: Epoch 33, loss: 0.5388, val mf1: 0.5113, (best 0.5453)\n",
      "s: Epoch 33, loss: 0.1576, val mf1: 0.8694, (best 0.8866)\n",
      "j: Epoch 33, loss: 0.1403, val mf1: 0.4909, (best 0.5369)\n",
      "C: Epoch 34, loss: 0.5327, val mf1: 0.5103, (best 0.5453)\n",
      "s: Epoch 34, loss: 0.1538, val mf1: 0.8694, (best 0.8866)\n",
      "j: Epoch 34, loss: 0.1487, val mf1: 0.4928, (best 0.5369)\n"
     ]
    },
    {
     "name": "stderr",
     "output_type": "stream",
     "text": [
      "C:\\ProgramData\\anaconda3\\lib\\site-packages\\sklearn\\metrics\\_classification.py:1531: UndefinedMetricWarning: Precision is ill-defined and being set to 0.0 due to no predicted samples. Use `zero_division` parameter to control this behavior.\n",
      "  _warn_prf(average, modifier, f\"{metric.capitalize()} is\", len(result))\n"
     ]
    },
    {
     "name": "stdout",
     "output_type": "stream",
     "text": [
      "C: Epoch 35, loss: 0.5314, val mf1: 0.4946, (best 0.5453)\n",
      "s: Epoch 35, loss: 0.1498, val mf1: 0.8694, (best 0.8866)\n",
      "j: Epoch 35, loss: 0.1167, val mf1: 0.4990, (best 0.5369)\n",
      "C: Epoch 36, loss: 0.5347, val mf1: 0.5113, (best 0.5453)\n",
      "s: Epoch 36, loss: 0.1460, val mf1: 0.8694, (best 0.8866)\n",
      "j: Epoch 36, loss: 0.1090, val mf1: 0.5069, (best 0.5369)\n",
      "C: Epoch 37, loss: 0.5287, val mf1: 0.4946, (best 0.5453)\n",
      "s: Epoch 37, loss: 0.1410, val mf1: 0.8694, (best 0.8866)\n",
      "j: Epoch 37, loss: 0.1491, val mf1: 0.5048, (best 0.5369)\n",
      "C: Epoch 38, loss: 0.5292, val mf1: 0.4946, (best 0.5453)\n",
      "s: Epoch 38, loss: 0.1357, val mf1: 0.8694, (best 0.8866)\n",
      "j: Epoch 38, loss: 0.1152, val mf1: 0.4953, (best 0.5369)\n"
     ]
    },
    {
     "name": "stderr",
     "output_type": "stream",
     "text": [
      "C:\\ProgramData\\anaconda3\\lib\\site-packages\\sklearn\\metrics\\_classification.py:1531: UndefinedMetricWarning: Precision is ill-defined and being set to 0.0 due to no predicted samples. Use `zero_division` parameter to control this behavior.\n",
      "  _warn_prf(average, modifier, f\"{metric.capitalize()} is\", len(result))\n"
     ]
    },
    {
     "name": "stdout",
     "output_type": "stream",
     "text": [
      "C: Epoch 39, loss: 0.5290, val mf1: 0.5060, (best 0.5453)\n",
      "s: Epoch 39, loss: 0.1311, val mf1: 0.8694, (best 0.8866)\n",
      "j: Epoch 39, loss: 0.1373, val mf1: 0.4894, (best 0.5369)\n",
      "C: Epoch 40, loss: 0.5254, val mf1: 0.5103, (best 0.5453)\n",
      "s: Epoch 40, loss: 0.1278, val mf1: 0.8694, (best 0.8866)\n",
      "j: Epoch 40, loss: 0.1552, val mf1: 0.4912, (best 0.5369)\n"
     ]
    },
    {
     "name": "stderr",
     "output_type": "stream",
     "text": [
      "C:\\ProgramData\\anaconda3\\lib\\site-packages\\sklearn\\metrics\\_classification.py:1531: UndefinedMetricWarning: Precision is ill-defined and being set to 0.0 due to no predicted samples. Use `zero_division` parameter to control this behavior.\n",
      "  _warn_prf(average, modifier, f\"{metric.capitalize()} is\", len(result))\n"
     ]
    },
    {
     "name": "stdout",
     "output_type": "stream",
     "text": [
      "C: Epoch 41, loss: 0.5289, val mf1: 0.4946, (best 0.5453)\n",
      "s: Epoch 41, loss: 0.1243, val mf1: 0.8694, (best 0.8866)\n",
      "j: Epoch 41, loss: 0.1274, val mf1: 0.4909, (best 0.5369)\n",
      "C: Epoch 42, loss: 0.5246, val mf1: 0.5146, (best 0.5453)\n",
      "s: Epoch 42, loss: 0.1206, val mf1: 0.8694, (best 0.8866)\n",
      "j: Epoch 42, loss: 0.0959, val mf1: 0.4928, (best 0.5369)\n",
      "C: Epoch 43, loss: 0.5232, val mf1: 0.5124, (best 0.5453)\n",
      "s: Epoch 43, loss: 0.1168, val mf1: 0.8694, (best 0.8866)\n",
      "j: Epoch 43, loss: 0.0978, val mf1: 0.4928, (best 0.5369)\n",
      "C: Epoch 44, loss: 0.5220, val mf1: 0.4946, (best 0.5453)\n",
      "s: Epoch 44, loss: 0.1137, val mf1: 0.8694, (best 0.8866)\n",
      "j: Epoch 44, loss: 0.1524, val mf1: 0.4937, (best 0.5369)\n"
     ]
    },
    {
     "name": "stderr",
     "output_type": "stream",
     "text": [
      "C:\\ProgramData\\anaconda3\\lib\\site-packages\\sklearn\\metrics\\_classification.py:1531: UndefinedMetricWarning: Precision is ill-defined and being set to 0.0 due to no predicted samples. Use `zero_division` parameter to control this behavior.\n",
      "  _warn_prf(average, modifier, f\"{metric.capitalize()} is\", len(result))\n",
      "C:\\ProgramData\\anaconda3\\lib\\site-packages\\sklearn\\metrics\\_classification.py:1531: UndefinedMetricWarning: Precision is ill-defined and being set to 0.0 due to no predicted samples. Use `zero_division` parameter to control this behavior.\n",
      "  _warn_prf(average, modifier, f\"{metric.capitalize()} is\", len(result))\n"
     ]
    },
    {
     "name": "stdout",
     "output_type": "stream",
     "text": [
      "C: Epoch 45, loss: 0.5226, val mf1: 0.4946, (best 0.5453)\n",
      "s: Epoch 45, loss: 0.1108, val mf1: 0.8694, (best 0.8866)\n",
      "j: Epoch 45, loss: 0.1110, val mf1: 0.4909, (best 0.5369)\n",
      "C: Epoch 46, loss: 0.5254, val mf1: 0.4946, (best 0.5453)\n",
      "s: Epoch 46, loss: 0.1076, val mf1: 0.8694, (best 0.8866)\n",
      "j: Epoch 46, loss: 0.1262, val mf1: 0.4930, (best 0.5369)\n",
      "C: Epoch 47, loss: 0.5251, val mf1: 0.5124, (best 0.5453)\n",
      "s: Epoch 47, loss: 0.1047, val mf1: 0.8694, (best 0.8866)\n",
      "j: Epoch 47, loss: 0.1399, val mf1: 0.5028, (best 0.5369)\n",
      "C: Epoch 48, loss: 0.5236, val mf1: 0.4946, (best 0.5453)\n",
      "s: Epoch 48, loss: 0.1019, val mf1: 0.8694, (best 0.8866)\n",
      "j: Epoch 48, loss: 0.1563, val mf1: 0.4909, (best 0.5369)\n"
     ]
    },
    {
     "name": "stderr",
     "output_type": "stream",
     "text": [
      "C:\\ProgramData\\anaconda3\\lib\\site-packages\\sklearn\\metrics\\_classification.py:1531: UndefinedMetricWarning: Precision is ill-defined and being set to 0.0 due to no predicted samples. Use `zero_division` parameter to control this behavior.\n",
      "  _warn_prf(average, modifier, f\"{metric.capitalize()} is\", len(result))\n",
      "C:\\ProgramData\\anaconda3\\lib\\site-packages\\sklearn\\metrics\\_classification.py:1531: UndefinedMetricWarning: Precision is ill-defined and being set to 0.0 due to no predicted samples. Use `zero_division` parameter to control this behavior.\n",
      "  _warn_prf(average, modifier, f\"{metric.capitalize()} is\", len(result))\n"
     ]
    },
    {
     "name": "stdout",
     "output_type": "stream",
     "text": [
      "C: Epoch 49, loss: 0.5216, val mf1: 0.4946, (best 0.5453)\n",
      "s: Epoch 49, loss: 0.0990, val mf1: 0.8694, (best 0.8866)\n",
      "j: Epoch 49, loss: 0.1030, val mf1: 0.4968, (best 0.5369)\n",
      "C: Epoch 50, loss: 0.5206, val mf1: 0.5160, (best 0.5453)\n",
      "s: Epoch 50, loss: 0.0965, val mf1: 0.8694, (best 0.8866)\n",
      "j: Epoch 50, loss: 0.0933, val mf1: 0.4928, (best 0.5369)\n"
     ]
    },
    {
     "name": "stderr",
     "output_type": "stream",
     "text": [
      "C:\\ProgramData\\anaconda3\\lib\\site-packages\\sklearn\\metrics\\_classification.py:1531: UndefinedMetricWarning: Precision is ill-defined and being set to 0.0 due to no predicted samples. Use `zero_division` parameter to control this behavior.\n",
      "  _warn_prf(average, modifier, f\"{metric.capitalize()} is\", len(result))\n"
     ]
    },
    {
     "name": "stdout",
     "output_type": "stream",
     "text": [
      "C: Epoch 51, loss: 0.5209, val mf1: 0.4946, (best 0.5453)\n",
      "s: Epoch 51, loss: 0.0935, val mf1: 0.8694, (best 0.8866)\n",
      "j: Epoch 51, loss: 0.0932, val mf1: 0.4928, (best 0.5369)\n",
      "C: Epoch 52, loss: 0.5222, val mf1: 0.5160, (best 0.5453)\n",
      "s: Epoch 52, loss: 0.0908, val mf1: 0.8694, (best 0.8866)\n",
      "j: Epoch 52, loss: 0.1382, val mf1: 0.4946, (best 0.5369)\n",
      "C: Epoch 53, loss: 0.5241, val mf1: 0.5146, (best 0.5453)\n",
      "s: Epoch 53, loss: 0.0888, val mf1: 0.8694, (best 0.8866)\n",
      "j: Epoch 53, loss: 0.0901, val mf1: 0.4928, (best 0.5369)\n",
      "C: Epoch 54, loss: 0.5270, val mf1: 0.4946, (best 0.5453)\n",
      "s: Epoch 54, loss: 0.0862, val mf1: 0.8694, (best 0.8866)\n",
      "j: Epoch 54, loss: 0.0909, val mf1: 0.4928, (best 0.5369)\n",
      "C: Epoch 55, loss: 0.5207, val mf1: 0.4946, (best 0.5453)\n",
      "s: Epoch 55, loss: 0.0834, val mf1: 0.8694, (best 0.8866)\n",
      "j: Epoch 55, loss: 0.0953, val mf1: 0.4928, (best 0.5369)\n",
      "C: Epoch 56, loss: 0.5206, val mf1: 0.5136, (best 0.5453)\n",
      "s: Epoch 56, loss: 0.0799, val mf1: 0.8694, (best 0.8866)\n",
      "j: Epoch 56, loss: 0.1116, val mf1: 0.4953, (best 0.5369)\n",
      "C: Epoch 57, loss: 0.5216, val mf1: 0.5081, (best 0.5453)\n",
      "s: Epoch 57, loss: 0.0769, val mf1: 0.8694, (best 0.8866)\n",
      "j: Epoch 57, loss: 0.1043, val mf1: 0.4937, (best 0.5369)\n",
      "C: Epoch 58, loss: 0.5205, val mf1: 0.5160, (best 0.5453)\n",
      "s: Epoch 58, loss: 0.0745, val mf1: 0.8694, (best 0.8866)\n",
      "j: Epoch 58, loss: 0.0838, val mf1: 0.4928, (best 0.5369)\n"
     ]
    },
    {
     "name": "stderr",
     "output_type": "stream",
     "text": [
      "C:\\ProgramData\\anaconda3\\lib\\site-packages\\sklearn\\metrics\\_classification.py:1531: UndefinedMetricWarning: Precision is ill-defined and being set to 0.0 due to no predicted samples. Use `zero_division` parameter to control this behavior.\n",
      "  _warn_prf(average, modifier, f\"{metric.capitalize()} is\", len(result))\n",
      "C:\\ProgramData\\anaconda3\\lib\\site-packages\\sklearn\\metrics\\_classification.py:1531: UndefinedMetricWarning: Precision is ill-defined and being set to 0.0 due to no predicted samples. Use `zero_division` parameter to control this behavior.\n",
      "  _warn_prf(average, modifier, f\"{metric.capitalize()} is\", len(result))\n"
     ]
    },
    {
     "name": "stdout",
     "output_type": "stream",
     "text": [
      "C: Epoch 59, loss: 0.5229, val mf1: 0.4946, (best 0.5453)\n",
      "s: Epoch 59, loss: 0.0720, val mf1: 0.8694, (best 0.8866)\n",
      "j: Epoch 59, loss: 0.0773, val mf1: 0.4928, (best 0.5369)\n",
      "C: Epoch 60, loss: 0.5173, val mf1: 0.4946, (best 0.5453)\n",
      "s: Epoch 60, loss: 0.0695, val mf1: 0.8694, (best 0.8866)\n",
      "j: Epoch 60, loss: 0.0752, val mf1: 0.4928, (best 0.5369)\n",
      "C: Epoch 61, loss: 0.5182, val mf1: 0.5160, (best 0.5453)\n",
      "s: Epoch 61, loss: 0.0673, val mf1: 0.8694, (best 0.8866)\n",
      "j: Epoch 61, loss: 0.0775, val mf1: 0.4946, (best 0.5369)\n",
      "C: Epoch 62, loss: 0.5161, val mf1: 0.5160, (best 0.5453)\n",
      "s: Epoch 62, loss: 0.0647, val mf1: 0.8694, (best 0.8866)\n",
      "j: Epoch 62, loss: 0.0895, val mf1: 0.4946, (best 0.5369)\n",
      "C: Epoch 63, loss: 0.5138, val mf1: 0.5160, (best 0.5453)\n",
      "s: Epoch 63, loss: 0.0627, val mf1: 0.8694, (best 0.8866)\n",
      "j: Epoch 63, loss: 0.0742, val mf1: 0.4946, (best 0.5369)\n",
      "C: Epoch 64, loss: 0.5114, val mf1: 0.4946, (best 0.5453)\n",
      "s: Epoch 64, loss: 0.0607, val mf1: 0.8694, (best 0.8866)\n",
      "j: Epoch 64, loss: 0.0737, val mf1: 0.4928, (best 0.5369)\n"
     ]
    },
    {
     "name": "stderr",
     "output_type": "stream",
     "text": [
      "C:\\ProgramData\\anaconda3\\lib\\site-packages\\sklearn\\metrics\\_classification.py:1531: UndefinedMetricWarning: Precision is ill-defined and being set to 0.0 due to no predicted samples. Use `zero_division` parameter to control this behavior.\n",
      "  _warn_prf(average, modifier, f\"{metric.capitalize()} is\", len(result))\n"
     ]
    },
    {
     "name": "stdout",
     "output_type": "stream",
     "text": [
      "C: Epoch 65, loss: 0.5176, val mf1: 0.4946, (best 0.5453)\n",
      "s: Epoch 65, loss: 0.0583, val mf1: 0.8694, (best 0.8866)\n",
      "j: Epoch 65, loss: 0.0707, val mf1: 0.4928, (best 0.5369)\n",
      "C: Epoch 66, loss: 0.5139, val mf1: 0.4946, (best 0.5453)\n",
      "s: Epoch 66, loss: 0.0568, val mf1: 0.8694, (best 0.8866)\n",
      "j: Epoch 66, loss: 0.0716, val mf1: 0.4928, (best 0.5369)\n"
     ]
    },
    {
     "name": "stderr",
     "output_type": "stream",
     "text": [
      "C:\\ProgramData\\anaconda3\\lib\\site-packages\\sklearn\\metrics\\_classification.py:1531: UndefinedMetricWarning: Precision is ill-defined and being set to 0.0 due to no predicted samples. Use `zero_division` parameter to control this behavior.\n",
      "  _warn_prf(average, modifier, f\"{metric.capitalize()} is\", len(result))\n"
     ]
    },
    {
     "name": "stdout",
     "output_type": "stream",
     "text": [
      "C: Epoch 67, loss: 0.5154, val mf1: 0.5136, (best 0.5453)\n",
      "s: Epoch 67, loss: 0.0550, val mf1: 0.8694, (best 0.8866)\n",
      "j: Epoch 67, loss: 0.0713, val mf1: 0.4928, (best 0.5369)\n",
      "C: Epoch 68, loss: 0.5161, val mf1: 0.5160, (best 0.5453)\n",
      "s: Epoch 68, loss: 0.0536, val mf1: 0.8694, (best 0.8866)\n",
      "j: Epoch 68, loss: 0.0706, val mf1: 0.4928, (best 0.5369)\n",
      "C: Epoch 69, loss: 0.5170, val mf1: 0.5160, (best 0.5453)\n",
      "s: Epoch 69, loss: 0.0523, val mf1: 0.8694, (best 0.8866)\n",
      "j: Epoch 69, loss: 0.0692, val mf1: 0.4928, (best 0.5369)\n",
      "C: Epoch 70, loss: 0.5129, val mf1: 0.4946, (best 0.5453)\n",
      "s: Epoch 70, loss: 0.0519, val mf1: 0.8694, (best 0.8866)\n",
      "j: Epoch 70, loss: 0.0664, val mf1: 0.4937, (best 0.5369)\n"
     ]
    },
    {
     "name": "stderr",
     "output_type": "stream",
     "text": [
      "C:\\ProgramData\\anaconda3\\lib\\site-packages\\sklearn\\metrics\\_classification.py:1531: UndefinedMetricWarning: Precision is ill-defined and being set to 0.0 due to no predicted samples. Use `zero_division` parameter to control this behavior.\n",
      "  _warn_prf(average, modifier, f\"{metric.capitalize()} is\", len(result))\n",
      "C:\\ProgramData\\anaconda3\\lib\\site-packages\\sklearn\\metrics\\_classification.py:1531: UndefinedMetricWarning: Precision is ill-defined and being set to 0.0 due to no predicted samples. Use `zero_division` parameter to control this behavior.\n",
      "  _warn_prf(average, modifier, f\"{metric.capitalize()} is\", len(result))\n"
     ]
    },
    {
     "name": "stdout",
     "output_type": "stream",
     "text": [
      "C: Epoch 71, loss: 0.5157, val mf1: 0.4946, (best 0.5453)\n",
      "s: Epoch 71, loss: 0.0517, val mf1: 0.8694, (best 0.8866)\n",
      "j: Epoch 71, loss: 0.0629, val mf1: 0.4946, (best 0.5369)\n",
      "C: Epoch 72, loss: 0.5144, val mf1: 0.5185, (best 0.5453)\n",
      "s: Epoch 72, loss: 0.0493, val mf1: 0.8694, (best 0.8866)\n",
      "j: Epoch 72, loss: 0.0614, val mf1: 0.4946, (best 0.5369)\n"
     ]
    },
    {
     "name": "stderr",
     "output_type": "stream",
     "text": [
      "C:\\ProgramData\\anaconda3\\lib\\site-packages\\sklearn\\metrics\\_classification.py:1531: UndefinedMetricWarning: Precision is ill-defined and being set to 0.0 due to no predicted samples. Use `zero_division` parameter to control this behavior.\n",
      "  _warn_prf(average, modifier, f\"{metric.capitalize()} is\", len(result))\n"
     ]
    },
    {
     "name": "stdout",
     "output_type": "stream",
     "text": [
      "C: Epoch 73, loss: 0.5124, val mf1: 0.4946, (best 0.5453)\n",
      "s: Epoch 73, loss: 0.0493, val mf1: 0.8694, (best 0.8866)\n",
      "j: Epoch 73, loss: 0.0624, val mf1: 0.4946, (best 0.5369)\n",
      "C: Epoch 74, loss: 0.5145, val mf1: 0.5160, (best 0.5453)\n",
      "s: Epoch 74, loss: 0.0501, val mf1: 0.8694, (best 0.8866)\n",
      "j: Epoch 74, loss: 0.0610, val mf1: 0.4946, (best 0.5369)\n",
      "C: Epoch 75, loss: 0.5121, val mf1: 0.5160, (best 0.5453)\n",
      "s: Epoch 75, loss: 0.0476, val mf1: 0.8694, (best 0.8866)\n",
      "j: Epoch 75, loss: 0.0586, val mf1: 0.4946, (best 0.5369)\n",
      "C: Epoch 76, loss: 0.5155, val mf1: 0.5160, (best 0.5453)\n",
      "s: Epoch 76, loss: 0.0464, val mf1: 0.8694, (best 0.8866)\n",
      "j: Epoch 76, loss: 0.0572, val mf1: 0.4946, (best 0.5369)\n"
     ]
    },
    {
     "name": "stderr",
     "output_type": "stream",
     "text": [
      "C:\\ProgramData\\anaconda3\\lib\\site-packages\\sklearn\\metrics\\_classification.py:1531: UndefinedMetricWarning: Precision is ill-defined and being set to 0.0 due to no predicted samples. Use `zero_division` parameter to control this behavior.\n",
      "  _warn_prf(average, modifier, f\"{metric.capitalize()} is\", len(result))\n",
      "C:\\ProgramData\\anaconda3\\lib\\site-packages\\sklearn\\metrics\\_classification.py:1531: UndefinedMetricWarning: Precision is ill-defined and being set to 0.0 due to no predicted samples. Use `zero_division` parameter to control this behavior.\n",
      "  _warn_prf(average, modifier, f\"{metric.capitalize()} is\", len(result))\n"
     ]
    },
    {
     "name": "stdout",
     "output_type": "stream",
     "text": [
      "C: Epoch 77, loss: 0.5138, val mf1: 0.4946, (best 0.5453)\n",
      "s: Epoch 77, loss: 0.0460, val mf1: 0.8694, (best 0.8866)\n",
      "j: Epoch 77, loss: 0.0561, val mf1: 0.4937, (best 0.5369)\n",
      "C: Epoch 78, loss: 0.5160, val mf1: 0.4946, (best 0.5453)\n",
      "s: Epoch 78, loss: 0.0440, val mf1: 0.8694, (best 0.8866)\n",
      "j: Epoch 78, loss: 0.0557, val mf1: 0.4937, (best 0.5369)\n"
     ]
    },
    {
     "name": "stderr",
     "output_type": "stream",
     "text": [
      "C:\\ProgramData\\anaconda3\\lib\\site-packages\\sklearn\\metrics\\_classification.py:1531: UndefinedMetricWarning: Precision is ill-defined and being set to 0.0 due to no predicted samples. Use `zero_division` parameter to control this behavior.\n",
      "  _warn_prf(average, modifier, f\"{metric.capitalize()} is\", len(result))\n",
      "C:\\ProgramData\\anaconda3\\lib\\site-packages\\sklearn\\metrics\\_classification.py:1531: UndefinedMetricWarning: Precision is ill-defined and being set to 0.0 due to no predicted samples. Use `zero_division` parameter to control this behavior.\n",
      "  _warn_prf(average, modifier, f\"{metric.capitalize()} is\", len(result))\n"
     ]
    },
    {
     "name": "stdout",
     "output_type": "stream",
     "text": [
      "C: Epoch 79, loss: 0.5129, val mf1: 0.4946, (best 0.5453)\n",
      "s: Epoch 79, loss: 0.0437, val mf1: 0.8694, (best 0.8866)\n",
      "j: Epoch 79, loss: 0.0544, val mf1: 0.4937, (best 0.5369)\n",
      "C: Epoch 80, loss: 0.5170, val mf1: 0.4946, (best 0.5453)\n",
      "s: Epoch 80, loss: 0.0441, val mf1: 0.8694, (best 0.8866)\n",
      "j: Epoch 80, loss: 0.0542, val mf1: 0.4937, (best 0.5369)\n",
      "C: Epoch 81, loss: 0.5128, val mf1: 0.5160, (best 0.5453)\n",
      "s: Epoch 81, loss: 0.0424, val mf1: 0.8694, (best 0.8866)\n",
      "j: Epoch 81, loss: 0.0542, val mf1: 0.4937, (best 0.5369)\n",
      "C: Epoch 82, loss: 0.5125, val mf1: 0.5160, (best 0.5453)\n",
      "s: Epoch 82, loss: 0.0413, val mf1: 0.8694, (best 0.8866)\n",
      "j: Epoch 82, loss: 0.0525, val mf1: 0.4937, (best 0.5369)\n",
      "C: Epoch 83, loss: 0.5087, val mf1: 0.5160, (best 0.5453)\n",
      "s: Epoch 83, loss: 0.0430, val mf1: 0.8694, (best 0.8866)\n",
      "j: Epoch 83, loss: 0.0510, val mf1: 0.4937, (best 0.5369)\n",
      "C: Epoch 84, loss: 0.5163, val mf1: 0.4946, (best 0.5453)\n",
      "s: Epoch 84, loss: 0.0397, val mf1: 0.8694, (best 0.8866)\n",
      "j: Epoch 84, loss: 0.0502, val mf1: 0.4937, (best 0.5369)\n"
     ]
    },
    {
     "name": "stderr",
     "output_type": "stream",
     "text": [
      "C:\\ProgramData\\anaconda3\\lib\\site-packages\\sklearn\\metrics\\_classification.py:1531: UndefinedMetricWarning: Precision is ill-defined and being set to 0.0 due to no predicted samples. Use `zero_division` parameter to control this behavior.\n",
      "  _warn_prf(average, modifier, f\"{metric.capitalize()} is\", len(result))\n",
      "C:\\ProgramData\\anaconda3\\lib\\site-packages\\sklearn\\metrics\\_classification.py:1531: UndefinedMetricWarning: Precision is ill-defined and being set to 0.0 due to no predicted samples. Use `zero_division` parameter to control this behavior.\n",
      "  _warn_prf(average, modifier, f\"{metric.capitalize()} is\", len(result))\n"
     ]
    },
    {
     "name": "stdout",
     "output_type": "stream",
     "text": [
      "C: Epoch 85, loss: 0.5100, val mf1: 0.4946, (best 0.5453)\n",
      "s: Epoch 85, loss: 0.0404, val mf1: 0.8694, (best 0.8866)\n",
      "j: Epoch 85, loss: 0.0497, val mf1: 0.4937, (best 0.5369)\n",
      "C: Epoch 86, loss: 0.5125, val mf1: 0.5160, (best 0.5453)\n",
      "s: Epoch 86, loss: 0.0411, val mf1: 0.8694, (best 0.8866)\n",
      "j: Epoch 86, loss: 0.0485, val mf1: 0.4937, (best 0.5369)\n",
      "C: Epoch 87, loss: 0.5128, val mf1: 0.5160, (best 0.5453)\n",
      "s: Epoch 87, loss: 0.0379, val mf1: 0.8694, (best 0.8866)\n",
      "j: Epoch 87, loss: 0.0480, val mf1: 0.4937, (best 0.5369)\n",
      "C: Epoch 88, loss: 0.5114, val mf1: 0.5185, (best 0.5453)\n",
      "s: Epoch 88, loss: 0.0423, val mf1: 0.8694, (best 0.8866)\n",
      "j: Epoch 88, loss: 0.0481, val mf1: 0.4937, (best 0.5369)\n"
     ]
    },
    {
     "name": "stderr",
     "output_type": "stream",
     "text": [
      "C:\\ProgramData\\anaconda3\\lib\\site-packages\\sklearn\\metrics\\_classification.py:1531: UndefinedMetricWarning: Precision is ill-defined and being set to 0.0 due to no predicted samples. Use `zero_division` parameter to control this behavior.\n",
      "  _warn_prf(average, modifier, f\"{metric.capitalize()} is\", len(result))\n",
      "C:\\ProgramData\\anaconda3\\lib\\site-packages\\sklearn\\metrics\\_classification.py:1531: UndefinedMetricWarning: Precision is ill-defined and being set to 0.0 due to no predicted samples. Use `zero_division` parameter to control this behavior.\n",
      "  _warn_prf(average, modifier, f\"{metric.capitalize()} is\", len(result))\n"
     ]
    },
    {
     "name": "stdout",
     "output_type": "stream",
     "text": [
      "C: Epoch 89, loss: 0.5106, val mf1: 0.4946, (best 0.5453)\n",
      "s: Epoch 89, loss: 0.0470, val mf1: 0.8535, (best 0.8866)\n",
      "j: Epoch 89, loss: 0.0475, val mf1: 0.4937, (best 0.5369)\n",
      "C: Epoch 90, loss: 0.5108, val mf1: 0.4946, (best 0.5453)\n",
      "s: Epoch 90, loss: 0.0418, val mf1: 0.8694, (best 0.8866)\n",
      "j: Epoch 90, loss: 0.0473, val mf1: 0.4937, (best 0.5369)\n",
      "C: Epoch 91, loss: 0.5121, val mf1: 0.5160, (best 0.5453)\n",
      "s: Epoch 91, loss: 0.0494, val mf1: 0.8694, (best 0.8866)\n",
      "j: Epoch 91, loss: 0.0463, val mf1: 0.4937, (best 0.5369)\n",
      "C: Epoch 92, loss: 0.5117, val mf1: 0.5160, (best 0.5453)\n",
      "s: Epoch 92, loss: 0.0475, val mf1: 0.8535, (best 0.8866)\n",
      "j: Epoch 92, loss: 0.0460, val mf1: 0.4937, (best 0.5369)\n",
      "C: Epoch 93, loss: 0.5095, val mf1: 0.5160, (best 0.5453)\n",
      "s: Epoch 93, loss: 0.0506, val mf1: 0.8364, (best 0.8866)\n",
      "j: Epoch 93, loss: 0.0450, val mf1: 0.4937, (best 0.5369)\n",
      "C: Epoch 94, loss: 0.5164, val mf1: 0.5160, (best 0.5453)\n",
      "s: Epoch 94, loss: 0.0387, val mf1: 0.8694, (best 0.8866)\n",
      "j: Epoch 94, loss: 0.0441, val mf1: 0.4937, (best 0.5369)\n",
      "C: Epoch 95, loss: 0.5122, val mf1: 0.5160, (best 0.5453)\n",
      "s: Epoch 95, loss: 0.0679, val mf1: 0.8694, (best 0.8866)\n",
      "j: Epoch 95, loss: 0.0439, val mf1: 0.4937, (best 0.5369)\n",
      "C: Epoch 96, loss: 0.5135, val mf1: 0.5113, (best 0.5453)\n",
      "s: Epoch 96, loss: 0.0793, val mf1: 0.8122, (best 0.8866)\n",
      "j: Epoch 96, loss: 0.0428, val mf1: 0.4937, (best 0.5369)\n"
     ]
    },
    {
     "name": "stderr",
     "output_type": "stream",
     "text": [
      "C:\\ProgramData\\anaconda3\\lib\\site-packages\\sklearn\\metrics\\_classification.py:1531: UndefinedMetricWarning: Precision is ill-defined and being set to 0.0 due to no predicted samples. Use `zero_division` parameter to control this behavior.\n",
      "  _warn_prf(average, modifier, f\"{metric.capitalize()} is\", len(result))\n",
      "C:\\ProgramData\\anaconda3\\lib\\site-packages\\sklearn\\metrics\\_classification.py:1531: UndefinedMetricWarning: Precision is ill-defined and being set to 0.0 due to no predicted samples. Use `zero_division` parameter to control this behavior.\n",
      "  _warn_prf(average, modifier, f\"{metric.capitalize()} is\", len(result))\n"
     ]
    },
    {
     "name": "stdout",
     "output_type": "stream",
     "text": [
      "C: Epoch 97, loss: 0.5142, val mf1: 0.4946, (best 0.5453)\n",
      "s: Epoch 97, loss: 0.1179, val mf1: 0.7907, (best 0.8866)\n",
      "j: Epoch 97, loss: 0.0434, val mf1: 0.4937, (best 0.5369)\n",
      "C: Epoch 98, loss: 0.5176, val mf1: 0.4946, (best 0.5453)\n",
      "s: Epoch 98, loss: 0.0474, val mf1: 0.8638, (best 0.8866)\n",
      "j: Epoch 98, loss: 0.0419, val mf1: 0.4937, (best 0.5369)\n"
     ]
    },
    {
     "name": "stderr",
     "output_type": "stream",
     "text": [
      "C:\\ProgramData\\anaconda3\\lib\\site-packages\\sklearn\\metrics\\_classification.py:1531: UndefinedMetricWarning: Precision is ill-defined and being set to 0.0 due to no predicted samples. Use `zero_division` parameter to control this behavior.\n",
      "  _warn_prf(average, modifier, f\"{metric.capitalize()} is\", len(result))\n"
     ]
    },
    {
     "name": "stdout",
     "output_type": "stream",
     "text": [
      "C: Epoch 99, loss: 0.5132, val mf1: 0.4946, (best 0.5453)\n",
      "s: Epoch 99, loss: 0.1044, val mf1: 0.8694, (best 0.8866)\n",
      "j: Epoch 99, loss: 0.0424, val mf1: 0.4937, (best 0.5369)\n",
      "C: Epoch 100, loss: 0.5125, val mf1: 0.4946, (best 0.5453)\n",
      "s: Epoch 100, loss: 0.0486, val mf1: 0.8694, (best 0.8866)\n",
      "j: Epoch 100, loss: 0.0415, val mf1: 0.4937, (best 0.5369)\n",
      "C: Epoch 101, loss: 0.5145, val mf1: 0.5160, (best 0.5453)\n",
      "s: Epoch 101, loss: 0.1109, val mf1: 0.7907, (best 0.8866)\n",
      "j: Epoch 101, loss: 0.0414, val mf1: 0.4937, (best 0.5369)\n",
      "C: Epoch 102, loss: 0.5138, val mf1: 0.5160, (best 0.5453)\n",
      "s: Epoch 102, loss: 0.1499, val mf1: 0.7808, (best 0.8866)\n",
      "j: Epoch 102, loss: 0.0404, val mf1: 0.4937, (best 0.5369)\n",
      "C: Epoch 103, loss: 0.5176, val mf1: 0.5160, (best 0.5453)\n",
      "s: Epoch 103, loss: 0.1568, val mf1: 0.8122, (best 0.8866)\n",
      "j: Epoch 103, loss: 0.0397, val mf1: 0.4937, (best 0.5369)\n",
      "C: Epoch 104, loss: 0.5198, val mf1: 0.4946, (best 0.5453)\n",
      "s: Epoch 104, loss: 0.1417, val mf1: 0.8364, (best 0.8866)\n",
      "j: Epoch 104, loss: 0.0386, val mf1: 0.4937, (best 0.5369)\n"
     ]
    },
    {
     "name": "stderr",
     "output_type": "stream",
     "text": [
      "C:\\ProgramData\\anaconda3\\lib\\site-packages\\sklearn\\metrics\\_classification.py:1531: UndefinedMetricWarning: Precision is ill-defined and being set to 0.0 due to no predicted samples. Use `zero_division` parameter to control this behavior.\n",
      "  _warn_prf(average, modifier, f\"{metric.capitalize()} is\", len(result))\n",
      "C:\\ProgramData\\anaconda3\\lib\\site-packages\\sklearn\\metrics\\_classification.py:1531: UndefinedMetricWarning: Precision is ill-defined and being set to 0.0 due to no predicted samples. Use `zero_division` parameter to control this behavior.\n",
      "  _warn_prf(average, modifier, f\"{metric.capitalize()} is\", len(result))\n"
     ]
    },
    {
     "name": "stdout",
     "output_type": "stream",
     "text": [
      "C: Epoch 105, loss: 0.5203, val mf1: 0.4946, (best 0.5453)\n",
      "s: Epoch 105, loss: 0.1042, val mf1: 0.8122, (best 0.8866)\n",
      "j: Epoch 105, loss: 0.0385, val mf1: 0.4946, (best 0.5369)\n",
      "C: Epoch 106, loss: 0.5164, val mf1: 0.4946, (best 0.5453)\n",
      "s: Epoch 106, loss: 0.0763, val mf1: 0.8638, (best 0.8866)\n",
      "j: Epoch 106, loss: 0.0377, val mf1: 0.4946, (best 0.5369)\n"
     ]
    },
    {
     "name": "stderr",
     "output_type": "stream",
     "text": [
      "C:\\ProgramData\\anaconda3\\lib\\site-packages\\sklearn\\metrics\\_classification.py:1531: UndefinedMetricWarning: Precision is ill-defined and being set to 0.0 due to no predicted samples. Use `zero_division` parameter to control this behavior.\n",
      "  _warn_prf(average, modifier, f\"{metric.capitalize()} is\", len(result))\n"
     ]
    },
    {
     "name": "stdout",
     "output_type": "stream",
     "text": [
      "C: Epoch 107, loss: 0.5179, val mf1: 0.5091, (best 0.5453)\n",
      "s: Epoch 107, loss: 0.0649, val mf1: 0.8694, (best 0.8866)\n",
      "j: Epoch 107, loss: 0.0376, val mf1: 0.4946, (best 0.5369)\n",
      "C: Epoch 108, loss: 0.5171, val mf1: 0.5091, (best 0.5453)\n",
      "s: Epoch 108, loss: 0.0769, val mf1: 0.8694, (best 0.8866)\n",
      "j: Epoch 108, loss: 0.0368, val mf1: 0.4946, (best 0.5369)\n",
      "C: Epoch 109, loss: 0.5134, val mf1: 0.5160, (best 0.5453)\n",
      "s: Epoch 109, loss: 0.0507, val mf1: 0.8694, (best 0.8866)\n",
      "j: Epoch 109, loss: 0.0359, val mf1: 0.4955, (best 0.5369)\n",
      "C: Epoch 110, loss: 0.5131, val mf1: 0.4946, (best 0.5453)\n",
      "s: Epoch 110, loss: 0.0493, val mf1: 0.8387, (best 0.8866)\n",
      "j: Epoch 110, loss: 0.0353, val mf1: 0.4955, (best 0.5369)\n"
     ]
    },
    {
     "name": "stderr",
     "output_type": "stream",
     "text": [
      "C:\\ProgramData\\anaconda3\\lib\\site-packages\\sklearn\\metrics\\_classification.py:1531: UndefinedMetricWarning: Precision is ill-defined and being set to 0.0 due to no predicted samples. Use `zero_division` parameter to control this behavior.\n",
      "  _warn_prf(average, modifier, f\"{metric.capitalize()} is\", len(result))\n"
     ]
    },
    {
     "name": "stdout",
     "output_type": "stream",
     "text": [
      "C: Epoch 111, loss: 0.5109, val mf1: 0.5160, (best 0.5453)\n",
      "s: Epoch 111, loss: 0.0560, val mf1: 0.8249, (best 0.8866)\n",
      "j: Epoch 111, loss: 0.0356, val mf1: 0.4955, (best 0.5369)\n",
      "C: Epoch 112, loss: 0.5112, val mf1: 0.5160, (best 0.5453)\n",
      "s: Epoch 112, loss: 0.0627, val mf1: 0.8249, (best 0.8866)\n",
      "j: Epoch 112, loss: 0.0347, val mf1: 0.4955, (best 0.5369)\n",
      "C: Epoch 113, loss: 0.5113, val mf1: 0.5160, (best 0.5453)\n",
      "s: Epoch 113, loss: 0.0604, val mf1: 0.8364, (best 0.8866)\n",
      "j: Epoch 113, loss: 0.0343, val mf1: 0.4955, (best 0.5369)\n",
      "C: Epoch 114, loss: 0.5110, val mf1: 0.5160, (best 0.5453)\n",
      "s: Epoch 114, loss: 0.0538, val mf1: 0.8364, (best 0.8866)\n",
      "j: Epoch 114, loss: 0.0341, val mf1: 0.4946, (best 0.5369)\n"
     ]
    },
    {
     "name": "stderr",
     "output_type": "stream",
     "text": [
      "C:\\ProgramData\\anaconda3\\lib\\site-packages\\sklearn\\metrics\\_classification.py:1531: UndefinedMetricWarning: Precision is ill-defined and being set to 0.0 due to no predicted samples. Use `zero_division` parameter to control this behavior.\n",
      "  _warn_prf(average, modifier, f\"{metric.capitalize()} is\", len(result))\n",
      "C:\\ProgramData\\anaconda3\\lib\\site-packages\\sklearn\\metrics\\_classification.py:1531: UndefinedMetricWarning: Precision is ill-defined and being set to 0.0 due to no predicted samples. Use `zero_division` parameter to control this behavior.\n",
      "  _warn_prf(average, modifier, f\"{metric.capitalize()} is\", len(result))\n"
     ]
    },
    {
     "name": "stdout",
     "output_type": "stream",
     "text": [
      "C: Epoch 115, loss: 0.5100, val mf1: 0.4946, (best 0.5453)\n",
      "s: Epoch 115, loss: 0.0508, val mf1: 0.8694, (best 0.8866)\n",
      "j: Epoch 115, loss: 0.0339, val mf1: 0.4946, (best 0.5369)\n",
      "C: Epoch 116, loss: 0.5076, val mf1: 0.4946, (best 0.5453)\n",
      "s: Epoch 116, loss: 0.0503, val mf1: 0.8694, (best 0.8866)\n",
      "j: Epoch 116, loss: 0.0333, val mf1: 0.4937, (best 0.5369)\n",
      "C: Epoch 117, loss: 0.5136, val mf1: 0.5211, (best 0.5453)\n",
      "s: Epoch 117, loss: 0.0463, val mf1: 0.8694, (best 0.8866)\n",
      "j: Epoch 117, loss: 0.0324, val mf1: 0.4946, (best 0.5369)\n",
      "C: Epoch 118, loss: 0.5124, val mf1: 0.5185, (best 0.5453)\n",
      "s: Epoch 118, loss: 0.0445, val mf1: 0.8694, (best 0.8866)\n",
      "j: Epoch 118, loss: 0.0320, val mf1: 0.4955, (best 0.5369)\n",
      "C: Epoch 119, loss: 0.5134, val mf1: 0.5160, (best 0.5453)\n",
      "s: Epoch 119, loss: 0.0452, val mf1: 0.8694, (best 0.8866)\n",
      "j: Epoch 119, loss: 0.0324, val mf1: 0.4955, (best 0.5369)\n",
      "C: Epoch 120, loss: 0.5103, val mf1: 0.4946, (best 0.5453)\n",
      "s: Epoch 120, loss: 0.0442, val mf1: 0.8694, (best 0.8866)\n",
      "j: Epoch 120, loss: 0.0320, val mf1: 0.4955, (best 0.5369)\n"
     ]
    },
    {
     "name": "stderr",
     "output_type": "stream",
     "text": [
      "C:\\ProgramData\\anaconda3\\lib\\site-packages\\sklearn\\metrics\\_classification.py:1531: UndefinedMetricWarning: Precision is ill-defined and being set to 0.0 due to no predicted samples. Use `zero_division` parameter to control this behavior.\n",
      "  _warn_prf(average, modifier, f\"{metric.capitalize()} is\", len(result))\n",
      "C:\\ProgramData\\anaconda3\\lib\\site-packages\\sklearn\\metrics\\_classification.py:1531: UndefinedMetricWarning: Precision is ill-defined and being set to 0.0 due to no predicted samples. Use `zero_division` parameter to control this behavior.\n",
      "  _warn_prf(average, modifier, f\"{metric.capitalize()} is\", len(result))\n"
     ]
    },
    {
     "name": "stdout",
     "output_type": "stream",
     "text": [
      "C: Epoch 121, loss: 0.5111, val mf1: 0.4946, (best 0.5453)\n",
      "s: Epoch 121, loss: 0.0442, val mf1: 0.8694, (best 0.8866)\n",
      "j: Epoch 121, loss: 0.0307, val mf1: 0.4955, (best 0.5369)\n",
      "C: Epoch 122, loss: 0.5120, val mf1: 0.4946, (best 0.5453)\n",
      "s: Epoch 122, loss: 0.0439, val mf1: 0.8694, (best 0.8866)\n",
      "j: Epoch 122, loss: 0.0309, val mf1: 0.4955, (best 0.5369)\n"
     ]
    },
    {
     "name": "stderr",
     "output_type": "stream",
     "text": [
      "C:\\ProgramData\\anaconda3\\lib\\site-packages\\sklearn\\metrics\\_classification.py:1531: UndefinedMetricWarning: Precision is ill-defined and being set to 0.0 due to no predicted samples. Use `zero_division` parameter to control this behavior.\n",
      "  _warn_prf(average, modifier, f\"{metric.capitalize()} is\", len(result))\n"
     ]
    },
    {
     "name": "stdout",
     "output_type": "stream",
     "text": [
      "C: Epoch 123, loss: 0.5119, val mf1: 0.5160, (best 0.5453)\n",
      "s: Epoch 123, loss: 0.0408, val mf1: 0.8694, (best 0.8866)\n",
      "j: Epoch 123, loss: 0.0306, val mf1: 0.4946, (best 0.5369)\n",
      "C: Epoch 124, loss: 0.5119, val mf1: 0.5160, (best 0.5453)\n",
      "s: Epoch 124, loss: 0.0382, val mf1: 0.8694, (best 0.8866)\n",
      "j: Epoch 124, loss: 0.0302, val mf1: 0.4946, (best 0.5369)\n"
     ]
    },
    {
     "name": "stderr",
     "output_type": "stream",
     "text": [
      "C:\\ProgramData\\anaconda3\\lib\\site-packages\\sklearn\\metrics\\_classification.py:1531: UndefinedMetricWarning: Precision is ill-defined and being set to 0.0 due to no predicted samples. Use `zero_division` parameter to control this behavior.\n",
      "  _warn_prf(average, modifier, f\"{metric.capitalize()} is\", len(result))\n",
      "C:\\ProgramData\\anaconda3\\lib\\site-packages\\sklearn\\metrics\\_classification.py:1531: UndefinedMetricWarning: Precision is ill-defined and being set to 0.0 due to no predicted samples. Use `zero_division` parameter to control this behavior.\n",
      "  _warn_prf(average, modifier, f\"{metric.capitalize()} is\", len(result))\n"
     ]
    },
    {
     "name": "stdout",
     "output_type": "stream",
     "text": [
      "C: Epoch 125, loss: 0.5102, val mf1: 0.4946, (best 0.5453)\n",
      "s: Epoch 125, loss: 0.0382, val mf1: 0.8694, (best 0.8866)\n",
      "j: Epoch 125, loss: 0.0296, val mf1: 0.4955, (best 0.5369)\n",
      "C: Epoch 126, loss: 0.5185, val mf1: 0.4946, (best 0.5453)\n",
      "s: Epoch 126, loss: 0.0388, val mf1: 0.8694, (best 0.8866)\n",
      "j: Epoch 126, loss: 0.0291, val mf1: 0.4955, (best 0.5369)\n",
      "C: Epoch 127, loss: 0.5098, val mf1: 0.5185, (best 0.5453)\n",
      "s: Epoch 127, loss: 0.0374, val mf1: 0.8694, (best 0.8866)\n",
      "j: Epoch 127, loss: 0.0287, val mf1: 0.4955, (best 0.5369)\n",
      "C: Epoch 128, loss: 0.5143, val mf1: 0.5160, (best 0.5453)\n",
      "s: Epoch 128, loss: 0.0361, val mf1: 0.8694, (best 0.8866)\n",
      "j: Epoch 128, loss: 0.0280, val mf1: 0.4955, (best 0.5369)\n",
      "C: Epoch 129, loss: 0.5225, val mf1: 0.5113, (best 0.5453)\n",
      "s: Epoch 129, loss: 0.0361, val mf1: 0.8694, (best 0.8866)\n",
      "j: Epoch 129, loss: 0.0276, val mf1: 0.4955, (best 0.5369)\n",
      "C: Epoch 130, loss: 0.5277, val mf1: 0.4946, (best 0.5453)\n",
      "s: Epoch 130, loss: 0.0356, val mf1: 0.8694, (best 0.8866)\n",
      "j: Epoch 130, loss: 0.0272, val mf1: 0.4955, (best 0.5369)\n"
     ]
    },
    {
     "name": "stderr",
     "output_type": "stream",
     "text": [
      "C:\\ProgramData\\anaconda3\\lib\\site-packages\\sklearn\\metrics\\_classification.py:1531: UndefinedMetricWarning: Precision is ill-defined and being set to 0.0 due to no predicted samples. Use `zero_division` parameter to control this behavior.\n",
      "  _warn_prf(average, modifier, f\"{metric.capitalize()} is\", len(result))\n",
      "C:\\ProgramData\\anaconda3\\lib\\site-packages\\sklearn\\metrics\\_classification.py:1531: UndefinedMetricWarning: Precision is ill-defined and being set to 0.0 due to no predicted samples. Use `zero_division` parameter to control this behavior.\n",
      "  _warn_prf(average, modifier, f\"{metric.capitalize()} is\", len(result))\n"
     ]
    },
    {
     "name": "stdout",
     "output_type": "stream",
     "text": [
      "C: Epoch 131, loss: 0.5265, val mf1: 0.4946, (best 0.5453)\n",
      "s: Epoch 131, loss: 0.0345, val mf1: 0.8694, (best 0.8866)\n",
      "j: Epoch 131, loss: 0.0268, val mf1: 0.4955, (best 0.5369)\n",
      "C: Epoch 132, loss: 0.5144, val mf1: 0.4946, (best 0.5453)\n",
      "s: Epoch 132, loss: 0.0339, val mf1: 0.8694, (best 0.8866)\n",
      "j: Epoch 132, loss: 0.0263, val mf1: 0.4955, (best 0.5369)\n",
      "C: Epoch 133, loss: 0.5228, val mf1: 0.5211, (best 0.5453)\n",
      "s: Epoch 133, loss: 0.0342, val mf1: 0.8694, (best 0.8866)\n",
      "j: Epoch 133, loss: 0.0255, val mf1: 0.4946, (best 0.5369)\n",
      "C: Epoch 134, loss: 0.5224, val mf1: 0.5185, (best 0.5453)\n",
      "s: Epoch 134, loss: 0.0346, val mf1: 0.8694, (best 0.8866)\n",
      "j: Epoch 134, loss: 0.0253, val mf1: 0.4964, (best 0.5369)\n",
      "C: Epoch 135, loss: 0.5196, val mf1: 0.5185, (best 0.5453)\n",
      "s: Epoch 135, loss: 0.0335, val mf1: 0.8694, (best 0.8866)\n",
      "j: Epoch 135, loss: 0.0248, val mf1: 0.4955, (best 0.5369)\n",
      "C: Epoch 136, loss: 0.5190, val mf1: 0.4946, (best 0.5453)\n",
      "s: Epoch 136, loss: 0.0327, val mf1: 0.8694, (best 0.8866)\n",
      "j: Epoch 136, loss: 0.0242, val mf1: 0.4946, (best 0.5369)\n"
     ]
    },
    {
     "name": "stderr",
     "output_type": "stream",
     "text": [
      "C:\\ProgramData\\anaconda3\\lib\\site-packages\\sklearn\\metrics\\_classification.py:1531: UndefinedMetricWarning: Precision is ill-defined and being set to 0.0 due to no predicted samples. Use `zero_division` parameter to control this behavior.\n",
      "  _warn_prf(average, modifier, f\"{metric.capitalize()} is\", len(result))\n",
      "C:\\ProgramData\\anaconda3\\lib\\site-packages\\sklearn\\metrics\\_classification.py:1531: UndefinedMetricWarning: Precision is ill-defined and being set to 0.0 due to no predicted samples. Use `zero_division` parameter to control this behavior.\n",
      "  _warn_prf(average, modifier, f\"{metric.capitalize()} is\", len(result))\n"
     ]
    },
    {
     "name": "stdout",
     "output_type": "stream",
     "text": [
      "C: Epoch 137, loss: 0.5202, val mf1: 0.4946, (best 0.5453)\n",
      "s: Epoch 137, loss: 0.0327, val mf1: 0.8694, (best 0.8866)\n",
      "j: Epoch 137, loss: 0.0242, val mf1: 0.4964, (best 0.5369)\n",
      "C: Epoch 138, loss: 0.5111, val mf1: 0.4946, (best 0.5453)\n",
      "s: Epoch 138, loss: 0.0328, val mf1: 0.8694, (best 0.8866)\n",
      "j: Epoch 138, loss: 0.0233, val mf1: 0.4946, (best 0.5369)\n"
     ]
    },
    {
     "name": "stderr",
     "output_type": "stream",
     "text": [
      "C:\\ProgramData\\anaconda3\\lib\\site-packages\\sklearn\\metrics\\_classification.py:1531: UndefinedMetricWarning: Precision is ill-defined and being set to 0.0 due to no predicted samples. Use `zero_division` parameter to control this behavior.\n",
      "  _warn_prf(average, modifier, f\"{metric.capitalize()} is\", len(result))\n"
     ]
    },
    {
     "name": "stdout",
     "output_type": "stream",
     "text": [
      "C: Epoch 139, loss: 0.5258, val mf1: 0.5211, (best 0.5453)\n",
      "s: Epoch 139, loss: 0.0322, val mf1: 0.8694, (best 0.8866)\n",
      "j: Epoch 139, loss: 0.0230, val mf1: 0.4946, (best 0.5369)\n",
      "C: Epoch 140, loss: 0.5266, val mf1: 0.5160, (best 0.5453)\n",
      "s: Epoch 140, loss: 0.0325, val mf1: 0.8694, (best 0.8866)\n",
      "j: Epoch 140, loss: 0.0226, val mf1: 0.4946, (best 0.5369)\n",
      "C: Epoch 141, loss: 0.5280, val mf1: 0.5048, (best 0.5453)\n",
      "s: Epoch 141, loss: 0.0315, val mf1: 0.8694, (best 0.8866)\n",
      "j: Epoch 141, loss: 0.0220, val mf1: 0.4946, (best 0.5369)\n",
      "C: Epoch 142, loss: 0.5279, val mf1: 0.4946, (best 0.5453)\n",
      "s: Epoch 142, loss: 0.0314, val mf1: 0.8694, (best 0.8866)\n",
      "j: Epoch 142, loss: 0.0215, val mf1: 0.4955, (best 0.5369)\n"
     ]
    },
    {
     "name": "stderr",
     "output_type": "stream",
     "text": [
      "C:\\ProgramData\\anaconda3\\lib\\site-packages\\sklearn\\metrics\\_classification.py:1531: UndefinedMetricWarning: Precision is ill-defined and being set to 0.0 due to no predicted samples. Use `zero_division` parameter to control this behavior.\n",
      "  _warn_prf(average, modifier, f\"{metric.capitalize()} is\", len(result))\n",
      "C:\\ProgramData\\anaconda3\\lib\\site-packages\\sklearn\\metrics\\_classification.py:1531: UndefinedMetricWarning: Precision is ill-defined and being set to 0.0 due to no predicted samples. Use `zero_division` parameter to control this behavior.\n",
      "  _warn_prf(average, modifier, f\"{metric.capitalize()} is\", len(result))\n"
     ]
    },
    {
     "name": "stdout",
     "output_type": "stream",
     "text": [
      "C: Epoch 143, loss: 0.5287, val mf1: 0.4946, (best 0.5453)\n",
      "s: Epoch 143, loss: 0.0310, val mf1: 0.8694, (best 0.8866)\n",
      "j: Epoch 143, loss: 0.0209, val mf1: 0.4955, (best 0.5369)\n",
      "C: Epoch 144, loss: 0.5221, val mf1: 0.4946, (best 0.5453)\n",
      "s: Epoch 144, loss: 0.0310, val mf1: 0.8694, (best 0.8866)\n",
      "j: Epoch 144, loss: 0.0210, val mf1: 0.4964, (best 0.5369)\n"
     ]
    },
    {
     "name": "stderr",
     "output_type": "stream",
     "text": [
      "C:\\ProgramData\\anaconda3\\lib\\site-packages\\sklearn\\metrics\\_classification.py:1531: UndefinedMetricWarning: Precision is ill-defined and being set to 0.0 due to no predicted samples. Use `zero_division` parameter to control this behavior.\n",
      "  _warn_prf(average, modifier, f\"{metric.capitalize()} is\", len(result))\n"
     ]
    },
    {
     "name": "stdout",
     "output_type": "stream",
     "text": [
      "C: Epoch 145, loss: 0.5116, val mf1: 0.5136, (best 0.5453)\n",
      "s: Epoch 145, loss: 0.0309, val mf1: 0.8694, (best 0.8866)\n",
      "j: Epoch 145, loss: 0.0208, val mf1: 0.4955, (best 0.5369)\n",
      "C: Epoch 146, loss: 0.5194, val mf1: 0.5160, (best 0.5453)\n",
      "s: Epoch 146, loss: 0.0308, val mf1: 0.8694, (best 0.8866)\n",
      "j: Epoch 146, loss: 0.0201, val mf1: 0.4955, (best 0.5369)\n",
      "C: Epoch 147, loss: 0.5182, val mf1: 0.5160, (best 0.5453)\n",
      "s: Epoch 147, loss: 0.0307, val mf1: 0.8694, (best 0.8866)\n",
      "j: Epoch 147, loss: 0.0198, val mf1: 0.4973, (best 0.5369)\n",
      "C: Epoch 148, loss: 0.5163, val mf1: 0.5185, (best 0.5453)\n",
      "s: Epoch 148, loss: 0.0303, val mf1: 0.8694, (best 0.8866)\n",
      "j: Epoch 148, loss: 0.0191, val mf1: 0.4955, (best 0.5369)\n"
     ]
    },
    {
     "name": "stderr",
     "output_type": "stream",
     "text": [
      "C:\\ProgramData\\anaconda3\\lib\\site-packages\\sklearn\\metrics\\_classification.py:1531: UndefinedMetricWarning: Precision is ill-defined and being set to 0.0 due to no predicted samples. Use `zero_division` parameter to control this behavior.\n",
      "  _warn_prf(average, modifier, f\"{metric.capitalize()} is\", len(result))\n",
      "C:\\ProgramData\\anaconda3\\lib\\site-packages\\sklearn\\metrics\\_classification.py:1531: UndefinedMetricWarning: Precision is ill-defined and being set to 0.0 due to no predicted samples. Use `zero_division` parameter to control this behavior.\n",
      "  _warn_prf(average, modifier, f\"{metric.capitalize()} is\", len(result))\n"
     ]
    },
    {
     "name": "stdout",
     "output_type": "stream",
     "text": [
      "C: Epoch 149, loss: 0.5122, val mf1: 0.4946, (best 0.5453)\n",
      "s: Epoch 149, loss: 0.0298, val mf1: 0.8694, (best 0.8866)\n",
      "j: Epoch 149, loss: 0.0191, val mf1: 0.4955, (best 0.5369)\n",
      "C: Epoch 150, loss: 0.5156, val mf1: 0.4946, (best 0.5453)\n",
      "s: Epoch 150, loss: 0.0300, val mf1: 0.8694, (best 0.8866)\n",
      "j: Epoch 150, loss: 0.0182, val mf1: 0.4964, (best 0.5369)\n"
     ]
    },
    {
     "name": "stderr",
     "output_type": "stream",
     "text": [
      "C:\\ProgramData\\anaconda3\\lib\\site-packages\\sklearn\\metrics\\_classification.py:1531: UndefinedMetricWarning: Precision is ill-defined and being set to 0.0 due to no predicted samples. Use `zero_division` parameter to control this behavior.\n",
      "  _warn_prf(average, modifier, f\"{metric.capitalize()} is\", len(result))\n"
     ]
    },
    {
     "name": "stdout",
     "output_type": "stream",
     "text": [
      "C: Epoch 151, loss: 0.5139, val mf1: 0.4946, (best 0.5453)\n",
      "s: Epoch 151, loss: 0.0294, val mf1: 0.8694, (best 0.8866)\n",
      "j: Epoch 151, loss: 0.0177, val mf1: 0.4964, (best 0.5369)\n",
      "C: Epoch 152, loss: 0.5162, val mf1: 0.4946, (best 0.5453)\n",
      "s: Epoch 152, loss: 0.0292, val mf1: 0.8694, (best 0.8866)\n",
      "j: Epoch 152, loss: 0.0174, val mf1: 0.4964, (best 0.5369)\n",
      "C: Epoch 153, loss: 0.5106, val mf1: 0.5239, (best 0.5453)\n",
      "s: Epoch 153, loss: 0.0291, val mf1: 0.8694, (best 0.8866)\n",
      "j: Epoch 153, loss: 0.0174, val mf1: 0.4964, (best 0.5369)\n",
      "C: Epoch 154, loss: 0.5169, val mf1: 0.5211, (best 0.5453)\n",
      "s: Epoch 154, loss: 0.0287, val mf1: 0.8694, (best 0.8866)\n",
      "j: Epoch 154, loss: 0.0169, val mf1: 0.4964, (best 0.5369)\n",
      "C: Epoch 155, loss: 0.5176, val mf1: 0.5211, (best 0.5453)\n",
      "s: Epoch 155, loss: 0.0285, val mf1: 0.8694, (best 0.8866)\n",
      "j: Epoch 155, loss: 0.0175, val mf1: 0.4973, (best 0.5369)\n",
      "C: Epoch 156, loss: 0.5118, val mf1: 0.5185, (best 0.5453)\n",
      "s: Epoch 156, loss: 0.0283, val mf1: 0.8694, (best 0.8866)\n",
      "j: Epoch 156, loss: 0.0166, val mf1: 0.4964, (best 0.5369)\n"
     ]
    },
    {
     "name": "stderr",
     "output_type": "stream",
     "text": [
      "C:\\ProgramData\\anaconda3\\lib\\site-packages\\sklearn\\metrics\\_classification.py:1531: UndefinedMetricWarning: Precision is ill-defined and being set to 0.0 due to no predicted samples. Use `zero_division` parameter to control this behavior.\n",
      "  _warn_prf(average, modifier, f\"{metric.capitalize()} is\", len(result))\n",
      "C:\\ProgramData\\anaconda3\\lib\\site-packages\\sklearn\\metrics\\_classification.py:1531: UndefinedMetricWarning: Precision is ill-defined and being set to 0.0 due to no predicted samples. Use `zero_division` parameter to control this behavior.\n",
      "  _warn_prf(average, modifier, f\"{metric.capitalize()} is\", len(result))\n"
     ]
    },
    {
     "name": "stdout",
     "output_type": "stream",
     "text": [
      "C: Epoch 157, loss: 0.5099, val mf1: 0.4946, (best 0.5453)\n",
      "s: Epoch 157, loss: 0.0280, val mf1: 0.8694, (best 0.8866)\n",
      "j: Epoch 157, loss: 0.0161, val mf1: 0.4964, (best 0.5369)\n",
      "C: Epoch 158, loss: 0.5102, val mf1: 0.4946, (best 0.5453)\n",
      "s: Epoch 158, loss: 0.0277, val mf1: 0.8694, (best 0.8866)\n",
      "j: Epoch 158, loss: 0.0161, val mf1: 0.4964, (best 0.5369)\n"
     ]
    },
    {
     "name": "stderr",
     "output_type": "stream",
     "text": [
      "C:\\ProgramData\\anaconda3\\lib\\site-packages\\sklearn\\metrics\\_classification.py:1531: UndefinedMetricWarning: Precision is ill-defined and being set to 0.0 due to no predicted samples. Use `zero_division` parameter to control this behavior.\n",
      "  _warn_prf(average, modifier, f\"{metric.capitalize()} is\", len(result))\n"
     ]
    },
    {
     "name": "stdout",
     "output_type": "stream",
     "text": [
      "C: Epoch 159, loss: 0.5276, val mf1: 0.4946, (best 0.5453)\n",
      "s: Epoch 159, loss: 0.0274, val mf1: 0.8694, (best 0.8866)\n",
      "j: Epoch 159, loss: 0.0149, val mf1: 0.4964, (best 0.5369)\n",
      "C: Epoch 160, loss: 0.5144, val mf1: 0.5136, (best 0.5453)\n",
      "s: Epoch 160, loss: 0.0275, val mf1: 0.8694, (best 0.8866)\n",
      "j: Epoch 160, loss: 0.0152, val mf1: 0.4964, (best 0.5369)\n",
      "C: Epoch 161, loss: 0.5318, val mf1: 0.5136, (best 0.5453)\n",
      "s: Epoch 161, loss: 0.0269, val mf1: 0.8694, (best 0.8866)\n",
      "j: Epoch 161, loss: 0.0148, val mf1: 0.4964, (best 0.5369)\n",
      "C: Epoch 162, loss: 0.5393, val mf1: 0.5136, (best 0.5453)\n",
      "s: Epoch 162, loss: 0.0268, val mf1: 0.8694, (best 0.8866)\n",
      "j: Epoch 162, loss: 0.0142, val mf1: 0.4964, (best 0.5369)\n",
      "C: Epoch 163, loss: 0.5359, val mf1: 0.5069, (best 0.5453)\n",
      "s: Epoch 163, loss: 0.0264, val mf1: 0.8694, (best 0.8866)\n",
      "j: Epoch 163, loss: 0.0135, val mf1: 0.4964, (best 0.5369)\n",
      "C: Epoch 164, loss: 0.5404, val mf1: 0.5091, (best 0.5453)\n",
      "s: Epoch 164, loss: 0.0261, val mf1: 0.8694, (best 0.8866)\n",
      "j: Epoch 164, loss: 0.0134, val mf1: 0.4964, (best 0.5369)\n"
     ]
    },
    {
     "name": "stderr",
     "output_type": "stream",
     "text": [
      "C:\\ProgramData\\anaconda3\\lib\\site-packages\\sklearn\\metrics\\_classification.py:1531: UndefinedMetricWarning: Precision is ill-defined and being set to 0.0 due to no predicted samples. Use `zero_division` parameter to control this behavior.\n",
      "  _warn_prf(average, modifier, f\"{metric.capitalize()} is\", len(result))\n",
      "C:\\ProgramData\\anaconda3\\lib\\site-packages\\sklearn\\metrics\\_classification.py:1531: UndefinedMetricWarning: Precision is ill-defined and being set to 0.0 due to no predicted samples. Use `zero_division` parameter to control this behavior.\n",
      "  _warn_prf(average, modifier, f\"{metric.capitalize()} is\", len(result))\n"
     ]
    },
    {
     "name": "stdout",
     "output_type": "stream",
     "text": [
      "C: Epoch 165, loss: 0.5536, val mf1: 0.4946, (best 0.5453)\n",
      "s: Epoch 165, loss: 0.0263, val mf1: 0.8694, (best 0.8866)\n",
      "j: Epoch 165, loss: 0.0130, val mf1: 0.4964, (best 0.5369)\n",
      "C: Epoch 166, loss: 0.5421, val mf1: 0.4946, (best 0.5453)\n",
      "s: Epoch 166, loss: 0.0259, val mf1: 0.8694, (best 0.8866)\n",
      "j: Epoch 166, loss: 0.0128, val mf1: 0.4964, (best 0.5369)\n"
     ]
    },
    {
     "name": "stderr",
     "output_type": "stream",
     "text": [
      "C:\\ProgramData\\anaconda3\\lib\\site-packages\\sklearn\\metrics\\_classification.py:1531: UndefinedMetricWarning: Precision is ill-defined and being set to 0.0 due to no predicted samples. Use `zero_division` parameter to control this behavior.\n",
      "  _warn_prf(average, modifier, f\"{metric.capitalize()} is\", len(result))\n"
     ]
    },
    {
     "name": "stdout",
     "output_type": "stream",
     "text": [
      "C: Epoch 167, loss: 0.5328, val mf1: 0.4946, (best 0.5453)\n",
      "s: Epoch 167, loss: 0.0260, val mf1: 0.8694, (best 0.8866)\n",
      "j: Epoch 167, loss: 0.0126, val mf1: 0.4964, (best 0.5369)\n",
      "C: Epoch 168, loss: 0.5418, val mf1: 0.5113, (best 0.5453)\n",
      "s: Epoch 168, loss: 0.0257, val mf1: 0.8694, (best 0.8866)\n",
      "j: Epoch 168, loss: 0.0121, val mf1: 0.4964, (best 0.5369)\n",
      "C: Epoch 169, loss: 0.5244, val mf1: 0.5160, (best 0.5453)\n",
      "s: Epoch 169, loss: 0.0257, val mf1: 0.8694, (best 0.8866)\n",
      "j: Epoch 169, loss: 0.0122, val mf1: 0.4964, (best 0.5369)\n",
      "C: Epoch 170, loss: 0.5531, val mf1: 0.4946, (best 0.5453)\n",
      "s: Epoch 170, loss: 0.0253, val mf1: 0.8694, (best 0.8866)\n",
      "j: Epoch 170, loss: 0.0117, val mf1: 0.4964, (best 0.5369)\n",
      "C: Epoch 171, loss: 0.5247, val mf1: 0.5136, (best 0.5453)\n",
      "s: Epoch 171, loss: 0.0249, val mf1: 0.8694, (best 0.8866)\n",
      "j: Epoch 171, loss: 0.0113, val mf1: 0.4964, (best 0.5369)\n",
      "C: Epoch 172, loss: 0.5267, val mf1: 0.5185, (best 0.5453)\n",
      "s: Epoch 172, loss: 0.0246, val mf1: 0.8694, (best 0.8866)\n",
      "j: Epoch 172, loss: 0.0112, val mf1: 0.4964, (best 0.5369)\n",
      "C: Epoch 173, loss: 0.5230, val mf1: 0.5211, (best 0.5453)\n",
      "s: Epoch 173, loss: 0.0247, val mf1: 0.8694, (best 0.8866)\n",
      "j: Epoch 173, loss: 0.0108, val mf1: 0.4964, (best 0.5369)\n",
      "C: Epoch 174, loss: 0.5281, val mf1: 0.5239, (best 0.5453)\n",
      "s: Epoch 174, loss: 0.0247, val mf1: 0.8694, (best 0.8866)\n",
      "j: Epoch 174, loss: 0.0108, val mf1: 0.4964, (best 0.5369)\n",
      "C: Epoch 175, loss: 0.5183, val mf1: 0.5185, (best 0.5453)\n",
      "s: Epoch 175, loss: 0.0245, val mf1: 0.8694, (best 0.8866)\n",
      "j: Epoch 175, loss: 0.0105, val mf1: 0.4964, (best 0.5369)\n",
      "C: Epoch 176, loss: 0.5283, val mf1: 0.5160, (best 0.5453)\n",
      "s: Epoch 176, loss: 0.0243, val mf1: 0.8694, (best 0.8866)\n",
      "j: Epoch 176, loss: 0.0101, val mf1: 0.4964, (best 0.5369)\n",
      "C: Epoch 177, loss: 0.5242, val mf1: 0.5160, (best 0.5453)\n",
      "s: Epoch 177, loss: 0.0239, val mf1: 0.8694, (best 0.8866)\n",
      "j: Epoch 177, loss: 0.0101, val mf1: 0.4964, (best 0.5369)\n",
      "C: Epoch 178, loss: 0.5366, val mf1: 0.4946, (best 0.5453)\n",
      "s: Epoch 178, loss: 0.0237, val mf1: 0.8694, (best 0.8866)\n",
      "j: Epoch 178, loss: 0.0099, val mf1: 0.4964, (best 0.5369)\n"
     ]
    },
    {
     "name": "stderr",
     "output_type": "stream",
     "text": [
      "C:\\ProgramData\\anaconda3\\lib\\site-packages\\sklearn\\metrics\\_classification.py:1531: UndefinedMetricWarning: Precision is ill-defined and being set to 0.0 due to no predicted samples. Use `zero_division` parameter to control this behavior.\n",
      "  _warn_prf(average, modifier, f\"{metric.capitalize()} is\", len(result))\n",
      "C:\\ProgramData\\anaconda3\\lib\\site-packages\\sklearn\\metrics\\_classification.py:1531: UndefinedMetricWarning: Precision is ill-defined and being set to 0.0 due to no predicted samples. Use `zero_division` parameter to control this behavior.\n",
      "  _warn_prf(average, modifier, f\"{metric.capitalize()} is\", len(result))\n"
     ]
    },
    {
     "name": "stdout",
     "output_type": "stream",
     "text": [
      "C: Epoch 179, loss: 0.5239, val mf1: 0.4946, (best 0.5453)\n",
      "s: Epoch 179, loss: 0.0234, val mf1: 0.8694, (best 0.8866)\n",
      "j: Epoch 179, loss: 0.0098, val mf1: 0.4964, (best 0.5369)\n",
      "C: Epoch 180, loss: 0.5267, val mf1: 0.5113, (best 0.5453)\n",
      "s: Epoch 180, loss: 0.0229, val mf1: 0.8694, (best 0.8866)\n",
      "j: Epoch 180, loss: 0.0095, val mf1: 0.4964, (best 0.5369)\n"
     ]
    },
    {
     "name": "stderr",
     "output_type": "stream",
     "text": [
      "C:\\ProgramData\\anaconda3\\lib\\site-packages\\sklearn\\metrics\\_classification.py:1531: UndefinedMetricWarning: Precision is ill-defined and being set to 0.0 due to no predicted samples. Use `zero_division` parameter to control this behavior.\n",
      "  _warn_prf(average, modifier, f\"{metric.capitalize()} is\", len(result))\n",
      "C:\\ProgramData\\anaconda3\\lib\\site-packages\\sklearn\\metrics\\_classification.py:1531: UndefinedMetricWarning: Precision is ill-defined and being set to 0.0 due to no predicted samples. Use `zero_division` parameter to control this behavior.\n",
      "  _warn_prf(average, modifier, f\"{metric.capitalize()} is\", len(result))\n"
     ]
    },
    {
     "name": "stdout",
     "output_type": "stream",
     "text": [
      "C: Epoch 181, loss: 0.5263, val mf1: 0.4946, (best 0.5453)\n",
      "s: Epoch 181, loss: 0.0232, val mf1: 0.8694, (best 0.8866)\n",
      "j: Epoch 181, loss: 0.0091, val mf1: 0.4964, (best 0.5369)\n",
      "C: Epoch 182, loss: 0.5217, val mf1: 0.4946, (best 0.5453)\n",
      "s: Epoch 182, loss: 0.0225, val mf1: 0.8694, (best 0.8866)\n",
      "j: Epoch 182, loss: 0.0091, val mf1: 0.4964, (best 0.5369)\n",
      "C: Epoch 183, loss: 0.5225, val mf1: 0.5136, (best 0.5453)\n",
      "s: Epoch 183, loss: 0.0222, val mf1: 0.8694, (best 0.8866)\n",
      "j: Epoch 183, loss: 0.0090, val mf1: 0.4964, (best 0.5369)\n",
      "C: Epoch 184, loss: 0.5208, val mf1: 0.5160, (best 0.5453)\n",
      "s: Epoch 184, loss: 0.0224, val mf1: 0.8694, (best 0.8866)\n",
      "j: Epoch 184, loss: 0.0088, val mf1: 0.4964, (best 0.5369)\n",
      "C: Epoch 185, loss: 0.5215, val mf1: 0.5136, (best 0.5453)\n",
      "s: Epoch 185, loss: 0.0223, val mf1: 0.8694, (best 0.8866)\n",
      "j: Epoch 185, loss: 0.0085, val mf1: 0.4964, (best 0.5369)\n",
      "C: Epoch 186, loss: 0.5198, val mf1: 0.5136, (best 0.5453)\n",
      "s: Epoch 186, loss: 0.0220, val mf1: 0.8694, (best 0.8866)\n",
      "j: Epoch 186, loss: 0.0085, val mf1: 0.4964, (best 0.5369)\n",
      "C: Epoch 187, loss: 0.5165, val mf1: 0.5160, (best 0.5453)\n",
      "s: Epoch 187, loss: 0.0221, val mf1: 0.8694, (best 0.8866)\n",
      "j: Epoch 187, loss: 0.0084, val mf1: 0.4964, (best 0.5369)\n",
      "C: Epoch 188, loss: 0.5158, val mf1: 0.5160, (best 0.5453)\n",
      "s: Epoch 188, loss: 0.0217, val mf1: 0.8694, (best 0.8866)\n",
      "j: Epoch 188, loss: 0.0083, val mf1: 0.4964, (best 0.5369)\n",
      "C: Epoch 189, loss: 0.5136, val mf1: 0.5160, (best 0.5453)\n",
      "s: Epoch 189, loss: 0.0216, val mf1: 0.8694, (best 0.8866)\n",
      "j: Epoch 189, loss: 0.0081, val mf1: 0.4964, (best 0.5369)\n",
      "C: Epoch 190, loss: 0.5231, val mf1: 0.5211, (best 0.5453)\n",
      "s: Epoch 190, loss: 0.0212, val mf1: 0.8694, (best 0.8866)\n",
      "j: Epoch 190, loss: 0.0079, val mf1: 0.4964, (best 0.5369)\n",
      "C: Epoch 191, loss: 0.5123, val mf1: 0.5160, (best 0.5453)\n",
      "s: Epoch 191, loss: 0.0208, val mf1: 0.8694, (best 0.8866)\n",
      "j: Epoch 191, loss: 0.0077, val mf1: 0.4964, (best 0.5369)\n",
      "C: Epoch 192, loss: 0.5131, val mf1: 0.5160, (best 0.5453)\n",
      "s: Epoch 192, loss: 0.0212, val mf1: 0.8694, (best 0.8866)\n",
      "j: Epoch 192, loss: 0.0076, val mf1: 0.4964, (best 0.5369)\n",
      "C: Epoch 193, loss: 0.5124, val mf1: 0.5160, (best 0.5453)\n",
      "s: Epoch 193, loss: 0.0206, val mf1: 0.8694, (best 0.8866)\n",
      "j: Epoch 193, loss: 0.0076, val mf1: 0.4964, (best 0.5369)\n",
      "C: Epoch 194, loss: 0.5130, val mf1: 0.5160, (best 0.5453)\n",
      "s: Epoch 194, loss: 0.0209, val mf1: 0.8535, (best 0.8866)\n",
      "j: Epoch 194, loss: 0.0075, val mf1: 0.4964, (best 0.5369)\n",
      "C: Epoch 195, loss: 0.5128, val mf1: 0.5160, (best 0.5453)\n",
      "s: Epoch 195, loss: 0.0208, val mf1: 0.8535, (best 0.8866)\n",
      "j: Epoch 195, loss: 0.0073, val mf1: 0.4964, (best 0.5369)\n",
      "C: Epoch 196, loss: 0.5111, val mf1: 0.5160, (best 0.5453)\n",
      "s: Epoch 196, loss: 0.0205, val mf1: 0.8694, (best 0.8866)\n",
      "j: Epoch 196, loss: 0.0074, val mf1: 0.4964, (best 0.5369)\n",
      "C: Epoch 197, loss: 0.5104, val mf1: 0.5160, (best 0.5453)\n",
      "s: Epoch 197, loss: 0.0207, val mf1: 0.8694, (best 0.8866)\n",
      "j: Epoch 197, loss: 0.0073, val mf1: 0.4964, (best 0.5369)\n",
      "C: Epoch 198, loss: 0.5109, val mf1: 0.5160, (best 0.5453)\n",
      "s: Epoch 198, loss: 0.0201, val mf1: 0.8694, (best 0.8866)\n",
      "j: Epoch 198, loss: 0.0073, val mf1: 0.4964, (best 0.5369)\n",
      "C: Epoch 199, loss: 0.5100, val mf1: 0.5160, (best 0.5453)\n",
      "s: Epoch 199, loss: 0.0203, val mf1: 0.8535, (best 0.8866)\n",
      "j: Epoch 199, loss: 0.0071, val mf1: 0.4964, (best 0.5369)\n",
      "C: Epoch 200, loss: 0.5129, val mf1: 0.5160, (best 0.5453)\n",
      "s: Epoch 200, loss: 0.0201, val mf1: 0.8535, (best 0.8866)\n",
      "j: Epoch 200, loss: 0.0071, val mf1: 0.4964, (best 0.5369)\n",
      "C: Epoch 201, loss: 0.5177, val mf1: 0.5160, (best 0.5453)\n",
      "s: Epoch 201, loss: 0.0200, val mf1: 0.8535, (best 0.8866)\n",
      "j: Epoch 201, loss: 0.0070, val mf1: 0.4964, (best 0.5369)\n",
      "C: Epoch 202, loss: 0.5198, val mf1: 0.5113, (best 0.5453)\n",
      "s: Epoch 202, loss: 0.0199, val mf1: 0.8694, (best 0.8866)\n",
      "j: Epoch 202, loss: 0.0068, val mf1: 0.4964, (best 0.5369)\n",
      "C: Epoch 203, loss: 0.5318, val mf1: 0.5113, (best 0.5453)\n",
      "s: Epoch 203, loss: 0.0197, val mf1: 0.8694, (best 0.8866)\n",
      "j: Epoch 203, loss: 0.0069, val mf1: 0.4964, (best 0.5369)\n",
      "C: Epoch 204, loss: 0.5314, val mf1: 0.4946, (best 0.5453)\n",
      "s: Epoch 204, loss: 0.0194, val mf1: 0.8694, (best 0.8866)\n",
      "j: Epoch 204, loss: 0.0068, val mf1: 0.4964, (best 0.5369)\n"
     ]
    },
    {
     "name": "stderr",
     "output_type": "stream",
     "text": [
      "C:\\ProgramData\\anaconda3\\lib\\site-packages\\sklearn\\metrics\\_classification.py:1531: UndefinedMetricWarning: Precision is ill-defined and being set to 0.0 due to no predicted samples. Use `zero_division` parameter to control this behavior.\n",
      "  _warn_prf(average, modifier, f\"{metric.capitalize()} is\", len(result))\n",
      "C:\\ProgramData\\anaconda3\\lib\\site-packages\\sklearn\\metrics\\_classification.py:1531: UndefinedMetricWarning: Precision is ill-defined and being set to 0.0 due to no predicted samples. Use `zero_division` parameter to control this behavior.\n",
      "  _warn_prf(average, modifier, f\"{metric.capitalize()} is\", len(result))\n"
     ]
    },
    {
     "name": "stdout",
     "output_type": "stream",
     "text": [
      "C: Epoch 205, loss: 0.5231, val mf1: 0.4946, (best 0.5453)\n",
      "s: Epoch 205, loss: 0.0201, val mf1: 0.8694, (best 0.8866)\n",
      "j: Epoch 205, loss: 0.0067, val mf1: 0.4964, (best 0.5369)\n",
      "C: Epoch 206, loss: 0.5111, val mf1: 0.4946, (best 0.5453)\n",
      "s: Epoch 206, loss: 0.0192, val mf1: 0.8694, (best 0.8866)\n",
      "j: Epoch 206, loss: 0.0066, val mf1: 0.4964, (best 0.5369)\n"
     ]
    },
    {
     "name": "stderr",
     "output_type": "stream",
     "text": [
      "C:\\ProgramData\\anaconda3\\lib\\site-packages\\sklearn\\metrics\\_classification.py:1531: UndefinedMetricWarning: Precision is ill-defined and being set to 0.0 due to no predicted samples. Use `zero_division` parameter to control this behavior.\n",
      "  _warn_prf(average, modifier, f\"{metric.capitalize()} is\", len(result))\n"
     ]
    },
    {
     "name": "stdout",
     "output_type": "stream",
     "text": [
      "C: Epoch 207, loss: 0.5469, val mf1: 0.4946, (best 0.5453)\n",
      "s: Epoch 207, loss: 0.0203, val mf1: 0.8694, (best 0.8866)\n",
      "j: Epoch 207, loss: 0.0066, val mf1: 0.4964, (best 0.5369)\n",
      "C: Epoch 208, loss: 0.5244, val mf1: 0.5136, (best 0.5453)\n",
      "s: Epoch 208, loss: 0.0193, val mf1: 0.8535, (best 0.8866)\n",
      "j: Epoch 208, loss: 0.0066, val mf1: 0.4964, (best 0.5369)\n",
      "C: Epoch 209, loss: 0.5411, val mf1: 0.5136, (best 0.5453)\n",
      "s: Epoch 209, loss: 0.0194, val mf1: 0.8535, (best 0.8866)\n",
      "j: Epoch 209, loss: 0.0065, val mf1: 0.4964, (best 0.5369)\n",
      "C: Epoch 210, loss: 0.5461, val mf1: 0.5069, (best 0.5453)\n",
      "s: Epoch 210, loss: 0.0194, val mf1: 0.8535, (best 0.8866)\n",
      "j: Epoch 210, loss: 0.0065, val mf1: 0.4964, (best 0.5369)\n",
      "C: Epoch 211, loss: 0.5438, val mf1: 0.5028, (best 0.5453)\n",
      "s: Epoch 211, loss: 0.0192, val mf1: 0.8694, (best 0.8866)\n",
      "j: Epoch 211, loss: 0.0064, val mf1: 0.4964, (best 0.5369)\n",
      "C: Epoch 212, loss: 0.5418, val mf1: 0.4946, (best 0.5453)\n",
      "s: Epoch 212, loss: 0.0195, val mf1: 0.8694, (best 0.8866)\n",
      "j: Epoch 212, loss: 0.0064, val mf1: 0.4964, (best 0.5369)\n"
     ]
    },
    {
     "name": "stderr",
     "output_type": "stream",
     "text": [
      "C:\\ProgramData\\anaconda3\\lib\\site-packages\\sklearn\\metrics\\_classification.py:1531: UndefinedMetricWarning: Precision is ill-defined and being set to 0.0 due to no predicted samples. Use `zero_division` parameter to control this behavior.\n",
      "  _warn_prf(average, modifier, f\"{metric.capitalize()} is\", len(result))\n",
      "C:\\ProgramData\\anaconda3\\lib\\site-packages\\sklearn\\metrics\\_classification.py:1531: UndefinedMetricWarning: Precision is ill-defined and being set to 0.0 due to no predicted samples. Use `zero_division` parameter to control this behavior.\n",
      "  _warn_prf(average, modifier, f\"{metric.capitalize()} is\", len(result))\n"
     ]
    },
    {
     "name": "stdout",
     "output_type": "stream",
     "text": [
      "C: Epoch 213, loss: 0.5447, val mf1: 0.4946, (best 0.5453)\n",
      "s: Epoch 213, loss: 0.0188, val mf1: 0.8694, (best 0.8866)\n",
      "j: Epoch 213, loss: 0.0064, val mf1: 0.4964, (best 0.5369)\n",
      "C: Epoch 214, loss: 0.5413, val mf1: 0.4946, (best 0.5453)\n",
      "s: Epoch 214, loss: 0.0188, val mf1: 0.8694, (best 0.8866)\n",
      "j: Epoch 214, loss: 0.0063, val mf1: 0.4964, (best 0.5369)\n"
     ]
    },
    {
     "name": "stderr",
     "output_type": "stream",
     "text": [
      "C:\\ProgramData\\anaconda3\\lib\\site-packages\\sklearn\\metrics\\_classification.py:1531: UndefinedMetricWarning: Precision is ill-defined and being set to 0.0 due to no predicted samples. Use `zero_division` parameter to control this behavior.\n",
      "  _warn_prf(average, modifier, f\"{metric.capitalize()} is\", len(result))\n",
      "C:\\ProgramData\\anaconda3\\lib\\site-packages\\sklearn\\metrics\\_classification.py:1531: UndefinedMetricWarning: Precision is ill-defined and being set to 0.0 due to no predicted samples. Use `zero_division` parameter to control this behavior.\n",
      "  _warn_prf(average, modifier, f\"{metric.capitalize()} is\", len(result))\n"
     ]
    },
    {
     "name": "stdout",
     "output_type": "stream",
     "text": [
      "C: Epoch 215, loss: 0.5410, val mf1: 0.4946, (best 0.5453)\n",
      "s: Epoch 215, loss: 0.0186, val mf1: 0.8694, (best 0.8866)\n",
      "j: Epoch 215, loss: 0.0063, val mf1: 0.4964, (best 0.5369)\n",
      "C: Epoch 216, loss: 0.5435, val mf1: 0.4946, (best 0.5453)\n",
      "s: Epoch 216, loss: 0.0185, val mf1: 0.8694, (best 0.8866)\n",
      "j: Epoch 216, loss: 0.0062, val mf1: 0.4964, (best 0.5369)\n"
     ]
    },
    {
     "name": "stderr",
     "output_type": "stream",
     "text": [
      "C:\\ProgramData\\anaconda3\\lib\\site-packages\\sklearn\\metrics\\_classification.py:1531: UndefinedMetricWarning: Precision is ill-defined and being set to 0.0 due to no predicted samples. Use `zero_division` parameter to control this behavior.\n",
      "  _warn_prf(average, modifier, f\"{metric.capitalize()} is\", len(result))\n"
     ]
    },
    {
     "name": "stdout",
     "output_type": "stream",
     "text": [
      "C: Epoch 217, loss: 0.5411, val mf1: 0.5009, (best 0.5453)\n",
      "s: Epoch 217, loss: 0.0184, val mf1: 0.8694, (best 0.8866)\n",
      "j: Epoch 217, loss: 0.0062, val mf1: 0.4955, (best 0.5369)\n",
      "C: Epoch 218, loss: 0.5349, val mf1: 0.5069, (best 0.5453)\n",
      "s: Epoch 218, loss: 0.0180, val mf1: 0.8535, (best 0.8866)\n",
      "j: Epoch 218, loss: 0.0062, val mf1: 0.4955, (best 0.5369)\n",
      "C: Epoch 219, loss: 0.5230, val mf1: 0.5160, (best 0.5453)\n",
      "s: Epoch 219, loss: 0.0178, val mf1: 0.8535, (best 0.8866)\n",
      "j: Epoch 219, loss: 0.0062, val mf1: 0.4955, (best 0.5369)\n",
      "C: Epoch 220, loss: 0.6307, val mf1: 0.5300, (best 0.5453)\n",
      "s: Epoch 220, loss: 0.0176, val mf1: 0.8535, (best 0.8866)\n",
      "j: Epoch 220, loss: 0.0061, val mf1: 0.4955, (best 0.5369)\n",
      "C: Epoch 221, loss: 0.5247, val mf1: 0.5239, (best 0.5453)\n",
      "s: Epoch 221, loss: 0.0175, val mf1: 0.8535, (best 0.8866)\n",
      "j: Epoch 221, loss: 0.0061, val mf1: 0.4955, (best 0.5369)\n",
      "C: Epoch 222, loss: 0.5402, val mf1: 0.5113, (best 0.5453)\n",
      "s: Epoch 222, loss: 0.0173, val mf1: 0.8535, (best 0.8866)\n",
      "j: Epoch 222, loss: 0.0061, val mf1: 0.4955, (best 0.5369)\n",
      "C: Epoch 223, loss: 0.5450, val mf1: 0.5069, (best 0.5453)\n",
      "s: Epoch 223, loss: 0.0169, val mf1: 0.8535, (best 0.8866)\n",
      "j: Epoch 223, loss: 0.0061, val mf1: 0.4955, (best 0.5369)\n",
      "C: Epoch 224, loss: 0.5444, val mf1: 0.5009, (best 0.5453)\n",
      "s: Epoch 224, loss: 0.0176, val mf1: 0.8535, (best 0.8866)\n",
      "j: Epoch 224, loss: 0.0060, val mf1: 0.4955, (best 0.5369)\n",
      "C: Epoch 225, loss: 0.5378, val mf1: 0.5009, (best 0.5453)\n",
      "s: Epoch 225, loss: 0.0170, val mf1: 0.8535, (best 0.8866)\n",
      "j: Epoch 225, loss: 0.0060, val mf1: 0.4955, (best 0.5369)\n",
      "C: Epoch 226, loss: 0.5510, val mf1: 0.5113, (best 0.5453)\n",
      "s: Epoch 226, loss: 0.0169, val mf1: 0.8535, (best 0.8866)\n",
      "j: Epoch 226, loss: 0.0060, val mf1: 0.4955, (best 0.5369)\n"
     ]
    },
    {
     "name": "stderr",
     "output_type": "stream",
     "text": [
      "C:\\ProgramData\\anaconda3\\lib\\site-packages\\sklearn\\metrics\\_classification.py:1531: UndefinedMetricWarning: Precision is ill-defined and being set to 0.0 due to no predicted samples. Use `zero_division` parameter to control this behavior.\n",
      "  _warn_prf(average, modifier, f\"{metric.capitalize()} is\", len(result))\n",
      "C:\\ProgramData\\anaconda3\\lib\\site-packages\\sklearn\\metrics\\_classification.py:1531: UndefinedMetricWarning: Precision is ill-defined and being set to 0.0 due to no predicted samples. Use `zero_division` parameter to control this behavior.\n",
      "  _warn_prf(average, modifier, f\"{metric.capitalize()} is\", len(result))\n"
     ]
    },
    {
     "name": "stdout",
     "output_type": "stream",
     "text": [
      "C: Epoch 227, loss: 0.5320, val mf1: 0.4946, (best 0.5453)\n",
      "s: Epoch 227, loss: 0.0170, val mf1: 0.8535, (best 0.8866)\n",
      "j: Epoch 227, loss: 0.0060, val mf1: 0.4955, (best 0.5369)\n",
      "C: Epoch 228, loss: 0.5375, val mf1: 0.4946, (best 0.5453)\n",
      "s: Epoch 228, loss: 0.0173, val mf1: 0.8535, (best 0.8866)\n",
      "j: Epoch 228, loss: 0.0060, val mf1: 0.4964, (best 0.5369)\n"
     ]
    },
    {
     "name": "stderr",
     "output_type": "stream",
     "text": [
      "C:\\ProgramData\\anaconda3\\lib\\site-packages\\sklearn\\metrics\\_classification.py:1531: UndefinedMetricWarning: Precision is ill-defined and being set to 0.0 due to no predicted samples. Use `zero_division` parameter to control this behavior.\n",
      "  _warn_prf(average, modifier, f\"{metric.capitalize()} is\", len(result))\n",
      "C:\\ProgramData\\anaconda3\\lib\\site-packages\\sklearn\\metrics\\_classification.py:1531: UndefinedMetricWarning: Precision is ill-defined and being set to 0.0 due to no predicted samples. Use `zero_division` parameter to control this behavior.\n",
      "  _warn_prf(average, modifier, f\"{metric.capitalize()} is\", len(result))\n"
     ]
    },
    {
     "name": "stdout",
     "output_type": "stream",
     "text": [
      "C: Epoch 229, loss: 0.5366, val mf1: 0.4946, (best 0.5453)\n",
      "s: Epoch 229, loss: 0.0168, val mf1: 0.8535, (best 0.8866)\n",
      "j: Epoch 229, loss: 0.0060, val mf1: 0.4955, (best 0.5369)\n",
      "C: Epoch 230, loss: 0.5335, val mf1: 0.4946, (best 0.5453)\n",
      "s: Epoch 230, loss: 0.0171, val mf1: 0.8535, (best 0.8866)\n",
      "j: Epoch 230, loss: 0.0059, val mf1: 0.4955, (best 0.5369)\n",
      "C: Epoch 231, loss: 0.5319, val mf1: 0.5040, (best 0.5453)\n",
      "s: Epoch 231, loss: 0.0170, val mf1: 0.8694, (best 0.8866)\n",
      "j: Epoch 231, loss: 0.0059, val mf1: 0.4955, (best 0.5369)\n",
      "C: Epoch 232, loss: 0.5319, val mf1: 0.5048, (best 0.5453)\n",
      "s: Epoch 232, loss: 0.0171, val mf1: 0.8694, (best 0.8866)\n",
      "j: Epoch 232, loss: 0.0059, val mf1: 0.4955, (best 0.5369)\n",
      "C: Epoch 233, loss: 0.5317, val mf1: 0.5048, (best 0.5453)\n",
      "s: Epoch 233, loss: 0.0166, val mf1: 0.8694, (best 0.8866)\n",
      "j: Epoch 233, loss: 0.0059, val mf1: 0.4955, (best 0.5369)\n",
      "C: Epoch 234, loss: 0.5362, val mf1: 0.5069, (best 0.5453)\n",
      "s: Epoch 234, loss: 0.0162, val mf1: 0.8535, (best 0.8866)\n",
      "j: Epoch 234, loss: 0.0059, val mf1: 0.4955, (best 0.5369)\n",
      "C: Epoch 235, loss: 0.5293, val mf1: 0.5091, (best 0.5453)\n",
      "s: Epoch 235, loss: 0.0161, val mf1: 0.8535, (best 0.8866)\n",
      "j: Epoch 235, loss: 0.0059, val mf1: 0.4955, (best 0.5369)\n",
      "C: Epoch 236, loss: 0.5290, val mf1: 0.5069, (best 0.5453)\n",
      "s: Epoch 236, loss: 0.0164, val mf1: 0.8535, (best 0.8866)\n",
      "j: Epoch 236, loss: 0.0058, val mf1: 0.4955, (best 0.5369)\n",
      "C: Epoch 237, loss: 0.5329, val mf1: 0.5069, (best 0.5453)\n",
      "s: Epoch 237, loss: 0.0159, val mf1: 0.8535, (best 0.8866)\n",
      "j: Epoch 237, loss: 0.0058, val mf1: 0.4955, (best 0.5369)\n",
      "C: Epoch 238, loss: 0.5283, val mf1: 0.5069, (best 0.5453)\n",
      "s: Epoch 238, loss: 0.0162, val mf1: 0.8535, (best 0.8866)\n",
      "j: Epoch 238, loss: 0.0058, val mf1: 0.4955, (best 0.5369)\n",
      "C: Epoch 239, loss: 0.5268, val mf1: 0.5069, (best 0.5453)\n",
      "s: Epoch 239, loss: 0.0162, val mf1: 0.8535, (best 0.8866)\n",
      "j: Epoch 239, loss: 0.0058, val mf1: 0.4955, (best 0.5369)\n",
      "C: Epoch 240, loss: 0.5299, val mf1: 0.5091, (best 0.5453)\n",
      "s: Epoch 240, loss: 0.0160, val mf1: 0.8535, (best 0.8866)\n",
      "j: Epoch 240, loss: 0.0058, val mf1: 0.4955, (best 0.5369)\n",
      "C: Epoch 241, loss: 0.5271, val mf1: 0.5069, (best 0.5453)\n",
      "s: Epoch 241, loss: 0.0160, val mf1: 0.8535, (best 0.8866)\n",
      "j: Epoch 241, loss: 0.0058, val mf1: 0.4955, (best 0.5369)\n",
      "C: Epoch 242, loss: 0.5281, val mf1: 0.5069, (best 0.5453)\n",
      "s: Epoch 242, loss: 0.0164, val mf1: 0.8535, (best 0.8866)\n",
      "j: Epoch 242, loss: 0.0058, val mf1: 0.4955, (best 0.5369)\n",
      "C: Epoch 243, loss: 0.5252, val mf1: 0.5091, (best 0.5453)\n",
      "s: Epoch 243, loss: 0.0157, val mf1: 0.8535, (best 0.8866)\n",
      "j: Epoch 243, loss: 0.0058, val mf1: 0.4955, (best 0.5369)\n",
      "C: Epoch 244, loss: 0.5320, val mf1: 0.5113, (best 0.5453)\n",
      "s: Epoch 244, loss: 0.0154, val mf1: 0.8535, (best 0.8866)\n",
      "j: Epoch 244, loss: 0.0057, val mf1: 0.4955, (best 0.5369)\n"
     ]
    },
    {
     "name": "stderr",
     "output_type": "stream",
     "text": [
      "C:\\ProgramData\\anaconda3\\lib\\site-packages\\sklearn\\metrics\\_classification.py:1531: UndefinedMetricWarning: Precision is ill-defined and being set to 0.0 due to no predicted samples. Use `zero_division` parameter to control this behavior.\n",
      "  _warn_prf(average, modifier, f\"{metric.capitalize()} is\", len(result))\n",
      "C:\\ProgramData\\anaconda3\\lib\\site-packages\\sklearn\\metrics\\_classification.py:1531: UndefinedMetricWarning: Precision is ill-defined and being set to 0.0 due to no predicted samples. Use `zero_division` parameter to control this behavior.\n",
      "  _warn_prf(average, modifier, f\"{metric.capitalize()} is\", len(result))\n"
     ]
    },
    {
     "name": "stdout",
     "output_type": "stream",
     "text": [
      "C: Epoch 245, loss: 0.5247, val mf1: 0.4946, (best 0.5453)\n",
      "s: Epoch 245, loss: 0.0153, val mf1: 0.8535, (best 0.8866)\n",
      "j: Epoch 245, loss: 0.0057, val mf1: 0.4955, (best 0.5369)\n",
      "C: Epoch 246, loss: 0.5267, val mf1: 0.4946, (best 0.5453)\n",
      "s: Epoch 246, loss: 0.0152, val mf1: 0.8535, (best 0.8866)\n",
      "j: Epoch 246, loss: 0.0057, val mf1: 0.4955, (best 0.5369)\n"
     ]
    },
    {
     "name": "stderr",
     "output_type": "stream",
     "text": [
      "C:\\ProgramData\\anaconda3\\lib\\site-packages\\sklearn\\metrics\\_classification.py:1531: UndefinedMetricWarning: Precision is ill-defined and being set to 0.0 due to no predicted samples. Use `zero_division` parameter to control this behavior.\n",
      "  _warn_prf(average, modifier, f\"{metric.capitalize()} is\", len(result))\n"
     ]
    },
    {
     "name": "stdout",
     "output_type": "stream",
     "text": [
      "C: Epoch 247, loss: 0.5246, val mf1: 0.4946, (best 0.5453)\n",
      "s: Epoch 247, loss: 0.0152, val mf1: 0.8535, (best 0.8866)\n",
      "j: Epoch 247, loss: 0.0057, val mf1: 0.4955, (best 0.5369)\n",
      "C: Epoch 248, loss: 0.5210, val mf1: 0.5113, (best 0.5453)\n",
      "s: Epoch 248, loss: 0.0150, val mf1: 0.8535, (best 0.8866)\n",
      "j: Epoch 248, loss: 0.0057, val mf1: 0.4955, (best 0.5369)\n",
      "C: Epoch 249, loss: 0.5214, val mf1: 0.5091, (best 0.5453)\n",
      "s: Epoch 249, loss: 0.0150, val mf1: 0.8694, (best 0.8866)\n",
      "j: Epoch 249, loss: 0.0057, val mf1: 0.4955, (best 0.5369)\n",
      "C: Epoch 250, loss: 0.5199, val mf1: 0.5113, (best 0.5453)\n",
      "s: Epoch 250, loss: 0.0149, val mf1: 0.8694, (best 0.8866)\n",
      "j: Epoch 250, loss: 0.0057, val mf1: 0.4955, (best 0.5369)\n",
      "C: Epoch 251, loss: 0.5213, val mf1: 0.5113, (best 0.5453)\n",
      "s: Epoch 251, loss: 0.0148, val mf1: 0.8694, (best 0.8866)\n",
      "j: Epoch 251, loss: 0.0057, val mf1: 0.4955, (best 0.5369)\n",
      "C: Epoch 252, loss: 0.5200, val mf1: 0.4946, (best 0.5453)\n",
      "s: Epoch 252, loss: 0.0146, val mf1: 0.8535, (best 0.8866)\n",
      "j: Epoch 252, loss: 0.0057, val mf1: 0.4955, (best 0.5369)\n"
     ]
    },
    {
     "name": "stderr",
     "output_type": "stream",
     "text": [
      "C:\\ProgramData\\anaconda3\\lib\\site-packages\\sklearn\\metrics\\_classification.py:1531: UndefinedMetricWarning: Precision is ill-defined and being set to 0.0 due to no predicted samples. Use `zero_division` parameter to control this behavior.\n",
      "  _warn_prf(average, modifier, f\"{metric.capitalize()} is\", len(result))\n"
     ]
    },
    {
     "name": "stdout",
     "output_type": "stream",
     "text": [
      "C: Epoch 253, loss: 0.5213, val mf1: 0.4946, (best 0.5453)\n",
      "s: Epoch 253, loss: 0.0143, val mf1: 0.8535, (best 0.8866)\n",
      "j: Epoch 253, loss: 0.0056, val mf1: 0.4955, (best 0.5369)\n",
      "C: Epoch 254, loss: 0.5189, val mf1: 0.5091, (best 0.5453)\n",
      "s: Epoch 254, loss: 0.0143, val mf1: 0.8535, (best 0.8866)\n",
      "j: Epoch 254, loss: 0.0056, val mf1: 0.4955, (best 0.5369)\n",
      "C: Epoch 255, loss: 0.5172, val mf1: 0.5136, (best 0.5453)\n",
      "s: Epoch 255, loss: 0.0142, val mf1: 0.8535, (best 0.8866)\n",
      "j: Epoch 255, loss: 0.0056, val mf1: 0.4955, (best 0.5369)\n",
      "C: Epoch 256, loss: 0.5170, val mf1: 0.5136, (best 0.5453)\n",
      "s: Epoch 256, loss: 0.0153, val mf1: 0.8535, (best 0.8866)\n",
      "j: Epoch 256, loss: 0.0056, val mf1: 0.4955, (best 0.5369)\n",
      "C: Epoch 257, loss: 0.5156, val mf1: 0.5113, (best 0.5453)\n",
      "s: Epoch 257, loss: 0.0143, val mf1: 0.8535, (best 0.8866)\n",
      "j: Epoch 257, loss: 0.0056, val mf1: 0.4955, (best 0.5369)\n",
      "C: Epoch 258, loss: 0.5149, val mf1: 0.5136, (best 0.5453)\n",
      "s: Epoch 258, loss: 0.0154, val mf1: 0.8535, (best 0.8866)\n",
      "j: Epoch 258, loss: 0.0056, val mf1: 0.4955, (best 0.5369)\n",
      "C: Epoch 259, loss: 0.5164, val mf1: 0.5160, (best 0.5453)\n",
      "s: Epoch 259, loss: 0.0156, val mf1: 0.8535, (best 0.8866)\n",
      "j: Epoch 259, loss: 0.0056, val mf1: 0.4955, (best 0.5369)\n",
      "C: Epoch 260, loss: 0.5164, val mf1: 0.5185, (best 0.5453)\n",
      "s: Epoch 260, loss: 0.0150, val mf1: 0.8535, (best 0.8866)\n",
      "j: Epoch 260, loss: 0.0056, val mf1: 0.4955, (best 0.5369)\n",
      "C: Epoch 261, loss: 0.5141, val mf1: 0.5136, (best 0.5453)\n",
      "s: Epoch 261, loss: 0.0144, val mf1: 0.8535, (best 0.8866)\n",
      "j: Epoch 261, loss: 0.0056, val mf1: 0.4955, (best 0.5369)\n",
      "C: Epoch 262, loss: 0.5173, val mf1: 0.5091, (best 0.5453)\n",
      "s: Epoch 262, loss: 0.0139, val mf1: 0.8535, (best 0.8866)\n",
      "j: Epoch 262, loss: 0.0056, val mf1: 0.4955, (best 0.5369)\n",
      "C: Epoch 263, loss: 0.5169, val mf1: 0.5091, (best 0.5453)\n",
      "s: Epoch 263, loss: 0.0157, val mf1: 0.8535, (best 0.8866)\n",
      "j: Epoch 263, loss: 0.0056, val mf1: 0.4955, (best 0.5369)\n",
      "C: Epoch 264, loss: 0.5164, val mf1: 0.5136, (best 0.5453)\n",
      "s: Epoch 264, loss: 0.0142, val mf1: 0.8535, (best 0.8866)\n",
      "j: Epoch 264, loss: 0.0055, val mf1: 0.4955, (best 0.5369)\n"
     ]
    },
    {
     "name": "stderr",
     "output_type": "stream",
     "text": [
      "C:\\ProgramData\\anaconda3\\lib\\site-packages\\sklearn\\metrics\\_classification.py:1531: UndefinedMetricWarning: Precision is ill-defined and being set to 0.0 due to no predicted samples. Use `zero_division` parameter to control this behavior.\n",
      "  _warn_prf(average, modifier, f\"{metric.capitalize()} is\", len(result))\n"
     ]
    },
    {
     "name": "stdout",
     "output_type": "stream",
     "text": [
      "C: Epoch 265, loss: 0.5152, val mf1: 0.4946, (best 0.5453)\n",
      "s: Epoch 265, loss: 0.0142, val mf1: 0.8535, (best 0.8866)\n",
      "j: Epoch 265, loss: 0.0055, val mf1: 0.4955, (best 0.5369)\n",
      "C: Epoch 266, loss: 0.5134, val mf1: 0.5113, (best 0.5453)\n",
      "s: Epoch 266, loss: 0.0144, val mf1: 0.8535, (best 0.8866)\n",
      "j: Epoch 266, loss: 0.0055, val mf1: 0.4955, (best 0.5369)\n",
      "C: Epoch 267, loss: 0.5120, val mf1: 0.5211, (best 0.5453)\n",
      "s: Epoch 267, loss: 0.0145, val mf1: 0.8535, (best 0.8866)\n",
      "j: Epoch 267, loss: 0.0055, val mf1: 0.4955, (best 0.5369)\n",
      "C: Epoch 268, loss: 0.5149, val mf1: 0.5239, (best 0.5453)\n",
      "s: Epoch 268, loss: 0.0143, val mf1: 0.8535, (best 0.8866)\n",
      "j: Epoch 268, loss: 0.0055, val mf1: 0.4955, (best 0.5369)\n",
      "C: Epoch 269, loss: 0.5146, val mf1: 0.5185, (best 0.5453)\n",
      "s: Epoch 269, loss: 0.0143, val mf1: 0.8535, (best 0.8866)\n",
      "j: Epoch 269, loss: 0.0055, val mf1: 0.4955, (best 0.5369)\n",
      "C: Epoch 270, loss: 0.5167, val mf1: 0.5113, (best 0.5453)\n",
      "s: Epoch 270, loss: 0.0142, val mf1: 0.8535, (best 0.8866)\n",
      "j: Epoch 270, loss: 0.0055, val mf1: 0.4955, (best 0.5369)\n",
      "C: Epoch 271, loss: 0.5196, val mf1: 0.5113, (best 0.5453)\n",
      "s: Epoch 271, loss: 0.0137, val mf1: 0.8535, (best 0.8866)\n",
      "j: Epoch 271, loss: 0.0055, val mf1: 0.4955, (best 0.5369)\n",
      "C: Epoch 272, loss: 0.5175, val mf1: 0.5113, (best 0.5453)\n",
      "s: Epoch 272, loss: 0.0135, val mf1: 0.8535, (best 0.8866)\n",
      "j: Epoch 272, loss: 0.0055, val mf1: 0.4955, (best 0.5369)\n",
      "C: Epoch 273, loss: 0.5121, val mf1: 0.5160, (best 0.5453)\n",
      "s: Epoch 273, loss: 0.0132, val mf1: 0.8535, (best 0.8866)\n",
      "j: Epoch 273, loss: 0.0055, val mf1: 0.4955, (best 0.5369)\n",
      "C: Epoch 274, loss: 0.5123, val mf1: 0.4946, (best 0.5453)\n",
      "s: Epoch 274, loss: 0.0143, val mf1: 0.8535, (best 0.8866)\n",
      "j: Epoch 274, loss: 0.0055, val mf1: 0.4955, (best 0.5369)\n"
     ]
    },
    {
     "name": "stderr",
     "output_type": "stream",
     "text": [
      "C:\\ProgramData\\anaconda3\\lib\\site-packages\\sklearn\\metrics\\_classification.py:1531: UndefinedMetricWarning: Precision is ill-defined and being set to 0.0 due to no predicted samples. Use `zero_division` parameter to control this behavior.\n",
      "  _warn_prf(average, modifier, f\"{metric.capitalize()} is\", len(result))\n",
      "C:\\ProgramData\\anaconda3\\lib\\site-packages\\sklearn\\metrics\\_classification.py:1531: UndefinedMetricWarning: Precision is ill-defined and being set to 0.0 due to no predicted samples. Use `zero_division` parameter to control this behavior.\n",
      "  _warn_prf(average, modifier, f\"{metric.capitalize()} is\", len(result))\n"
     ]
    },
    {
     "name": "stdout",
     "output_type": "stream",
     "text": [
      "C: Epoch 275, loss: 0.5200, val mf1: 0.4946, (best 0.5453)\n",
      "s: Epoch 275, loss: 0.0127, val mf1: 0.8535, (best 0.8866)\n",
      "j: Epoch 275, loss: 0.0055, val mf1: 0.4955, (best 0.5369)\n",
      "C: Epoch 276, loss: 0.5101, val mf1: 0.5185, (best 0.5453)\n",
      "s: Epoch 276, loss: 0.0127, val mf1: 0.8535, (best 0.8866)\n",
      "j: Epoch 276, loss: 0.0055, val mf1: 0.4955, (best 0.5369)\n",
      "C: Epoch 277, loss: 0.5232, val mf1: 0.5136, (best 0.5453)\n",
      "s: Epoch 277, loss: 0.0129, val mf1: 0.8535, (best 0.8866)\n",
      "j: Epoch 277, loss: 0.0055, val mf1: 0.4955, (best 0.5369)\n",
      "C: Epoch 278, loss: 0.5228, val mf1: 0.5160, (best 0.5453)\n",
      "s: Epoch 278, loss: 0.0129, val mf1: 0.8535, (best 0.8866)\n",
      "j: Epoch 278, loss: 0.0055, val mf1: 0.4955, (best 0.5369)\n",
      "C: Epoch 279, loss: 0.5141, val mf1: 0.5211, (best 0.5453)\n",
      "s: Epoch 279, loss: 0.0124, val mf1: 0.8535, (best 0.8866)\n",
      "j: Epoch 279, loss: 0.0054, val mf1: 0.4955, (best 0.5369)\n",
      "C: Epoch 280, loss: 0.5096, val mf1: 0.4946, (best 0.5453)\n",
      "s: Epoch 280, loss: 0.0123, val mf1: 0.8535, (best 0.8866)\n",
      "j: Epoch 280, loss: 0.0054, val mf1: 0.4955, (best 0.5369)\n"
     ]
    },
    {
     "name": "stderr",
     "output_type": "stream",
     "text": [
      "C:\\ProgramData\\anaconda3\\lib\\site-packages\\sklearn\\metrics\\_classification.py:1531: UndefinedMetricWarning: Precision is ill-defined and being set to 0.0 due to no predicted samples. Use `zero_division` parameter to control this behavior.\n",
      "  _warn_prf(average, modifier, f\"{metric.capitalize()} is\", len(result))\n"
     ]
    },
    {
     "name": "stdout",
     "output_type": "stream",
     "text": [
      "C: Epoch 281, loss: 0.5422, val mf1: 0.4946, (best 0.5453)\n",
      "s: Epoch 281, loss: 0.0124, val mf1: 0.8535, (best 0.8866)\n",
      "j: Epoch 281, loss: 0.0054, val mf1: 0.4955, (best 0.5369)\n",
      "C: Epoch 282, loss: 0.5134, val mf1: 0.5185, (best 0.5453)\n",
      "s: Epoch 282, loss: 0.0129, val mf1: 0.8535, (best 0.8866)\n",
      "j: Epoch 282, loss: 0.0054, val mf1: 0.4955, (best 0.5369)\n",
      "C: Epoch 283, loss: 0.5296, val mf1: 0.5069, (best 0.5453)\n",
      "s: Epoch 283, loss: 0.0125, val mf1: 0.8535, (best 0.8866)\n",
      "j: Epoch 283, loss: 0.0054, val mf1: 0.4955, (best 0.5369)\n",
      "C: Epoch 284, loss: 0.5349, val mf1: 0.5091, (best 0.5453)\n",
      "s: Epoch 284, loss: 0.0122, val mf1: 0.8535, (best 0.8866)\n",
      "j: Epoch 284, loss: 0.0054, val mf1: 0.4955, (best 0.5369)\n",
      "C: Epoch 285, loss: 0.5404, val mf1: 0.5113, (best 0.5453)\n",
      "s: Epoch 285, loss: 0.0125, val mf1: 0.8535, (best 0.8866)\n",
      "j: Epoch 285, loss: 0.0054, val mf1: 0.4955, (best 0.5369)\n",
      "C: Epoch 286, loss: 0.5406, val mf1: 0.4946, (best 0.5453)\n",
      "s: Epoch 286, loss: 0.0122, val mf1: 0.8535, (best 0.8866)\n",
      "j: Epoch 286, loss: 0.0054, val mf1: 0.4955, (best 0.5369)\n"
     ]
    },
    {
     "name": "stderr",
     "output_type": "stream",
     "text": [
      "C:\\ProgramData\\anaconda3\\lib\\site-packages\\sklearn\\metrics\\_classification.py:1531: UndefinedMetricWarning: Precision is ill-defined and being set to 0.0 due to no predicted samples. Use `zero_division` parameter to control this behavior.\n",
      "  _warn_prf(average, modifier, f\"{metric.capitalize()} is\", len(result))\n",
      "C:\\ProgramData\\anaconda3\\lib\\site-packages\\sklearn\\metrics\\_classification.py:1531: UndefinedMetricWarning: Precision is ill-defined and being set to 0.0 due to no predicted samples. Use `zero_division` parameter to control this behavior.\n",
      "  _warn_prf(average, modifier, f\"{metric.capitalize()} is\", len(result))\n"
     ]
    },
    {
     "name": "stdout",
     "output_type": "stream",
     "text": [
      "C: Epoch 287, loss: 0.5428, val mf1: 0.4946, (best 0.5453)\n",
      "s: Epoch 287, loss: 0.0122, val mf1: 0.8535, (best 0.8866)\n",
      "j: Epoch 287, loss: 0.0054, val mf1: 0.4955, (best 0.5369)\n",
      "C: Epoch 288, loss: 0.5435, val mf1: 0.4946, (best 0.5453)\n",
      "s: Epoch 288, loss: 0.0119, val mf1: 0.8535, (best 0.8866)\n",
      "j: Epoch 288, loss: 0.0054, val mf1: 0.4955, (best 0.5369)\n"
     ]
    },
    {
     "name": "stderr",
     "output_type": "stream",
     "text": [
      "C:\\ProgramData\\anaconda3\\lib\\site-packages\\sklearn\\metrics\\_classification.py:1531: UndefinedMetricWarning: Precision is ill-defined and being set to 0.0 due to no predicted samples. Use `zero_division` parameter to control this behavior.\n",
      "  _warn_prf(average, modifier, f\"{metric.capitalize()} is\", len(result))\n",
      "C:\\ProgramData\\anaconda3\\lib\\site-packages\\sklearn\\metrics\\_classification.py:1531: UndefinedMetricWarning: Precision is ill-defined and being set to 0.0 due to no predicted samples. Use `zero_division` parameter to control this behavior.\n",
      "  _warn_prf(average, modifier, f\"{metric.capitalize()} is\", len(result))\n"
     ]
    },
    {
     "name": "stdout",
     "output_type": "stream",
     "text": [
      "C: Epoch 289, loss: 0.5369, val mf1: 0.4946, (best 0.5453)\n",
      "s: Epoch 289, loss: 0.0119, val mf1: 0.8535, (best 0.8866)\n",
      "j: Epoch 289, loss: 0.0054, val mf1: 0.4955, (best 0.5369)\n",
      "C: Epoch 290, loss: 0.5307, val mf1: 0.4946, (best 0.5453)\n",
      "s: Epoch 290, loss: 0.0117, val mf1: 0.8535, (best 0.8866)\n",
      "j: Epoch 290, loss: 0.0054, val mf1: 0.4955, (best 0.5369)\n"
     ]
    },
    {
     "name": "stderr",
     "output_type": "stream",
     "text": [
      "C:\\ProgramData\\anaconda3\\lib\\site-packages\\sklearn\\metrics\\_classification.py:1531: UndefinedMetricWarning: Precision is ill-defined and being set to 0.0 due to no predicted samples. Use `zero_division` parameter to control this behavior.\n",
      "  _warn_prf(average, modifier, f\"{metric.capitalize()} is\", len(result))\n"
     ]
    },
    {
     "name": "stdout",
     "output_type": "stream",
     "text": [
      "C: Epoch 291, loss: 0.5489, val mf1: 0.5185, (best 0.5453)\n",
      "s: Epoch 291, loss: 0.0123, val mf1: 0.8535, (best 0.8866)\n",
      "j: Epoch 291, loss: 0.0054, val mf1: 0.4955, (best 0.5369)\n",
      "C: Epoch 292, loss: 0.5959, val mf1: 0.4946, (best 0.5453)\n",
      "s: Epoch 292, loss: 0.0126, val mf1: 0.8535, (best 0.8866)\n",
      "j: Epoch 292, loss: 0.0054, val mf1: 0.4955, (best 0.5369)\n"
     ]
    },
    {
     "name": "stderr",
     "output_type": "stream",
     "text": [
      "C:\\ProgramData\\anaconda3\\lib\\site-packages\\sklearn\\metrics\\_classification.py:1531: UndefinedMetricWarning: Precision is ill-defined and being set to 0.0 due to no predicted samples. Use `zero_division` parameter to control this behavior.\n",
      "  _warn_prf(average, modifier, f\"{metric.capitalize()} is\", len(result))\n",
      "C:\\ProgramData\\anaconda3\\lib\\site-packages\\sklearn\\metrics\\_classification.py:1531: UndefinedMetricWarning: Precision is ill-defined and being set to 0.0 due to no predicted samples. Use `zero_division` parameter to control this behavior.\n",
      "  _warn_prf(average, modifier, f\"{metric.capitalize()} is\", len(result))\n"
     ]
    },
    {
     "name": "stdout",
     "output_type": "stream",
     "text": [
      "C: Epoch 293, loss: 0.5537, val mf1: 0.4946, (best 0.5453)\n",
      "s: Epoch 293, loss: 0.0139, val mf1: 0.8535, (best 0.8866)\n",
      "j: Epoch 293, loss: 0.0054, val mf1: 0.4955, (best 0.5369)\n",
      "C: Epoch 294, loss: 0.5346, val mf1: 0.5069, (best 0.5453)\n",
      "s: Epoch 294, loss: 0.0144, val mf1: 0.8535, (best 0.8866)\n",
      "j: Epoch 294, loss: 0.0054, val mf1: 0.4955, (best 0.5369)\n",
      "C: Epoch 295, loss: 0.5666, val mf1: 0.5069, (best 0.5453)\n",
      "s: Epoch 295, loss: 0.0134, val mf1: 0.8535, (best 0.8866)\n",
      "j: Epoch 295, loss: 0.0054, val mf1: 0.4955, (best 0.5369)\n",
      "C: Epoch 296, loss: 0.5425, val mf1: 0.5113, (best 0.5453)\n",
      "s: Epoch 296, loss: 0.0127, val mf1: 0.8535, (best 0.8866)\n",
      "j: Epoch 296, loss: 0.0054, val mf1: 0.4955, (best 0.5369)\n",
      "C: Epoch 297, loss: 0.5212, val mf1: 0.5239, (best 0.5453)\n",
      "s: Epoch 297, loss: 0.0123, val mf1: 0.8535, (best 0.8866)\n",
      "j: Epoch 297, loss: 0.0054, val mf1: 0.4955, (best 0.5369)\n",
      "C: Epoch 298, loss: 0.5315, val mf1: 0.5333, (best 0.5453)\n",
      "s: Epoch 298, loss: 0.0124, val mf1: 0.8535, (best 0.8866)\n",
      "j: Epoch 298, loss: 0.0054, val mf1: 0.4955, (best 0.5369)\n",
      "C: Epoch 299, loss: 0.5894, val mf1: 0.5333, (best 0.5453)\n",
      "s: Epoch 299, loss: 0.0117, val mf1: 0.8535, (best 0.8866)\n",
      "j: Epoch 299, loss: 0.0054, val mf1: 0.4955, (best 0.5369)\n",
      "C: Epoch 300, loss: 0.5256, val mf1: 0.5300, (best 0.5453)\n",
      "s: Epoch 300, loss: 0.0124, val mf1: 0.8535, (best 0.8866)\n",
      "j: Epoch 300, loss: 0.0054, val mf1: 0.4955, (best 0.5369)\n",
      "C: Epoch 301, loss: 0.5220, val mf1: 0.5269, (best 0.5453)\n",
      "s: Epoch 301, loss: 0.0126, val mf1: 0.8535, (best 0.8866)\n",
      "j: Epoch 301, loss: 0.0053, val mf1: 0.4955, (best 0.5369)\n",
      "C: Epoch 302, loss: 0.5335, val mf1: 0.5136, (best 0.5453)\n",
      "s: Epoch 302, loss: 0.0125, val mf1: 0.8535, (best 0.8866)\n",
      "j: Epoch 302, loss: 0.0053, val mf1: 0.4955, (best 0.5369)\n",
      "C: Epoch 303, loss: 0.5400, val mf1: 0.5136, (best 0.5453)\n",
      "s: Epoch 303, loss: 0.0123, val mf1: 0.8535, (best 0.8866)\n",
      "j: Epoch 303, loss: 0.0053, val mf1: 0.4955, (best 0.5369)\n",
      "C: Epoch 304, loss: 0.5409, val mf1: 0.5136, (best 0.5453)\n",
      "s: Epoch 304, loss: 0.0121, val mf1: 0.8535, (best 0.8866)\n",
      "j: Epoch 304, loss: 0.0053, val mf1: 0.4955, (best 0.5369)\n",
      "C: Epoch 305, loss: 0.5392, val mf1: 0.5113, (best 0.5453)\n",
      "s: Epoch 305, loss: 0.0119, val mf1: 0.8535, (best 0.8866)\n",
      "j: Epoch 305, loss: 0.0053, val mf1: 0.4955, (best 0.5369)\n",
      "C: Epoch 306, loss: 0.5385, val mf1: 0.5069, (best 0.5453)\n",
      "s: Epoch 306, loss: 0.0118, val mf1: 0.8535, (best 0.8866)\n",
      "j: Epoch 306, loss: 0.0053, val mf1: 0.4955, (best 0.5369)\n",
      "C: Epoch 307, loss: 0.5396, val mf1: 0.5091, (best 0.5453)\n",
      "s: Epoch 307, loss: 0.0121, val mf1: 0.8535, (best 0.8866)\n",
      "j: Epoch 307, loss: 0.0053, val mf1: 0.4955, (best 0.5369)\n",
      "C: Epoch 308, loss: 0.5400, val mf1: 0.5091, (best 0.5453)\n",
      "s: Epoch 308, loss: 0.0117, val mf1: 0.8535, (best 0.8866)\n",
      "j: Epoch 308, loss: 0.0053, val mf1: 0.4955, (best 0.5369)\n",
      "C: Epoch 309, loss: 0.5384, val mf1: 0.5136, (best 0.5453)\n",
      "s: Epoch 309, loss: 0.0118, val mf1: 0.8535, (best 0.8866)\n",
      "j: Epoch 309, loss: 0.0053, val mf1: 0.4955, (best 0.5369)\n",
      "C: Epoch 310, loss: 0.5468, val mf1: 0.4946, (best 0.5453)\n",
      "s: Epoch 310, loss: 0.0118, val mf1: 0.8535, (best 0.8866)\n",
      "j: Epoch 310, loss: 0.0053, val mf1: 0.4955, (best 0.5369)\n"
     ]
    },
    {
     "name": "stderr",
     "output_type": "stream",
     "text": [
      "C:\\ProgramData\\anaconda3\\lib\\site-packages\\sklearn\\metrics\\_classification.py:1531: UndefinedMetricWarning: Precision is ill-defined and being set to 0.0 due to no predicted samples. Use `zero_division` parameter to control this behavior.\n",
      "  _warn_prf(average, modifier, f\"{metric.capitalize()} is\", len(result))\n",
      "C:\\ProgramData\\anaconda3\\lib\\site-packages\\sklearn\\metrics\\_classification.py:1531: UndefinedMetricWarning: Precision is ill-defined and being set to 0.0 due to no predicted samples. Use `zero_division` parameter to control this behavior.\n",
      "  _warn_prf(average, modifier, f\"{metric.capitalize()} is\", len(result))\n"
     ]
    },
    {
     "name": "stdout",
     "output_type": "stream",
     "text": [
      "C: Epoch 311, loss: 0.5373, val mf1: 0.4946, (best 0.5453)\n",
      "s: Epoch 311, loss: 0.0116, val mf1: 0.8535, (best 0.8866)\n",
      "j: Epoch 311, loss: 0.0053, val mf1: 0.4955, (best 0.5369)\n",
      "C: Epoch 312, loss: 0.5384, val mf1: 0.5113, (best 0.5453)\n",
      "s: Epoch 312, loss: 0.0115, val mf1: 0.8535, (best 0.8866)\n",
      "j: Epoch 312, loss: 0.0053, val mf1: 0.4955, (best 0.5369)\n",
      "C: Epoch 313, loss: 0.5390, val mf1: 0.5091, (best 0.5453)\n",
      "s: Epoch 313, loss: 0.0113, val mf1: 0.8535, (best 0.8866)\n",
      "j: Epoch 313, loss: 0.0053, val mf1: 0.4955, (best 0.5369)\n",
      "C: Epoch 314, loss: 0.5385, val mf1: 0.5091, (best 0.5453)\n",
      "s: Epoch 314, loss: 0.0115, val mf1: 0.8535, (best 0.8866)\n",
      "j: Epoch 314, loss: 0.0053, val mf1: 0.4955, (best 0.5369)\n",
      "C: Epoch 315, loss: 0.5365, val mf1: 0.5091, (best 0.5453)\n",
      "s: Epoch 315, loss: 0.0112, val mf1: 0.8535, (best 0.8866)\n",
      "j: Epoch 315, loss: 0.0053, val mf1: 0.4955, (best 0.5369)\n",
      "C: Epoch 316, loss: 0.5335, val mf1: 0.5069, (best 0.5453)\n",
      "s: Epoch 316, loss: 0.0110, val mf1: 0.8535, (best 0.8866)\n",
      "j: Epoch 316, loss: 0.0053, val mf1: 0.4955, (best 0.5369)\n",
      "C: Epoch 317, loss: 0.5308, val mf1: 0.5211, (best 0.5453)\n",
      "s: Epoch 317, loss: 0.0111, val mf1: 0.8535, (best 0.8866)\n",
      "j: Epoch 317, loss: 0.0053, val mf1: 0.4955, (best 0.5369)\n",
      "C: Epoch 318, loss: 0.5262, val mf1: 0.5185, (best 0.5453)\n",
      "s: Epoch 318, loss: 0.0111, val mf1: 0.8535, (best 0.8866)\n",
      "j: Epoch 318, loss: 0.0053, val mf1: 0.4955, (best 0.5369)\n",
      "C: Epoch 319, loss: 0.5183, val mf1: 0.5185, (best 0.5453)\n",
      "s: Epoch 319, loss: 0.0109, val mf1: 0.8535, (best 0.8866)\n",
      "j: Epoch 319, loss: 0.0053, val mf1: 0.4955, (best 0.5369)\n",
      "C: Epoch 320, loss: 0.5158, val mf1: 0.5300, (best 0.5453)\n",
      "s: Epoch 320, loss: 0.0108, val mf1: 0.8535, (best 0.8866)\n",
      "j: Epoch 320, loss: 0.0053, val mf1: 0.4955, (best 0.5369)\n",
      "C: Epoch 321, loss: 0.5119, val mf1: 0.5300, (best 0.5453)\n",
      "s: Epoch 321, loss: 0.0106, val mf1: 0.8535, (best 0.8866)\n",
      "j: Epoch 321, loss: 0.0053, val mf1: 0.4955, (best 0.5369)\n",
      "C: Epoch 322, loss: 0.5165, val mf1: 0.5300, (best 0.5453)\n",
      "s: Epoch 322, loss: 0.0107, val mf1: 0.8535, (best 0.8866)\n",
      "j: Epoch 322, loss: 0.0053, val mf1: 0.4955, (best 0.5369)\n",
      "C: Epoch 323, loss: 0.5115, val mf1: 0.5239, (best 0.5453)\n",
      "s: Epoch 323, loss: 0.0105, val mf1: 0.8535, (best 0.8866)\n",
      "j: Epoch 323, loss: 0.0053, val mf1: 0.4955, (best 0.5369)\n",
      "C: Epoch 324, loss: 0.5124, val mf1: 0.5239, (best 0.5453)\n",
      "s: Epoch 324, loss: 0.0105, val mf1: 0.8535, (best 0.8866)\n",
      "j: Epoch 324, loss: 0.0053, val mf1: 0.4955, (best 0.5369)\n",
      "C: Epoch 325, loss: 0.5123, val mf1: 0.5239, (best 0.5453)\n",
      "s: Epoch 325, loss: 0.0103, val mf1: 0.8535, (best 0.8866)\n",
      "j: Epoch 325, loss: 0.0053, val mf1: 0.4955, (best 0.5369)\n",
      "C: Epoch 326, loss: 0.5116, val mf1: 0.5300, (best 0.5453)\n",
      "s: Epoch 326, loss: 0.0104, val mf1: 0.8535, (best 0.8866)\n",
      "j: Epoch 326, loss: 0.0053, val mf1: 0.4955, (best 0.5369)\n",
      "C: Epoch 327, loss: 0.5110, val mf1: 0.5300, (best 0.5453)\n",
      "s: Epoch 327, loss: 0.0112, val mf1: 0.8535, (best 0.8866)\n",
      "j: Epoch 327, loss: 0.0053, val mf1: 0.4955, (best 0.5369)\n",
      "C: Epoch 328, loss: 0.5106, val mf1: 0.5239, (best 0.5453)\n",
      "s: Epoch 328, loss: 0.0117, val mf1: 0.8535, (best 0.8866)\n",
      "j: Epoch 328, loss: 0.0053, val mf1: 0.4955, (best 0.5369)\n",
      "C: Epoch 329, loss: 0.5098, val mf1: 0.5211, (best 0.5453)\n",
      "s: Epoch 329, loss: 0.0113, val mf1: 0.8535, (best 0.8866)\n",
      "j: Epoch 329, loss: 0.0053, val mf1: 0.4955, (best 0.5369)\n",
      "C: Epoch 330, loss: 0.5100, val mf1: 0.5211, (best 0.5453)\n",
      "s: Epoch 330, loss: 0.0108, val mf1: 0.8535, (best 0.8866)\n",
      "j: Epoch 330, loss: 0.0053, val mf1: 0.4955, (best 0.5369)\n",
      "C: Epoch 331, loss: 0.5094, val mf1: 0.5211, (best 0.5453)\n",
      "s: Epoch 331, loss: 0.0111, val mf1: 0.8535, (best 0.8866)\n",
      "j: Epoch 331, loss: 0.0053, val mf1: 0.4955, (best 0.5369)\n",
      "C: Epoch 332, loss: 0.5101, val mf1: 0.5211, (best 0.5453)\n",
      "s: Epoch 332, loss: 0.0109, val mf1: 0.8535, (best 0.8866)\n",
      "j: Epoch 332, loss: 0.0052, val mf1: 0.4955, (best 0.5369)\n",
      "C: Epoch 333, loss: 0.5071, val mf1: 0.5211, (best 0.5453)\n",
      "s: Epoch 333, loss: 0.0107, val mf1: 0.8535, (best 0.8866)\n",
      "j: Epoch 333, loss: 0.0052, val mf1: 0.4955, (best 0.5369)\n",
      "C: Epoch 334, loss: 0.5119, val mf1: 0.5239, (best 0.5453)\n",
      "s: Epoch 334, loss: 0.0108, val mf1: 0.8535, (best 0.8866)\n",
      "j: Epoch 334, loss: 0.0052, val mf1: 0.4955, (best 0.5369)\n",
      "C: Epoch 335, loss: 0.5070, val mf1: 0.5211, (best 0.5453)\n",
      "s: Epoch 335, loss: 0.0102, val mf1: 0.8535, (best 0.8866)\n",
      "j: Epoch 335, loss: 0.0052, val mf1: 0.4955, (best 0.5369)\n",
      "C: Epoch 336, loss: 0.5083, val mf1: 0.5239, (best 0.5453)\n",
      "s: Epoch 336, loss: 0.0101, val mf1: 0.8535, (best 0.8866)\n",
      "j: Epoch 336, loss: 0.0052, val mf1: 0.4955, (best 0.5369)\n",
      "C: Epoch 337, loss: 0.5098, val mf1: 0.5239, (best 0.5453)\n",
      "s: Epoch 337, loss: 0.0100, val mf1: 0.8535, (best 0.8866)\n",
      "j: Epoch 337, loss: 0.0052, val mf1: 0.4955, (best 0.5369)\n",
      "C: Epoch 338, loss: 0.5080, val mf1: 0.5239, (best 0.5453)\n",
      "s: Epoch 338, loss: 0.0097, val mf1: 0.8535, (best 0.8866)\n",
      "j: Epoch 338, loss: 0.0052, val mf1: 0.4955, (best 0.5369)\n",
      "C: Epoch 339, loss: 0.5087, val mf1: 0.5211, (best 0.5453)\n",
      "s: Epoch 339, loss: 0.0095, val mf1: 0.8535, (best 0.8866)\n",
      "j: Epoch 339, loss: 0.0052, val mf1: 0.4955, (best 0.5369)\n",
      "C: Epoch 340, loss: 0.5089, val mf1: 0.5239, (best 0.5453)\n",
      "s: Epoch 340, loss: 0.0097, val mf1: 0.8535, (best 0.8866)\n",
      "j: Epoch 340, loss: 0.0052, val mf1: 0.4955, (best 0.5369)\n",
      "C: Epoch 341, loss: 0.5076, val mf1: 0.5239, (best 0.5453)\n",
      "s: Epoch 341, loss: 0.0099, val mf1: 0.8535, (best 0.8866)\n",
      "j: Epoch 341, loss: 0.0052, val mf1: 0.4955, (best 0.5369)\n",
      "C: Epoch 342, loss: 0.5052, val mf1: 0.5211, (best 0.5453)\n",
      "s: Epoch 342, loss: 0.0102, val mf1: 0.8535, (best 0.8866)\n",
      "j: Epoch 342, loss: 0.0052, val mf1: 0.4955, (best 0.5369)\n",
      "C: Epoch 343, loss: 0.5103, val mf1: 0.5239, (best 0.5453)\n",
      "s: Epoch 343, loss: 0.0098, val mf1: 0.8535, (best 0.8866)\n",
      "j: Epoch 343, loss: 0.0052, val mf1: 0.4955, (best 0.5369)\n",
      "C: Epoch 344, loss: 0.5066, val mf1: 0.5239, (best 0.5453)\n",
      "s: Epoch 344, loss: 0.0094, val mf1: 0.8535, (best 0.8866)\n",
      "j: Epoch 344, loss: 0.0052, val mf1: 0.4955, (best 0.5369)\n",
      "C: Epoch 345, loss: 0.5079, val mf1: 0.5211, (best 0.5453)\n",
      "s: Epoch 345, loss: 0.0094, val mf1: 0.8535, (best 0.8866)\n",
      "j: Epoch 345, loss: 0.0052, val mf1: 0.4955, (best 0.5369)\n",
      "C: Epoch 346, loss: 0.5115, val mf1: 0.5239, (best 0.5453)\n",
      "s: Epoch 346, loss: 0.0096, val mf1: 0.8535, (best 0.8866)\n",
      "j: Epoch 346, loss: 0.0052, val mf1: 0.4955, (best 0.5369)\n",
      "C: Epoch 347, loss: 0.5120, val mf1: 0.5239, (best 0.5453)\n",
      "s: Epoch 347, loss: 0.0091, val mf1: 0.8535, (best 0.8866)\n",
      "j: Epoch 347, loss: 0.0052, val mf1: 0.4955, (best 0.5369)\n",
      "C: Epoch 348, loss: 0.5110, val mf1: 0.5185, (best 0.5453)\n",
      "s: Epoch 348, loss: 0.0092, val mf1: 0.8535, (best 0.8866)\n",
      "j: Epoch 348, loss: 0.0052, val mf1: 0.4955, (best 0.5369)\n",
      "C: Epoch 349, loss: 0.5111, val mf1: 0.5185, (best 0.5453)\n",
      "s: Epoch 349, loss: 0.0090, val mf1: 0.8535, (best 0.8866)\n",
      "j: Epoch 349, loss: 0.0052, val mf1: 0.4955, (best 0.5369)\n",
      "C: Epoch 350, loss: 0.5103, val mf1: 0.5211, (best 0.5453)\n",
      "s: Epoch 350, loss: 0.0090, val mf1: 0.8535, (best 0.8866)\n",
      "j: Epoch 350, loss: 0.0052, val mf1: 0.4955, (best 0.5369)\n"
     ]
    },
    {
     "name": "stderr",
     "output_type": "stream",
     "text": [
      "C:\\ProgramData\\anaconda3\\lib\\site-packages\\sklearn\\metrics\\_classification.py:1531: UndefinedMetricWarning: Precision is ill-defined and being set to 0.0 due to no predicted samples. Use `zero_division` parameter to control this behavior.\n",
      "  _warn_prf(average, modifier, f\"{metric.capitalize()} is\", len(result))\n"
     ]
    },
    {
     "name": "stdout",
     "output_type": "stream",
     "text": [
      "C: Epoch 351, loss: 0.5074, val mf1: 0.4946, (best 0.5453)\n",
      "s: Epoch 351, loss: 0.0087, val mf1: 0.8535, (best 0.8866)\n",
      "j: Epoch 351, loss: 0.0052, val mf1: 0.4955, (best 0.5369)\n",
      "C: Epoch 352, loss: 0.5047, val mf1: 0.5211, (best 0.5453)\n",
      "s: Epoch 352, loss: 0.0103, val mf1: 0.8535, (best 0.8866)\n",
      "j: Epoch 352, loss: 0.0052, val mf1: 0.4955, (best 0.5369)\n",
      "C: Epoch 353, loss: 0.5152, val mf1: 0.5333, (best 0.5453)\n",
      "s: Epoch 353, loss: 0.0113, val mf1: 0.8535, (best 0.8866)\n",
      "j: Epoch 353, loss: 0.0052, val mf1: 0.4955, (best 0.5369)\n",
      "C: Epoch 354, loss: 0.5067, val mf1: 0.5239, (best 0.5453)\n",
      "s: Epoch 354, loss: 0.0127, val mf1: 0.8535, (best 0.8866)\n",
      "j: Epoch 354, loss: 0.0052, val mf1: 0.4955, (best 0.5369)\n",
      "C: Epoch 355, loss: 0.5143, val mf1: 0.5239, (best 0.5453)\n",
      "s: Epoch 355, loss: 0.0127, val mf1: 0.8535, (best 0.8866)\n",
      "j: Epoch 355, loss: 0.0052, val mf1: 0.4955, (best 0.5369)\n",
      "C: Epoch 356, loss: 0.5110, val mf1: 0.5211, (best 0.5453)\n",
      "s: Epoch 356, loss: 0.0118, val mf1: 0.8535, (best 0.8866)\n",
      "j: Epoch 356, loss: 0.0052, val mf1: 0.4955, (best 0.5369)\n",
      "C: Epoch 357, loss: 0.5110, val mf1: 0.5185, (best 0.5453)\n",
      "s: Epoch 357, loss: 0.0108, val mf1: 0.8535, (best 0.8866)\n",
      "j: Epoch 357, loss: 0.0052, val mf1: 0.4955, (best 0.5369)\n",
      "C: Epoch 358, loss: 0.5129, val mf1: 0.4946, (best 0.5453)\n",
      "s: Epoch 358, loss: 0.0092, val mf1: 0.8535, (best 0.8866)\n",
      "j: Epoch 358, loss: 0.0052, val mf1: 0.4955, (best 0.5369)\n",
      "C: Epoch 359, loss: 0.5144, val mf1: 0.4946, (best 0.5453)\n",
      "s: Epoch 359, loss: 0.0160, val mf1: 0.8535, (best 0.8866)\n",
      "j: Epoch 359, loss: 0.0052, val mf1: 0.4955, (best 0.5369)\n",
      "C: Epoch 360, loss: 0.5118, val mf1: 0.4946, (best 0.5453)\n",
      "s: Epoch 360, loss: 0.0110, val mf1: 0.8535, (best 0.8866)\n",
      "j: Epoch 360, loss: 0.0052, val mf1: 0.4955, (best 0.5369)\n"
     ]
    },
    {
     "name": "stderr",
     "output_type": "stream",
     "text": [
      "C:\\ProgramData\\anaconda3\\lib\\site-packages\\sklearn\\metrics\\_classification.py:1531: UndefinedMetricWarning: Precision is ill-defined and being set to 0.0 due to no predicted samples. Use `zero_division` parameter to control this behavior.\n",
      "  _warn_prf(average, modifier, f\"{metric.capitalize()} is\", len(result))\n"
     ]
    },
    {
     "name": "stdout",
     "output_type": "stream",
     "text": [
      "C: Epoch 361, loss: 0.5079, val mf1: 0.4946, (best 0.5453)\n",
      "s: Epoch 361, loss: 0.0133, val mf1: 0.8694, (best 0.8866)\n",
      "j: Epoch 361, loss: 0.0052, val mf1: 0.4955, (best 0.5369)\n",
      "C: Epoch 362, loss: 0.5060, val mf1: 0.5239, (best 0.5453)\n",
      "s: Epoch 362, loss: 0.0171, val mf1: 0.8694, (best 0.8866)\n",
      "j: Epoch 362, loss: 0.0052, val mf1: 0.4955, (best 0.5369)\n",
      "C: Epoch 363, loss: 0.5108, val mf1: 0.5239, (best 0.5453)\n",
      "s: Epoch 363, loss: 0.0170, val mf1: 0.8694, (best 0.8866)\n",
      "j: Epoch 363, loss: 0.0052, val mf1: 0.4955, (best 0.5369)\n",
      "C: Epoch 364, loss: 0.5088, val mf1: 0.5239, (best 0.5453)\n",
      "s: Epoch 364, loss: 0.0148, val mf1: 0.8535, (best 0.8866)\n",
      "j: Epoch 364, loss: 0.0052, val mf1: 0.4955, (best 0.5369)\n",
      "C: Epoch 365, loss: 0.5062, val mf1: 0.5211, (best 0.5453)\n",
      "s: Epoch 365, loss: 0.0137, val mf1: 0.8535, (best 0.8866)\n",
      "j: Epoch 365, loss: 0.0052, val mf1: 0.4955, (best 0.5369)\n",
      "C: Epoch 366, loss: 0.5060, val mf1: 0.5239, (best 0.5453)\n",
      "s: Epoch 366, loss: 0.0131, val mf1: 0.8535, (best 0.8866)\n",
      "j: Epoch 366, loss: 0.0052, val mf1: 0.4955, (best 0.5369)\n",
      "C: Epoch 367, loss: 0.5058, val mf1: 0.5211, (best 0.5453)\n",
      "s: Epoch 367, loss: 0.0126, val mf1: 0.8535, (best 0.8866)\n",
      "j: Epoch 367, loss: 0.0052, val mf1: 0.4955, (best 0.5369)\n",
      "C: Epoch 368, loss: 0.5044, val mf1: 0.5239, (best 0.5453)\n",
      "s: Epoch 368, loss: 0.0120, val mf1: 0.8535, (best 0.8866)\n",
      "j: Epoch 368, loss: 0.0052, val mf1: 0.4955, (best 0.5369)\n",
      "C: Epoch 369, loss: 0.5126, val mf1: 0.5269, (best 0.5453)\n",
      "s: Epoch 369, loss: 0.0134, val mf1: 0.8535, (best 0.8866)\n",
      "j: Epoch 369, loss: 0.0052, val mf1: 0.4955, (best 0.5369)\n",
      "C: Epoch 370, loss: 0.5038, val mf1: 0.5239, (best 0.5453)\n",
      "s: Epoch 370, loss: 0.0130, val mf1: 0.8535, (best 0.8866)\n",
      "j: Epoch 370, loss: 0.0052, val mf1: 0.4955, (best 0.5369)\n",
      "C: Epoch 371, loss: 0.5088, val mf1: 0.5211, (best 0.5453)\n",
      "s: Epoch 371, loss: 0.0115, val mf1: 0.8535, (best 0.8866)\n",
      "j: Epoch 371, loss: 0.0052, val mf1: 0.4955, (best 0.5369)\n",
      "C: Epoch 372, loss: 0.5157, val mf1: 0.5185, (best 0.5453)\n",
      "s: Epoch 372, loss: 0.0111, val mf1: 0.8535, (best 0.8866)\n",
      "j: Epoch 372, loss: 0.0052, val mf1: 0.4955, (best 0.5369)\n",
      "C: Epoch 373, loss: 0.5131, val mf1: 0.5185, (best 0.5453)\n",
      "s: Epoch 373, loss: 0.0110, val mf1: 0.8535, (best 0.8866)\n",
      "j: Epoch 373, loss: 0.0052, val mf1: 0.4955, (best 0.5369)\n",
      "C: Epoch 374, loss: 0.5068, val mf1: 0.5211, (best 0.5453)\n",
      "s: Epoch 374, loss: 0.0112, val mf1: 0.8259, (best 0.8866)\n",
      "j: Epoch 374, loss: 0.0052, val mf1: 0.4955, (best 0.5369)\n"
     ]
    },
    {
     "name": "stderr",
     "output_type": "stream",
     "text": [
      "C:\\ProgramData\\anaconda3\\lib\\site-packages\\sklearn\\metrics\\_classification.py:1531: UndefinedMetricWarning: Precision is ill-defined and being set to 0.0 due to no predicted samples. Use `zero_division` parameter to control this behavior.\n",
      "  _warn_prf(average, modifier, f\"{metric.capitalize()} is\", len(result))\n"
     ]
    },
    {
     "name": "stdout",
     "output_type": "stream",
     "text": [
      "C: Epoch 375, loss: 0.5061, val mf1: 0.4946, (best 0.5453)\n",
      "s: Epoch 375, loss: 0.0108, val mf1: 0.8535, (best 0.8866)\n",
      "j: Epoch 375, loss: 0.0052, val mf1: 0.4955, (best 0.5369)\n",
      "C: Epoch 376, loss: 0.5067, val mf1: 0.4946, (best 0.5453)\n",
      "s: Epoch 376, loss: 0.0105, val mf1: 0.8535, (best 0.8866)\n",
      "j: Epoch 376, loss: 0.0052, val mf1: 0.4955, (best 0.5369)\n"
     ]
    },
    {
     "name": "stderr",
     "output_type": "stream",
     "text": [
      "C:\\ProgramData\\anaconda3\\lib\\site-packages\\sklearn\\metrics\\_classification.py:1531: UndefinedMetricWarning: Precision is ill-defined and being set to 0.0 due to no predicted samples. Use `zero_division` parameter to control this behavior.\n",
      "  _warn_prf(average, modifier, f\"{metric.capitalize()} is\", len(result))\n"
     ]
    },
    {
     "name": "stdout",
     "output_type": "stream",
     "text": [
      "C: Epoch 377, loss: 0.5040, val mf1: 0.4946, (best 0.5453)\n",
      "s: Epoch 377, loss: 0.0105, val mf1: 0.8535, (best 0.8866)\n",
      "j: Epoch 377, loss: 0.0052, val mf1: 0.4955, (best 0.5369)\n",
      "C: Epoch 378, loss: 0.5299, val mf1: 0.5300, (best 0.5453)\n",
      "s: Epoch 378, loss: 0.0101, val mf1: 0.8535, (best 0.8866)\n",
      "j: Epoch 378, loss: 0.0052, val mf1: 0.4955, (best 0.5369)\n",
      "C: Epoch 379, loss: 0.5098, val mf1: 0.5239, (best 0.5453)\n",
      "s: Epoch 379, loss: 0.0097, val mf1: 0.8535, (best 0.8866)\n",
      "j: Epoch 379, loss: 0.0052, val mf1: 0.4955, (best 0.5369)\n",
      "C: Epoch 380, loss: 0.5259, val mf1: 0.5211, (best 0.5453)\n",
      "s: Epoch 380, loss: 0.0110, val mf1: 0.8535, (best 0.8866)\n",
      "j: Epoch 380, loss: 0.0052, val mf1: 0.4955, (best 0.5369)\n",
      "C: Epoch 381, loss: 0.5313, val mf1: 0.5136, (best 0.5453)\n",
      "s: Epoch 381, loss: 0.0093, val mf1: 0.8535, (best 0.8866)\n",
      "j: Epoch 381, loss: 0.0052, val mf1: 0.4955, (best 0.5369)\n",
      "C: Epoch 382, loss: 0.5228, val mf1: 0.5136, (best 0.5453)\n",
      "s: Epoch 382, loss: 0.0096, val mf1: 0.8535, (best 0.8866)\n",
      "j: Epoch 382, loss: 0.0052, val mf1: 0.4955, (best 0.5369)\n",
      "C: Epoch 383, loss: 0.5313, val mf1: 0.4946, (best 0.5453)\n",
      "s: Epoch 383, loss: 0.0097, val mf1: 0.8259, (best 0.8866)\n",
      "j: Epoch 383, loss: 0.0052, val mf1: 0.4955, (best 0.5369)\n",
      "C: Epoch 384, loss: 0.5288, val mf1: 0.4946, (best 0.5453)\n",
      "s: Epoch 384, loss: 0.0093, val mf1: 0.8259, (best 0.8866)\n",
      "j: Epoch 384, loss: 0.0052, val mf1: 0.4955, (best 0.5369)\n"
     ]
    },
    {
     "name": "stderr",
     "output_type": "stream",
     "text": [
      "C:\\ProgramData\\anaconda3\\lib\\site-packages\\sklearn\\metrics\\_classification.py:1531: UndefinedMetricWarning: Precision is ill-defined and being set to 0.0 due to no predicted samples. Use `zero_division` parameter to control this behavior.\n",
      "  _warn_prf(average, modifier, f\"{metric.capitalize()} is\", len(result))\n",
      "C:\\ProgramData\\anaconda3\\lib\\site-packages\\sklearn\\metrics\\_classification.py:1531: UndefinedMetricWarning: Precision is ill-defined and being set to 0.0 due to no predicted samples. Use `zero_division` parameter to control this behavior.\n",
      "  _warn_prf(average, modifier, f\"{metric.capitalize()} is\", len(result))\n"
     ]
    },
    {
     "name": "stdout",
     "output_type": "stream",
     "text": [
      "C: Epoch 385, loss: 0.5321, val mf1: 0.4946, (best 0.5453)\n",
      "s: Epoch 385, loss: 0.0096, val mf1: 0.8259, (best 0.8866)\n",
      "j: Epoch 385, loss: 0.0052, val mf1: 0.4955, (best 0.5369)\n",
      "C: Epoch 386, loss: 0.5326, val mf1: 0.4946, (best 0.5453)\n",
      "s: Epoch 386, loss: 0.0091, val mf1: 0.8259, (best 0.8866)\n",
      "j: Epoch 386, loss: 0.0052, val mf1: 0.4955, (best 0.5369)\n"
     ]
    },
    {
     "name": "stderr",
     "output_type": "stream",
     "text": [
      "C:\\ProgramData\\anaconda3\\lib\\site-packages\\sklearn\\metrics\\_classification.py:1531: UndefinedMetricWarning: Precision is ill-defined and being set to 0.0 due to no predicted samples. Use `zero_division` parameter to control this behavior.\n",
      "  _warn_prf(average, modifier, f\"{metric.capitalize()} is\", len(result))\n",
      "C:\\ProgramData\\anaconda3\\lib\\site-packages\\sklearn\\metrics\\_classification.py:1531: UndefinedMetricWarning: Precision is ill-defined and being set to 0.0 due to no predicted samples. Use `zero_division` parameter to control this behavior.\n",
      "  _warn_prf(average, modifier, f\"{metric.capitalize()} is\", len(result))\n"
     ]
    },
    {
     "name": "stdout",
     "output_type": "stream",
     "text": [
      "C: Epoch 387, loss: 0.5374, val mf1: 0.4946, (best 0.5453)\n",
      "s: Epoch 387, loss: 0.0097, val mf1: 0.8259, (best 0.8866)\n",
      "j: Epoch 387, loss: 0.0051, val mf1: 0.4955, (best 0.5369)\n",
      "C: Epoch 388, loss: 0.5303, val mf1: 0.4946, (best 0.5453)\n",
      "s: Epoch 388, loss: 0.0104, val mf1: 0.8259, (best 0.8866)\n",
      "j: Epoch 388, loss: 0.0051, val mf1: 0.4955, (best 0.5369)\n"
     ]
    },
    {
     "name": "stderr",
     "output_type": "stream",
     "text": [
      "C:\\ProgramData\\anaconda3\\lib\\site-packages\\sklearn\\metrics\\_classification.py:1531: UndefinedMetricWarning: Precision is ill-defined and being set to 0.0 due to no predicted samples. Use `zero_division` parameter to control this behavior.\n",
      "  _warn_prf(average, modifier, f\"{metric.capitalize()} is\", len(result))\n"
     ]
    },
    {
     "name": "stdout",
     "output_type": "stream",
     "text": [
      "C: Epoch 389, loss: 0.5304, val mf1: 0.5113, (best 0.5453)\n",
      "s: Epoch 389, loss: 0.0099, val mf1: 0.8259, (best 0.8866)\n",
      "j: Epoch 389, loss: 0.0051, val mf1: 0.4955, (best 0.5369)\n",
      "C: Epoch 390, loss: 0.5267, val mf1: 0.5211, (best 0.5453)\n",
      "s: Epoch 390, loss: 0.0089, val mf1: 0.8259, (best 0.8866)\n",
      "j: Epoch 390, loss: 0.0051, val mf1: 0.4955, (best 0.5369)\n",
      "C: Epoch 391, loss: 0.5249, val mf1: 0.5185, (best 0.5453)\n",
      "s: Epoch 391, loss: 0.0100, val mf1: 0.8259, (best 0.8866)\n",
      "j: Epoch 391, loss: 0.0051, val mf1: 0.4955, (best 0.5369)\n",
      "C: Epoch 392, loss: 0.5247, val mf1: 0.5185, (best 0.5453)\n",
      "s: Epoch 392, loss: 0.0086, val mf1: 0.8259, (best 0.8866)\n",
      "j: Epoch 392, loss: 0.0051, val mf1: 0.4955, (best 0.5369)\n",
      "C: Epoch 393, loss: 0.5295, val mf1: 0.5300, (best 0.5453)\n",
      "s: Epoch 393, loss: 0.0089, val mf1: 0.8259, (best 0.8866)\n",
      "j: Epoch 393, loss: 0.0051, val mf1: 0.4955, (best 0.5369)\n",
      "C: Epoch 394, loss: 0.5134, val mf1: 0.5300, (best 0.5453)\n",
      "s: Epoch 394, loss: 0.0090, val mf1: 0.8259, (best 0.8866)\n",
      "j: Epoch 394, loss: 0.0051, val mf1: 0.4955, (best 0.5369)\n",
      "C: Epoch 395, loss: 0.5145, val mf1: 0.5300, (best 0.5453)\n",
      "s: Epoch 395, loss: 0.0087, val mf1: 0.8259, (best 0.8866)\n",
      "j: Epoch 395, loss: 0.0051, val mf1: 0.4955, (best 0.5369)\n",
      "C: Epoch 396, loss: 0.5141, val mf1: 0.5211, (best 0.5453)\n",
      "s: Epoch 396, loss: 0.0084, val mf1: 0.8259, (best 0.8866)\n",
      "j: Epoch 396, loss: 0.0051, val mf1: 0.4955, (best 0.5369)\n",
      "C: Epoch 397, loss: 0.5105, val mf1: 0.5136, (best 0.5453)\n",
      "s: Epoch 397, loss: 0.0094, val mf1: 0.8259, (best 0.8866)\n",
      "j: Epoch 397, loss: 0.0051, val mf1: 0.4955, (best 0.5369)\n",
      "C: Epoch 398, loss: 0.5670, val mf1: 0.5211, (best 0.5453)\n",
      "s: Epoch 398, loss: 0.0087, val mf1: 0.8259, (best 0.8866)\n",
      "j: Epoch 398, loss: 0.0051, val mf1: 0.4955, (best 0.5369)\n",
      "C: Epoch 399, loss: 0.5177, val mf1: 0.5160, (best 0.5453)\n",
      "s: Epoch 399, loss: 0.0094, val mf1: 0.8535, (best 0.8866)\n",
      "j: Epoch 399, loss: 0.0051, val mf1: 0.4955, (best 0.5369)\n",
      "C: Epoch 400, loss: 0.5208, val mf1: 0.5113, (best 0.5453)\n",
      "s: Epoch 400, loss: 0.0093, val mf1: 0.8413, (best 0.8866)\n",
      "j: Epoch 400, loss: 0.0051, val mf1: 0.4955, (best 0.5369)\n",
      "C: Epoch 401, loss: 0.5304, val mf1: 0.5028, (best 0.5453)\n",
      "s: Epoch 401, loss: 0.0087, val mf1: 0.8413, (best 0.8866)\n",
      "j: Epoch 401, loss: 0.0051, val mf1: 0.4955, (best 0.5369)\n",
      "C: Epoch 402, loss: 0.5314, val mf1: 0.5136, (best 0.5453)\n",
      "s: Epoch 402, loss: 0.0081, val mf1: 0.8413, (best 0.8866)\n",
      "j: Epoch 402, loss: 0.0051, val mf1: 0.4955, (best 0.5369)\n"
     ]
    },
    {
     "name": "stderr",
     "output_type": "stream",
     "text": [
      "C:\\ProgramData\\anaconda3\\lib\\site-packages\\sklearn\\metrics\\_classification.py:1531: UndefinedMetricWarning: Precision is ill-defined and being set to 0.0 due to no predicted samples. Use `zero_division` parameter to control this behavior.\n",
      "  _warn_prf(average, modifier, f\"{metric.capitalize()} is\", len(result))\n"
     ]
    },
    {
     "name": "stdout",
     "output_type": "stream",
     "text": [
      "C: Epoch 403, loss: 0.5325, val mf1: 0.4946, (best 0.5453)\n",
      "s: Epoch 403, loss: 0.0082, val mf1: 0.8413, (best 0.8866)\n",
      "j: Epoch 403, loss: 0.0051, val mf1: 0.4955, (best 0.5369)\n",
      "C: Epoch 404, loss: 0.5328, val mf1: 0.4946, (best 0.5453)\n",
      "s: Epoch 404, loss: 0.0082, val mf1: 0.8413, (best 0.8866)\n",
      "j: Epoch 404, loss: 0.0051, val mf1: 0.4955, (best 0.5369)\n"
     ]
    },
    {
     "name": "stderr",
     "output_type": "stream",
     "text": [
      "C:\\ProgramData\\anaconda3\\lib\\site-packages\\sklearn\\metrics\\_classification.py:1531: UndefinedMetricWarning: Precision is ill-defined and being set to 0.0 due to no predicted samples. Use `zero_division` parameter to control this behavior.\n",
      "  _warn_prf(average, modifier, f\"{metric.capitalize()} is\", len(result))\n"
     ]
    },
    {
     "name": "stdout",
     "output_type": "stream",
     "text": [
      "C: Epoch 405, loss: 0.5327, val mf1: 0.4946, (best 0.5453)\n",
      "s: Epoch 405, loss: 0.0082, val mf1: 0.8413, (best 0.8866)\n",
      "j: Epoch 405, loss: 0.0051, val mf1: 0.4955, (best 0.5369)\n",
      "C: Epoch 406, loss: 0.5401, val mf1: 0.4946, (best 0.5453)\n",
      "s: Epoch 406, loss: 0.0078, val mf1: 0.8413, (best 0.8866)\n",
      "j: Epoch 406, loss: 0.0051, val mf1: 0.4955, (best 0.5369)\n"
     ]
    },
    {
     "name": "stderr",
     "output_type": "stream",
     "text": [
      "C:\\ProgramData\\anaconda3\\lib\\site-packages\\sklearn\\metrics\\_classification.py:1531: UndefinedMetricWarning: Precision is ill-defined and being set to 0.0 due to no predicted samples. Use `zero_division` parameter to control this behavior.\n",
      "  _warn_prf(average, modifier, f\"{metric.capitalize()} is\", len(result))\n"
     ]
    },
    {
     "name": "stdout",
     "output_type": "stream",
     "text": [
      "C: Epoch 407, loss: 0.5327, val mf1: 0.4946, (best 0.5453)\n",
      "s: Epoch 407, loss: 0.0078, val mf1: 0.8413, (best 0.8866)\n",
      "j: Epoch 407, loss: 0.0051, val mf1: 0.4955, (best 0.5369)\n",
      "C: Epoch 408, loss: 0.5372, val mf1: 0.5160, (best 0.5453)\n",
      "s: Epoch 408, loss: 0.0076, val mf1: 0.8413, (best 0.8866)\n",
      "j: Epoch 408, loss: 0.0051, val mf1: 0.4955, (best 0.5369)\n",
      "C: Epoch 409, loss: 0.5407, val mf1: 0.5091, (best 0.5453)\n",
      "s: Epoch 409, loss: 0.0078, val mf1: 0.8413, (best 0.8866)\n",
      "j: Epoch 409, loss: 0.0051, val mf1: 0.4955, (best 0.5369)\n",
      "C: Epoch 410, loss: 0.5416, val mf1: 0.5048, (best 0.5453)\n",
      "s: Epoch 410, loss: 0.0077, val mf1: 0.8413, (best 0.8866)\n",
      "j: Epoch 410, loss: 0.0051, val mf1: 0.4955, (best 0.5369)\n",
      "C: Epoch 411, loss: 0.5412, val mf1: 0.5009, (best 0.5453)\n",
      "s: Epoch 411, loss: 0.0074, val mf1: 0.8413, (best 0.8866)\n",
      "j: Epoch 411, loss: 0.0051, val mf1: 0.4955, (best 0.5369)\n",
      "C: Epoch 412, loss: 0.5398, val mf1: 0.4946, (best 0.5453)\n",
      "s: Epoch 412, loss: 0.0075, val mf1: 0.8413, (best 0.8866)\n",
      "j: Epoch 412, loss: 0.0051, val mf1: 0.4955, (best 0.5369)\n"
     ]
    },
    {
     "name": "stderr",
     "output_type": "stream",
     "text": [
      "C:\\ProgramData\\anaconda3\\lib\\site-packages\\sklearn\\metrics\\_classification.py:1531: UndefinedMetricWarning: Precision is ill-defined and being set to 0.0 due to no predicted samples. Use `zero_division` parameter to control this behavior.\n",
      "  _warn_prf(average, modifier, f\"{metric.capitalize()} is\", len(result))\n",
      "C:\\ProgramData\\anaconda3\\lib\\site-packages\\sklearn\\metrics\\_classification.py:1531: UndefinedMetricWarning: Precision is ill-defined and being set to 0.0 due to no predicted samples. Use `zero_division` parameter to control this behavior.\n",
      "  _warn_prf(average, modifier, f\"{metric.capitalize()} is\", len(result))\n"
     ]
    },
    {
     "name": "stdout",
     "output_type": "stream",
     "text": [
      "C: Epoch 413, loss: 0.5385, val mf1: 0.4946, (best 0.5453)\n",
      "s: Epoch 413, loss: 0.0072, val mf1: 0.8413, (best 0.8866)\n",
      "j: Epoch 413, loss: 0.0051, val mf1: 0.4955, (best 0.5369)\n",
      "C: Epoch 414, loss: 0.5379, val mf1: 0.4946, (best 0.5453)\n",
      "s: Epoch 414, loss: 0.0071, val mf1: 0.8413, (best 0.8866)\n",
      "j: Epoch 414, loss: 0.0051, val mf1: 0.4955, (best 0.5369)\n"
     ]
    },
    {
     "name": "stderr",
     "output_type": "stream",
     "text": [
      "C:\\ProgramData\\anaconda3\\lib\\site-packages\\sklearn\\metrics\\_classification.py:1531: UndefinedMetricWarning: Precision is ill-defined and being set to 0.0 due to no predicted samples. Use `zero_division` parameter to control this behavior.\n",
      "  _warn_prf(average, modifier, f\"{metric.capitalize()} is\", len(result))\n",
      "C:\\ProgramData\\anaconda3\\lib\\site-packages\\sklearn\\metrics\\_classification.py:1531: UndefinedMetricWarning: Precision is ill-defined and being set to 0.0 due to no predicted samples. Use `zero_division` parameter to control this behavior.\n",
      "  _warn_prf(average, modifier, f\"{metric.capitalize()} is\", len(result))\n"
     ]
    },
    {
     "name": "stdout",
     "output_type": "stream",
     "text": [
      "C: Epoch 415, loss: 0.5364, val mf1: 0.4946, (best 0.5453)\n",
      "s: Epoch 415, loss: 0.0071, val mf1: 0.8413, (best 0.8866)\n",
      "j: Epoch 415, loss: 0.0051, val mf1: 0.4955, (best 0.5369)\n",
      "C: Epoch 416, loss: 0.5339, val mf1: 0.5239, (best 0.5453)\n",
      "s: Epoch 416, loss: 0.0069, val mf1: 0.8413, (best 0.8866)\n",
      "j: Epoch 416, loss: 0.0051, val mf1: 0.4955, (best 0.5369)\n",
      "C: Epoch 417, loss: 0.5323, val mf1: 0.5211, (best 0.5453)\n",
      "s: Epoch 417, loss: 0.0069, val mf1: 0.8413, (best 0.8866)\n",
      "j: Epoch 417, loss: 0.0051, val mf1: 0.4955, (best 0.5369)\n",
      "C: Epoch 418, loss: 0.5312, val mf1: 0.5211, (best 0.5453)\n",
      "s: Epoch 418, loss: 0.0074, val mf1: 0.8413, (best 0.8866)\n",
      "j: Epoch 418, loss: 0.0051, val mf1: 0.4955, (best 0.5369)\n",
      "C: Epoch 419, loss: 0.5281, val mf1: 0.5300, (best 0.5453)\n",
      "s: Epoch 419, loss: 0.0088, val mf1: 0.8413, (best 0.8866)\n",
      "j: Epoch 419, loss: 0.0051, val mf1: 0.4955, (best 0.5369)\n",
      "C: Epoch 420, loss: 0.5255, val mf1: 0.5300, (best 0.5453)\n",
      "s: Epoch 420, loss: 0.0102, val mf1: 0.8413, (best 0.8866)\n",
      "j: Epoch 420, loss: 0.0051, val mf1: 0.4955, (best 0.5369)\n",
      "C: Epoch 421, loss: 0.5226, val mf1: 0.5239, (best 0.5453)\n",
      "s: Epoch 421, loss: 0.0091, val mf1: 0.8413, (best 0.8866)\n",
      "j: Epoch 421, loss: 0.0051, val mf1: 0.4955, (best 0.5369)\n",
      "C: Epoch 422, loss: 0.5227, val mf1: 0.5300, (best 0.5453)\n",
      "s: Epoch 422, loss: 0.0073, val mf1: 0.8387, (best 0.8866)\n",
      "j: Epoch 422, loss: 0.0051, val mf1: 0.4955, (best 0.5369)\n",
      "C: Epoch 423, loss: 0.5233, val mf1: 0.5300, (best 0.5453)\n",
      "s: Epoch 423, loss: 0.0099, val mf1: 0.8535, (best 0.8866)\n",
      "j: Epoch 423, loss: 0.0051, val mf1: 0.4955, (best 0.5369)\n",
      "C: Epoch 424, loss: 0.5196, val mf1: 0.5300, (best 0.5453)\n",
      "s: Epoch 424, loss: 0.0083, val mf1: 0.8535, (best 0.8866)\n",
      "j: Epoch 424, loss: 0.0051, val mf1: 0.4955, (best 0.5369)\n",
      "C: Epoch 425, loss: 0.5153, val mf1: 0.5333, (best 0.5453)\n",
      "s: Epoch 425, loss: 0.0101, val mf1: 0.8535, (best 0.8866)\n",
      "j: Epoch 425, loss: 0.0051, val mf1: 0.4955, (best 0.5369)\n",
      "C: Epoch 426, loss: 0.5129, val mf1: 0.5300, (best 0.5453)\n",
      "s: Epoch 426, loss: 0.0106, val mf1: 0.8535, (best 0.8866)\n",
      "j: Epoch 426, loss: 0.0051, val mf1: 0.4955, (best 0.5369)\n",
      "C: Epoch 427, loss: 0.5113, val mf1: 0.5300, (best 0.5453)\n",
      "s: Epoch 427, loss: 0.0106, val mf1: 0.8413, (best 0.8866)\n",
      "j: Epoch 427, loss: 0.0051, val mf1: 0.4955, (best 0.5369)\n",
      "C: Epoch 428, loss: 0.5090, val mf1: 0.5333, (best 0.5453)\n",
      "s: Epoch 428, loss: 0.0103, val mf1: 0.8413, (best 0.8866)\n",
      "j: Epoch 428, loss: 0.0051, val mf1: 0.4955, (best 0.5369)\n",
      "C: Epoch 429, loss: 0.5230, val mf1: 0.5369, (best 0.5453)\n",
      "s: Epoch 429, loss: 0.0101, val mf1: 0.8413, (best 0.8866)\n",
      "j: Epoch 429, loss: 0.0051, val mf1: 0.4955, (best 0.5369)\n",
      "C: Epoch 430, loss: 0.5085, val mf1: 0.5333, (best 0.5453)\n",
      "s: Epoch 430, loss: 0.0097, val mf1: 0.8413, (best 0.8866)\n",
      "j: Epoch 430, loss: 0.0051, val mf1: 0.4955, (best 0.5369)\n",
      "C: Epoch 431, loss: 0.5083, val mf1: 0.5333, (best 0.5453)\n",
      "s: Epoch 431, loss: 0.0088, val mf1: 0.8413, (best 0.8866)\n",
      "j: Epoch 431, loss: 0.0051, val mf1: 0.4955, (best 0.5369)\n",
      "C: Epoch 432, loss: 0.5072, val mf1: 0.5333, (best 0.5453)\n",
      "s: Epoch 432, loss: 0.0080, val mf1: 0.8259, (best 0.8866)\n",
      "j: Epoch 432, loss: 0.0051, val mf1: 0.4955, (best 0.5369)\n",
      "C: Epoch 433, loss: 0.5160, val mf1: 0.5333, (best 0.5453)\n",
      "s: Epoch 433, loss: 0.0105, val mf1: 0.8535, (best 0.8866)\n",
      "j: Epoch 433, loss: 0.0051, val mf1: 0.4955, (best 0.5369)\n",
      "C: Epoch 434, loss: 0.5110, val mf1: 0.5269, (best 0.5453)\n",
      "s: Epoch 434, loss: 0.0085, val mf1: 0.8535, (best 0.8866)\n",
      "j: Epoch 434, loss: 0.0051, val mf1: 0.4955, (best 0.5369)\n",
      "C: Epoch 435, loss: 0.5117, val mf1: 0.5300, (best 0.5453)\n",
      "s: Epoch 435, loss: 0.0095, val mf1: 0.8535, (best 0.8866)\n",
      "j: Epoch 435, loss: 0.0051, val mf1: 0.4955, (best 0.5369)\n",
      "C: Epoch 436, loss: 0.5101, val mf1: 0.5300, (best 0.5453)\n",
      "s: Epoch 436, loss: 0.0102, val mf1: 0.8694, (best 0.8866)\n",
      "j: Epoch 436, loss: 0.0051, val mf1: 0.4955, (best 0.5369)\n",
      "C: Epoch 437, loss: 0.5085, val mf1: 0.5333, (best 0.5453)\n",
      "s: Epoch 437, loss: 0.0111, val mf1: 0.8413, (best 0.8866)\n",
      "j: Epoch 437, loss: 0.0051, val mf1: 0.4955, (best 0.5369)\n",
      "C: Epoch 438, loss: 0.5073, val mf1: 0.5300, (best 0.5453)\n",
      "s: Epoch 438, loss: 0.0105, val mf1: 0.8535, (best 0.8866)\n",
      "j: Epoch 438, loss: 0.0051, val mf1: 0.4955, (best 0.5369)\n",
      "C: Epoch 439, loss: 0.5054, val mf1: 0.5333, (best 0.5453)\n",
      "s: Epoch 439, loss: 0.0099, val mf1: 0.8535, (best 0.8866)\n",
      "j: Epoch 439, loss: 0.0051, val mf1: 0.4955, (best 0.5369)\n",
      "C: Epoch 440, loss: 0.5042, val mf1: 0.5333, (best 0.5453)\n",
      "s: Epoch 440, loss: 0.0094, val mf1: 0.8535, (best 0.8866)\n",
      "j: Epoch 440, loss: 0.0051, val mf1: 0.4955, (best 0.5369)\n",
      "C: Epoch 441, loss: 0.5020, val mf1: 0.5333, (best 0.5453)\n",
      "s: Epoch 441, loss: 0.0090, val mf1: 0.8535, (best 0.8866)\n",
      "j: Epoch 441, loss: 0.0051, val mf1: 0.4955, (best 0.5369)\n",
      "C: Epoch 442, loss: 0.5127, val mf1: 0.5369, (best 0.5453)\n",
      "s: Epoch 442, loss: 0.0081, val mf1: 0.8535, (best 0.8866)\n",
      "j: Epoch 442, loss: 0.0051, val mf1: 0.4955, (best 0.5369)\n",
      "C: Epoch 443, loss: 0.5036, val mf1: 0.5300, (best 0.5453)\n",
      "s: Epoch 443, loss: 0.0100, val mf1: 0.8535, (best 0.8866)\n",
      "j: Epoch 443, loss: 0.0051, val mf1: 0.4955, (best 0.5369)\n",
      "C: Epoch 444, loss: 0.5053, val mf1: 0.5300, (best 0.5453)\n",
      "s: Epoch 444, loss: 0.0078, val mf1: 0.8535, (best 0.8866)\n",
      "j: Epoch 444, loss: 0.0051, val mf1: 0.4955, (best 0.5369)\n",
      "C: Epoch 445, loss: 0.5057, val mf1: 0.5300, (best 0.5453)\n",
      "s: Epoch 445, loss: 0.0082, val mf1: 0.8259, (best 0.8866)\n",
      "j: Epoch 445, loss: 0.0051, val mf1: 0.4955, (best 0.5369)\n",
      "C: Epoch 446, loss: 0.5075, val mf1: 0.5269, (best 0.5453)\n",
      "s: Epoch 446, loss: 0.0087, val mf1: 0.8259, (best 0.8866)\n",
      "j: Epoch 446, loss: 0.0051, val mf1: 0.4955, (best 0.5369)\n",
      "C: Epoch 447, loss: 0.5102, val mf1: 0.5269, (best 0.5453)\n",
      "s: Epoch 447, loss: 0.0086, val mf1: 0.8535, (best 0.8866)\n",
      "j: Epoch 447, loss: 0.0051, val mf1: 0.4955, (best 0.5369)\n",
      "C: Epoch 448, loss: 0.5108, val mf1: 0.4946, (best 0.5453)\n",
      "s: Epoch 448, loss: 0.0075, val mf1: 0.8535, (best 0.8866)\n",
      "j: Epoch 448, loss: 0.0051, val mf1: 0.4955, (best 0.5369)\n"
     ]
    },
    {
     "name": "stderr",
     "output_type": "stream",
     "text": [
      "C:\\ProgramData\\anaconda3\\lib\\site-packages\\sklearn\\metrics\\_classification.py:1531: UndefinedMetricWarning: Precision is ill-defined and being set to 0.0 due to no predicted samples. Use `zero_division` parameter to control this behavior.\n",
      "  _warn_prf(average, modifier, f\"{metric.capitalize()} is\", len(result))\n",
      "C:\\ProgramData\\anaconda3\\lib\\site-packages\\sklearn\\metrics\\_classification.py:1531: UndefinedMetricWarning: Precision is ill-defined and being set to 0.0 due to no predicted samples. Use `zero_division` parameter to control this behavior.\n",
      "  _warn_prf(average, modifier, f\"{metric.capitalize()} is\", len(result))\n"
     ]
    },
    {
     "name": "stdout",
     "output_type": "stream",
     "text": [
      "C: Epoch 449, loss: 0.5086, val mf1: 0.4946, (best 0.5453)\n",
      "s: Epoch 449, loss: 0.0073, val mf1: 0.8535, (best 0.8866)\n",
      "j: Epoch 449, loss: 0.0051, val mf1: 0.4955, (best 0.5369)\n",
      "C: Epoch 450, loss: 0.5071, val mf1: 0.5300, (best 0.5453)\n",
      "s: Epoch 450, loss: 0.0089, val mf1: 0.8535, (best 0.8866)\n",
      "j: Epoch 450, loss: 0.0051, val mf1: 0.4955, (best 0.5369)\n",
      "C: Epoch 451, loss: 0.5052, val mf1: 0.5300, (best 0.5453)\n",
      "s: Epoch 451, loss: 0.0087, val mf1: 0.8535, (best 0.8866)\n",
      "j: Epoch 451, loss: 0.0051, val mf1: 0.4955, (best 0.5369)\n",
      "C: Epoch 452, loss: 0.5056, val mf1: 0.5300, (best 0.5453)\n",
      "s: Epoch 452, loss: 0.0097, val mf1: 0.8535, (best 0.8866)\n",
      "j: Epoch 452, loss: 0.0051, val mf1: 0.4955, (best 0.5369)\n",
      "C: Epoch 453, loss: 0.5051, val mf1: 0.5300, (best 0.5453)\n",
      "s: Epoch 453, loss: 0.0110, val mf1: 0.8535, (best 0.8866)\n",
      "j: Epoch 453, loss: 0.0051, val mf1: 0.4955, (best 0.5369)\n",
      "C: Epoch 454, loss: 0.5039, val mf1: 0.5300, (best 0.5453)\n",
      "s: Epoch 454, loss: 0.0116, val mf1: 0.8387, (best 0.8866)\n",
      "j: Epoch 454, loss: 0.0051, val mf1: 0.4955, (best 0.5369)\n",
      "C: Epoch 455, loss: 0.5007, val mf1: 0.5300, (best 0.5453)\n",
      "s: Epoch 455, loss: 0.0116, val mf1: 0.8259, (best 0.8866)\n",
      "j: Epoch 455, loss: 0.0051, val mf1: 0.4955, (best 0.5369)\n",
      "C: Epoch 456, loss: 0.5133, val mf1: 0.5333, (best 0.5453)\n",
      "s: Epoch 456, loss: 0.0113, val mf1: 0.8259, (best 0.8866)\n",
      "j: Epoch 456, loss: 0.0051, val mf1: 0.4955, (best 0.5369)\n",
      "C: Epoch 457, loss: 0.5033, val mf1: 0.5300, (best 0.5453)\n",
      "s: Epoch 457, loss: 0.0104, val mf1: 0.8259, (best 0.8866)\n",
      "j: Epoch 457, loss: 0.0051, val mf1: 0.4955, (best 0.5369)\n",
      "C: Epoch 458, loss: 0.5057, val mf1: 0.5300, (best 0.5453)\n",
      "s: Epoch 458, loss: 0.0099, val mf1: 0.8259, (best 0.8866)\n",
      "j: Epoch 458, loss: 0.0051, val mf1: 0.4955, (best 0.5369)\n",
      "C: Epoch 459, loss: 0.5064, val mf1: 0.5300, (best 0.5453)\n",
      "s: Epoch 459, loss: 0.0090, val mf1: 0.8259, (best 0.8866)\n",
      "j: Epoch 459, loss: 0.0051, val mf1: 0.4955, (best 0.5369)\n",
      "C: Epoch 460, loss: 0.5105, val mf1: 0.5239, (best 0.5453)\n",
      "s: Epoch 460, loss: 0.0075, val mf1: 0.8259, (best 0.8866)\n",
      "j: Epoch 460, loss: 0.0051, val mf1: 0.4955, (best 0.5369)\n",
      "C: Epoch 461, loss: 0.5118, val mf1: 0.5211, (best 0.5453)\n",
      "s: Epoch 461, loss: 0.0130, val mf1: 0.8387, (best 0.8866)\n",
      "j: Epoch 461, loss: 0.0051, val mf1: 0.4955, (best 0.5369)\n",
      "C: Epoch 462, loss: 0.5115, val mf1: 0.5211, (best 0.5453)\n",
      "s: Epoch 462, loss: 0.0088, val mf1: 0.8259, (best 0.8866)\n",
      "j: Epoch 462, loss: 0.0051, val mf1: 0.4955, (best 0.5369)\n"
     ]
    },
    {
     "name": "stderr",
     "output_type": "stream",
     "text": [
      "C:\\ProgramData\\anaconda3\\lib\\site-packages\\sklearn\\metrics\\_classification.py:1531: UndefinedMetricWarning: Precision is ill-defined and being set to 0.0 due to no predicted samples. Use `zero_division` parameter to control this behavior.\n",
      "  _warn_prf(average, modifier, f\"{metric.capitalize()} is\", len(result))\n"
     ]
    },
    {
     "name": "stdout",
     "output_type": "stream",
     "text": [
      "C: Epoch 463, loss: 0.5104, val mf1: 0.4946, (best 0.5453)\n",
      "s: Epoch 463, loss: 0.0104, val mf1: 0.8535, (best 0.8866)\n",
      "j: Epoch 463, loss: 0.0051, val mf1: 0.4955, (best 0.5369)\n",
      "C: Epoch 464, loss: 0.5079, val mf1: 0.5269, (best 0.5453)\n",
      "s: Epoch 464, loss: 0.0113, val mf1: 0.8535, (best 0.8866)\n",
      "j: Epoch 464, loss: 0.0051, val mf1: 0.4955, (best 0.5369)\n",
      "C: Epoch 465, loss: 0.5056, val mf1: 0.5300, (best 0.5453)\n",
      "s: Epoch 465, loss: 0.0121, val mf1: 0.8413, (best 0.8866)\n",
      "j: Epoch 465, loss: 0.0051, val mf1: 0.4955, (best 0.5369)\n",
      "C: Epoch 466, loss: 0.5054, val mf1: 0.5300, (best 0.5453)\n",
      "s: Epoch 466, loss: 0.0124, val mf1: 0.8413, (best 0.8866)\n",
      "j: Epoch 466, loss: 0.0051, val mf1: 0.4955, (best 0.5369)\n",
      "C: Epoch 467, loss: 0.5061, val mf1: 0.5300, (best 0.5453)\n",
      "s: Epoch 467, loss: 0.0116, val mf1: 0.8413, (best 0.8866)\n",
      "j: Epoch 467, loss: 0.0051, val mf1: 0.4955, (best 0.5369)\n",
      "C: Epoch 468, loss: 0.5051, val mf1: 0.5300, (best 0.5453)\n",
      "s: Epoch 468, loss: 0.0109, val mf1: 0.8413, (best 0.8866)\n",
      "j: Epoch 468, loss: 0.0051, val mf1: 0.4955, (best 0.5369)\n",
      "C: Epoch 469, loss: 0.5005, val mf1: 0.5300, (best 0.5453)\n",
      "s: Epoch 469, loss: 0.0102, val mf1: 0.8259, (best 0.8866)\n",
      "j: Epoch 469, loss: 0.0051, val mf1: 0.4955, (best 0.5369)\n",
      "C: Epoch 470, loss: 0.5272, val mf1: 0.5333, (best 0.5453)\n",
      "s: Epoch 470, loss: 0.0099, val mf1: 0.8259, (best 0.8866)\n",
      "j: Epoch 470, loss: 0.0051, val mf1: 0.4955, (best 0.5369)\n",
      "C: Epoch 471, loss: 0.5048, val mf1: 0.5300, (best 0.5453)\n",
      "s: Epoch 471, loss: 0.0089, val mf1: 0.8259, (best 0.8866)\n",
      "j: Epoch 471, loss: 0.0051, val mf1: 0.4955, (best 0.5369)\n",
      "C: Epoch 472, loss: 0.5057, val mf1: 0.5300, (best 0.5453)\n",
      "s: Epoch 472, loss: 0.0071, val mf1: 0.8387, (best 0.8866)\n",
      "j: Epoch 472, loss: 0.0051, val mf1: 0.4955, (best 0.5369)\n",
      "C: Epoch 473, loss: 0.5118, val mf1: 0.5239, (best 0.5453)\n",
      "s: Epoch 473, loss: 0.0121, val mf1: 0.8535, (best 0.8866)\n",
      "j: Epoch 473, loss: 0.0051, val mf1: 0.4955, (best 0.5369)\n",
      "C: Epoch 474, loss: 0.5213, val mf1: 0.5211, (best 0.5453)\n",
      "s: Epoch 474, loss: 0.0082, val mf1: 0.8387, (best 0.8866)\n",
      "j: Epoch 474, loss: 0.0051, val mf1: 0.4955, (best 0.5369)\n",
      "C: Epoch 475, loss: 0.5224, val mf1: 0.5211, (best 0.5453)\n",
      "s: Epoch 475, loss: 0.0096, val mf1: 0.8387, (best 0.8866)\n",
      "j: Epoch 475, loss: 0.0051, val mf1: 0.4955, (best 0.5369)\n",
      "C: Epoch 476, loss: 0.5234, val mf1: 0.4946, (best 0.5453)\n",
      "s: Epoch 476, loss: 0.0109, val mf1: 0.8413, (best 0.8866)\n",
      "j: Epoch 476, loss: 0.0051, val mf1: 0.4955, (best 0.5369)\n"
     ]
    },
    {
     "name": "stderr",
     "output_type": "stream",
     "text": [
      "C:\\ProgramData\\anaconda3\\lib\\site-packages\\sklearn\\metrics\\_classification.py:1531: UndefinedMetricWarning: Precision is ill-defined and being set to 0.0 due to no predicted samples. Use `zero_division` parameter to control this behavior.\n",
      "  _warn_prf(average, modifier, f\"{metric.capitalize()} is\", len(result))\n"
     ]
    },
    {
     "name": "stdout",
     "output_type": "stream",
     "text": [
      "C: Epoch 477, loss: 0.5241, val mf1: 0.4946, (best 0.5453)\n",
      "s: Epoch 477, loss: 0.0123, val mf1: 0.8694, (best 0.8866)\n",
      "j: Epoch 477, loss: 0.0051, val mf1: 0.4955, (best 0.5369)\n",
      "C: Epoch 478, loss: 0.5235, val mf1: 0.5211, (best 0.5453)\n",
      "s: Epoch 478, loss: 0.0114, val mf1: 0.8535, (best 0.8866)\n",
      "j: Epoch 478, loss: 0.0051, val mf1: 0.4955, (best 0.5369)\n",
      "C: Epoch 479, loss: 0.5228, val mf1: 0.5211, (best 0.5453)\n",
      "s: Epoch 479, loss: 0.0107, val mf1: 0.8535, (best 0.8866)\n",
      "j: Epoch 479, loss: 0.0051, val mf1: 0.4955, (best 0.5369)\n",
      "C: Epoch 480, loss: 0.5235, val mf1: 0.5211, (best 0.5453)\n",
      "s: Epoch 480, loss: 0.0101, val mf1: 0.8535, (best 0.8866)\n",
      "j: Epoch 480, loss: 0.0051, val mf1: 0.4955, (best 0.5369)\n",
      "C: Epoch 481, loss: 0.5250, val mf1: 0.5211, (best 0.5453)\n",
      "s: Epoch 481, loss: 0.0096, val mf1: 0.8535, (best 0.8866)\n",
      "j: Epoch 481, loss: 0.0051, val mf1: 0.4955, (best 0.5369)\n",
      "C: Epoch 482, loss: 0.5254, val mf1: 0.5211, (best 0.5453)\n",
      "s: Epoch 482, loss: 0.0089, val mf1: 0.8535, (best 0.8866)\n",
      "j: Epoch 482, loss: 0.0051, val mf1: 0.4955, (best 0.5369)\n",
      "C: Epoch 483, loss: 0.5247, val mf1: 0.5239, (best 0.5453)\n",
      "s: Epoch 483, loss: 0.0072, val mf1: 0.8535, (best 0.8866)\n",
      "j: Epoch 483, loss: 0.0051, val mf1: 0.4955, (best 0.5369)\n",
      "C: Epoch 484, loss: 0.5239, val mf1: 0.5211, (best 0.5453)\n",
      "s: Epoch 484, loss: 0.0094, val mf1: 0.8387, (best 0.8866)\n",
      "j: Epoch 484, loss: 0.0051, val mf1: 0.4955, (best 0.5369)\n",
      "C: Epoch 485, loss: 0.5233, val mf1: 0.5211, (best 0.5453)\n",
      "s: Epoch 485, loss: 0.0096, val mf1: 0.8387, (best 0.8866)\n",
      "j: Epoch 485, loss: 0.0051, val mf1: 0.4955, (best 0.5369)\n",
      "C: Epoch 486, loss: 0.5224, val mf1: 0.5211, (best 0.5453)\n",
      "s: Epoch 486, loss: 0.0085, val mf1: 0.8535, (best 0.8866)\n",
      "j: Epoch 486, loss: 0.0051, val mf1: 0.4955, (best 0.5369)\n",
      "C: Epoch 487, loss: 0.5228, val mf1: 0.5211, (best 0.5453)\n",
      "s: Epoch 487, loss: 0.0094, val mf1: 0.8535, (best 0.8866)\n",
      "j: Epoch 487, loss: 0.0051, val mf1: 0.4955, (best 0.5369)\n",
      "C: Epoch 488, loss: 0.5153, val mf1: 0.5239, (best 0.5453)\n",
      "s: Epoch 488, loss: 0.0111, val mf1: 0.8694, (best 0.8866)\n",
      "j: Epoch 488, loss: 0.0051, val mf1: 0.4955, (best 0.5369)\n",
      "C: Epoch 489, loss: 0.5127, val mf1: 0.5239, (best 0.5453)\n",
      "s: Epoch 489, loss: 0.0124, val mf1: 0.8694, (best 0.8866)\n",
      "j: Epoch 489, loss: 0.0051, val mf1: 0.4955, (best 0.5369)\n",
      "C: Epoch 490, loss: 0.5127, val mf1: 0.5300, (best 0.5453)\n",
      "s: Epoch 490, loss: 0.0123, val mf1: 0.8535, (best 0.8866)\n",
      "j: Epoch 490, loss: 0.0051, val mf1: 0.4955, (best 0.5369)\n",
      "C: Epoch 491, loss: 0.5116, val mf1: 0.5269, (best 0.5453)\n",
      "s: Epoch 491, loss: 0.0118, val mf1: 0.8535, (best 0.8866)\n",
      "j: Epoch 491, loss: 0.0051, val mf1: 0.4955, (best 0.5369)\n",
      "C: Epoch 492, loss: 0.5095, val mf1: 0.5239, (best 0.5453)\n",
      "s: Epoch 492, loss: 0.0111, val mf1: 0.8535, (best 0.8866)\n",
      "j: Epoch 492, loss: 0.0051, val mf1: 0.4955, (best 0.5369)\n",
      "C: Epoch 493, loss: 0.5202, val mf1: 0.5269, (best 0.5453)\n",
      "s: Epoch 493, loss: 0.0107, val mf1: 0.8535, (best 0.8866)\n",
      "j: Epoch 493, loss: 0.0051, val mf1: 0.4955, (best 0.5369)\n",
      "C: Epoch 494, loss: 0.5103, val mf1: 0.5211, (best 0.5453)\n",
      "s: Epoch 494, loss: 0.0105, val mf1: 0.8259, (best 0.8866)\n",
      "j: Epoch 494, loss: 0.0051, val mf1: 0.4955, (best 0.5369)\n",
      "C: Epoch 495, loss: 0.5129, val mf1: 0.5185, (best 0.5453)\n",
      "s: Epoch 495, loss: 0.0098, val mf1: 0.8259, (best 0.8866)\n",
      "j: Epoch 495, loss: 0.0051, val mf1: 0.4955, (best 0.5369)\n",
      "C: Epoch 496, loss: 0.5119, val mf1: 0.5211, (best 0.5453)\n",
      "s: Epoch 496, loss: 0.0090, val mf1: 0.8259, (best 0.8866)\n",
      "j: Epoch 496, loss: 0.0050, val mf1: 0.4955, (best 0.5369)\n",
      "C: Epoch 497, loss: 0.5114, val mf1: 0.5239, (best 0.5453)\n",
      "s: Epoch 497, loss: 0.0079, val mf1: 0.8535, (best 0.8866)\n",
      "j: Epoch 497, loss: 0.0050, val mf1: 0.4955, (best 0.5369)\n",
      "C: Epoch 498, loss: 0.5115, val mf1: 0.5269, (best 0.5453)\n",
      "s: Epoch 498, loss: 0.0090, val mf1: 0.8535, (best 0.8866)\n",
      "j: Epoch 498, loss: 0.0050, val mf1: 0.4955, (best 0.5369)\n",
      "C: Epoch 499, loss: 0.5113, val mf1: 0.5269, (best 0.5453)\n",
      "s: Epoch 499, loss: 0.0081, val mf1: 0.8535, (best 0.8866)\n",
      "j: Epoch 499, loss: 0.0050, val mf1: 0.4955, (best 0.5369)\n",
      "time cost:  80.1011118888855 s\n",
      "Test_c: REC 0.00 PRE 0.00 MF1 45.93 AUC 57.69\n",
      "Test_s: REC 46.43 PRE 86.67 MF1 79.46 AUC 93.36\n",
      "Test_j: REC 0.00 PRE 0.00 MF1 48.28 AUC 49.79\n",
      "MF1-mean_c: 45.93, MF1-std: 0.00, AUC-mean: 57.69, AUC-std: 0.00\n",
      "MF1-mean_s: 79.46, MF1-std: 0.00, AUC-mean: 93.36, AUC-std: 0.00\n",
      "MF1-mean_j: 48.28, MF1-std: 0.00, AUC-mean: 49.79, AUC-std: 0.00\n"
     ]
    }
   ],
   "source": [
    "h_feats_c = args.hid_dim_c\n",
    "in_feats_c = data.x.shape[1]\n",
    "h_feats_s = args.hid_dim_s\n",
    "in_feats_s = neighbor_degree_simiarity_features.shape[1]\n",
    "h_feats_j = args.hid_dim_j\n",
    "in_feats_j = neighbor_degree_simiarity_features.shape[1]\n",
    "num_classes = 2\n",
    "\n",
    "if args.run == 0:\n",
    "    model_c = BWGNN_C(in_feats_c, h_feats_c, num_classes, graph,  d = args.order)\n",
    "    model_s = BWGNN_S(in_feats_s, h_feats_s, num_classes, graph,  d = args.order)\n",
    "    model_j = BWGNN_J(in_feats_j, h_feats_j, num_classes, graph,  d = args.order)\n",
    "    \n",
    "    train(model_c, model_s, model_j, data, neighbor_degree_simiarity_features, ys, yj, args)\n",
    "\n",
    "else:\n",
    "    final_mf1s_c, final_aucs_c,final_mf1s_s, final_aucs_s, final_mf1s_j, final_aucs_j= [], [], [], [], [], []\n",
    "    for tt in range(args.run):\n",
    "\n",
    "        #in_feats 特征点维度；h_feats：隐层维度；num_classes：节点分类数（nomal，anomaly）\n",
    "        model_c = BWGNN_C(in_feats_c, h_feats_c, num_classes, graph, d = args.order)\n",
    "        model_s = BWGNN_S(in_feats_s, h_feats_s, num_classes, graph, d = args.order)\n",
    "        model_j = BWGNN_J(in_feats_j, h_feats_j, num_classes, graph, d = args.order)\n",
    "        mf1_c, auc_c, mf1_s, auc_s, mf1_j, auc_j = train(model_c, model_s, model_j, data, neighbor_degree_simiarity_features, ys, yj, args)\n",
    "        \n",
    "        final_mf1s_c.append(mf1_c)\n",
    "        final_aucs_c.append(auc_c)\n",
    "        final_mf1s_s.append(mf1_s)\n",
    "        final_aucs_s.append(auc_s)\n",
    "        final_mf1s_j.append(mf1_j)\n",
    "        final_aucs_j.append(auc_j)\n",
    "    final_mf1s_c = np.array(final_mf1s_c)\n",
    "    final_aucs_c = np.array(final_aucs_c)\n",
    "    # np.std :计算全局标准差\n",
    "    print('MF1-mean_c: {:.2f}, MF1-std: {:.2f}, AUC-mean: {:.2f}, AUC-std: {:.2f}'.format(100 * np.mean(final_mf1s_c),\n",
    "    100 * np.std(final_mf1s_c),\n",
    "                                                               100 * np.mean(final_aucs_c), 100 * np.std(final_aucs_c)))\n",
    "\n",
    "    final_mf1s_s = np.array(final_mf1s_s)\n",
    "    final_aucs_s = np.array(final_aucs_s)\n",
    "    # np.std :计算全局标准差\n",
    "    print('MF1-mean_s: {:.2f}, MF1-std: {:.2f}, AUC-mean: {:.2f}, AUC-std: {:.2f}'.format(100 * np.mean(final_mf1s_s),\n",
    "                                                                                            100 * np.std(final_mf1s_s),\n",
    "                                                               100 * np.mean(final_aucs_s), 100 * np.std(final_aucs_s)))\n",
    "\n",
    "    final_mf1s_j = np.array(final_mf1s_j)\n",
    "    final_aucs_j = np.array(final_aucs_j)\n",
    "    # np.std :计算全局标准差\n",
    "    print('MF1-mean_j: {:.2f}, MF1-std: {:.2f}, AUC-mean: {:.2f}, AUC-std: {:.2f}'.format(100 * np.mean(final_mf1s_j),\n",
    "                                                                                            100 * np.std(final_mf1s_j),\n",
    "                                                               100 * np.mean(final_aucs_j), 100 * np.std(final_aucs_j)))"
   ]
  },
  {
   "cell_type": "code",
   "execution_count": null,
   "id": "9ba750fa-0a57-4178-a98d-0577639772c6",
   "metadata": {},
   "outputs": [],
   "source": []
  },
  {
   "cell_type": "code",
   "execution_count": null,
   "id": "b0d505d2-263f-4c3f-8602-71abc11e03ba",
   "metadata": {},
   "outputs": [],
   "source": []
  }
 ],
 "metadata": {
  "kernelspec": {
   "display_name": "Python [conda env:base] *",
   "language": "python",
   "name": "conda-base-py"
  },
  "language_info": {
   "codemirror_mode": {
    "name": "ipython",
    "version": 3
   },
   "file_extension": ".py",
   "mimetype": "text/x-python",
   "name": "python",
   "nbconvert_exporter": "python",
   "pygments_lexer": "ipython3",
   "version": "3.10.0"
  }
 },
 "nbformat": 4,
 "nbformat_minor": 5
}
